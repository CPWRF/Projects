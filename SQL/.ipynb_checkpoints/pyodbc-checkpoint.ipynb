{
 "cells": [
  {
   "cell_type": "code",
   "execution_count": 55,
   "id": "b1e47de8",
   "metadata": {},
   "outputs": [],
   "source": [
    "import pyodbc\n",
    "import pandas as pd\n",
    "import seaborn as sns\n",
    "import matplotlib.pyplot as plt"
   ]
  },
  {
   "cell_type": "code",
   "execution_count": 102,
   "id": "96d72be1",
   "metadata": {},
   "outputs": [
    {
     "data": {
      "text/html": [
       "<div>\n",
       "<style scoped>\n",
       "    .dataframe tbody tr th:only-of-type {\n",
       "        vertical-align: middle;\n",
       "    }\n",
       "\n",
       "    .dataframe tbody tr th {\n",
       "        vertical-align: top;\n",
       "    }\n",
       "\n",
       "    .dataframe thead th {\n",
       "        text-align: right;\n",
       "    }\n",
       "</style>\n",
       "<table border=\"1\" class=\"dataframe\">\n",
       "  <thead>\n",
       "    <tr style=\"text-align: right;\">\n",
       "      <th></th>\n",
       "      <th>Item77</th>\n",
       "      <th>tDatetime</th>\n",
       "    </tr>\n",
       "  </thead>\n",
       "  <tbody>\n",
       "    <tr>\n",
       "      <th>0</th>\n",
       "      <td>101837.750000</td>\n",
       "      <td>2022-03-02 01:57:55</td>\n",
       "    </tr>\n",
       "    <tr>\n",
       "      <th>1</th>\n",
       "      <td>0.000000</td>\n",
       "      <td>2022-03-02 02:00:35</td>\n",
       "    </tr>\n",
       "    <tr>\n",
       "      <th>2</th>\n",
       "      <td>0.000000</td>\n",
       "      <td>2022-03-02 02:00:50</td>\n",
       "    </tr>\n",
       "    <tr>\n",
       "      <th>3</th>\n",
       "      <td>0.029999</td>\n",
       "      <td>2022-03-02 02:00:50</td>\n",
       "    </tr>\n",
       "    <tr>\n",
       "      <th>4</th>\n",
       "      <td>0.000000</td>\n",
       "      <td>2022-03-02 02:00:30</td>\n",
       "    </tr>\n",
       "    <tr>\n",
       "      <th>...</th>\n",
       "      <td>...</td>\n",
       "      <td>...</td>\n",
       "    </tr>\n",
       "    <tr>\n",
       "      <th>40986</th>\n",
       "      <td>30.000000</td>\n",
       "      <td>2022-03-08 04:54:27</td>\n",
       "    </tr>\n",
       "    <tr>\n",
       "      <th>40987</th>\n",
       "      <td>30.000000</td>\n",
       "      <td>2022-03-08 04:55:30</td>\n",
       "    </tr>\n",
       "    <tr>\n",
       "      <th>40988</th>\n",
       "      <td>30.000000</td>\n",
       "      <td>2022-03-08 04:55:45</td>\n",
       "    </tr>\n",
       "    <tr>\n",
       "      <th>40989</th>\n",
       "      <td>30.000000</td>\n",
       "      <td>2022-03-08 04:56:02</td>\n",
       "    </tr>\n",
       "    <tr>\n",
       "      <th>40990</th>\n",
       "      <td>30.000000</td>\n",
       "      <td>2022-03-08 04:56:21</td>\n",
       "    </tr>\n",
       "  </tbody>\n",
       "</table>\n",
       "<p>40991 rows × 2 columns</p>\n",
       "</div>"
      ],
      "text/plain": [
       "              Item77           tDatetime\n",
       "0      101837.750000 2022-03-02 01:57:55\n",
       "1           0.000000 2022-03-02 02:00:35\n",
       "2           0.000000 2022-03-02 02:00:50\n",
       "3           0.029999 2022-03-02 02:00:50\n",
       "4           0.000000 2022-03-02 02:00:30\n",
       "...              ...                 ...\n",
       "40986      30.000000 2022-03-08 04:54:27\n",
       "40987      30.000000 2022-03-08 04:55:30\n",
       "40988      30.000000 2022-03-08 04:55:45\n",
       "40989      30.000000 2022-03-08 04:56:02\n",
       "40990      30.000000 2022-03-08 04:56:21\n",
       "\n",
       "[40991 rows x 2 columns]"
      ]
     },
     "execution_count": 102,
     "metadata": {},
     "output_type": "execute_result"
    }
   ],
   "source": [
    "server = 'ATE_SERVER' \n",
    "database = 'ate_db_tblfinal_new' \n",
    "username = 'ate_oper' \n",
    "password = 'ate.oper' \n",
    "cnxn = pyodbc.connect('DRIVER={SQL Server};SERVER='+server+';DATABASE='+database+';UID='+username+';PWD='+ password)\n",
    "cursor = cnxn.cursor()\n",
    "query = \"SELECT Item77, tDatetime FROM dbo.TblFinal where (tDateTime between '2022-03-01 12:00:00:00' and '2022-03-10 23:30:00:00') and (ProductName like 'DESCENT G1%');\"\n",
    "# Item77=CN by ref.\n",
    "df = pd.read_sql(query, cnxn)\n",
    "df"
   ]
  },
  {
   "cell_type": "code",
   "execution_count": 103,
   "id": "10e091e0",
   "metadata": {},
   "outputs": [],
   "source": [
    "df = df[(df['Item77']<20)&(df['Item77']>-20)]"
   ]
  },
  {
   "cell_type": "code",
   "execution_count": 109,
   "id": "e1828cf6",
   "metadata": {},
   "outputs": [
    {
     "name": "stderr",
     "output_type": "stream",
     "text": [
      "<ipython-input-109-65cbb3e28126>:1: SettingWithCopyWarning: \n",
      "A value is trying to be set on a copy of a slice from a DataFrame.\n",
      "Try using .loc[row_indexer,col_indexer] = value instead\n",
      "\n",
      "See the caveats in the documentation: https://pandas.pydata.org/pandas-docs/stable/user_guide/indexing.html#returning-a-view-versus-a-copy\n",
      "  df['day'] = df['tDatetime'].dt.day\n"
     ]
    }
   ],
   "source": [
    "df['day'] = df['tDatetime'].dt.day"
   ]
  },
  {
   "cell_type": "code",
   "execution_count": 110,
   "id": "290eb3a3",
   "metadata": {},
   "outputs": [
    {
     "data": {
      "text/html": [
       "<div>\n",
       "<style scoped>\n",
       "    .dataframe tbody tr th:only-of-type {\n",
       "        vertical-align: middle;\n",
       "    }\n",
       "\n",
       "    .dataframe tbody tr th {\n",
       "        vertical-align: top;\n",
       "    }\n",
       "\n",
       "    .dataframe thead th {\n",
       "        text-align: right;\n",
       "    }\n",
       "</style>\n",
       "<table border=\"1\" class=\"dataframe\">\n",
       "  <thead>\n",
       "    <tr style=\"text-align: right;\">\n",
       "      <th></th>\n",
       "      <th>Item77</th>\n",
       "      <th>tDatetime</th>\n",
       "      <th>day</th>\n",
       "    </tr>\n",
       "  </thead>\n",
       "  <tbody>\n",
       "    <tr>\n",
       "      <th>1</th>\n",
       "      <td>0.000000</td>\n",
       "      <td>2022-03-02 02:00:35</td>\n",
       "      <td>2</td>\n",
       "    </tr>\n",
       "    <tr>\n",
       "      <th>2</th>\n",
       "      <td>0.000000</td>\n",
       "      <td>2022-03-02 02:00:50</td>\n",
       "      <td>2</td>\n",
       "    </tr>\n",
       "    <tr>\n",
       "      <th>3</th>\n",
       "      <td>0.029999</td>\n",
       "      <td>2022-03-02 02:00:50</td>\n",
       "      <td>2</td>\n",
       "    </tr>\n",
       "    <tr>\n",
       "      <th>4</th>\n",
       "      <td>0.000000</td>\n",
       "      <td>2022-03-02 02:00:30</td>\n",
       "      <td>2</td>\n",
       "    </tr>\n",
       "    <tr>\n",
       "      <th>5</th>\n",
       "      <td>0.000000</td>\n",
       "      <td>2022-03-02 02:00:28</td>\n",
       "      <td>2</td>\n",
       "    </tr>\n",
       "    <tr>\n",
       "      <th>...</th>\n",
       "      <td>...</td>\n",
       "      <td>...</td>\n",
       "      <td>...</td>\n",
       "    </tr>\n",
       "    <tr>\n",
       "      <th>40923</th>\n",
       "      <td>0.000000</td>\n",
       "      <td>2022-03-07 04:07:49</td>\n",
       "      <td>7</td>\n",
       "    </tr>\n",
       "    <tr>\n",
       "      <th>40924</th>\n",
       "      <td>0.000000</td>\n",
       "      <td>2022-03-07 04:08:35</td>\n",
       "      <td>7</td>\n",
       "    </tr>\n",
       "    <tr>\n",
       "      <th>40925</th>\n",
       "      <td>0.000000</td>\n",
       "      <td>2022-03-07 04:11:11</td>\n",
       "      <td>7</td>\n",
       "    </tr>\n",
       "    <tr>\n",
       "      <th>40926</th>\n",
       "      <td>0.000000</td>\n",
       "      <td>2022-03-07 04:13:39</td>\n",
       "      <td>7</td>\n",
       "    </tr>\n",
       "    <tr>\n",
       "      <th>40927</th>\n",
       "      <td>0.000000</td>\n",
       "      <td>2022-03-07 04:17:19</td>\n",
       "      <td>7</td>\n",
       "    </tr>\n",
       "  </tbody>\n",
       "</table>\n",
       "<p>32175 rows × 3 columns</p>\n",
       "</div>"
      ],
      "text/plain": [
       "         Item77           tDatetime  day\n",
       "1      0.000000 2022-03-02 02:00:35    2\n",
       "2      0.000000 2022-03-02 02:00:50    2\n",
       "3      0.029999 2022-03-02 02:00:50    2\n",
       "4      0.000000 2022-03-02 02:00:30    2\n",
       "5      0.000000 2022-03-02 02:00:28    2\n",
       "...         ...                 ...  ...\n",
       "40923  0.000000 2022-03-07 04:07:49    7\n",
       "40924  0.000000 2022-03-07 04:08:35    7\n",
       "40925  0.000000 2022-03-07 04:11:11    7\n",
       "40926  0.000000 2022-03-07 04:13:39    7\n",
       "40927  0.000000 2022-03-07 04:17:19    7\n",
       "\n",
       "[32175 rows x 3 columns]"
      ]
     },
     "execution_count": 110,
     "metadata": {},
     "output_type": "execute_result"
    }
   ],
   "source": [
    "df"
   ]
  },
  {
   "cell_type": "code",
   "execution_count": 114,
   "id": "e76e06b5",
   "metadata": {},
   "outputs": [
    {
     "data": {
      "text/plain": [
       "<AxesSubplot:xlabel='day'>"
      ]
     },
     "execution_count": 114,
     "metadata": {},
     "output_type": "execute_result"
    },
    {
     "data": {
      "image/png": "[encoded data removed]",
      "text/plain": [
       "<Figure size 432x288 with 1 Axes>"
      ]
     },
     "metadata": {
      "needs_background": "light"
     },
     "output_type": "display_data"
    }
   ],
   "source": [
    "df.groupby('day').mean().plot()"
   ]
  },
  {
   "cell_type": "code",
   "execution_count": null,
   "id": "62049b9a",
   "metadata": {},
   "outputs": [],
   "source": []
  },
  {
   "cell_type": "code",
   "execution_count": 94,
   "id": "07d5ad67",
   "metadata": {},
   "outputs": [
    {
     "data": {
      "text/plain": [
       "count    18.000000\n",
       "mean      3.014445\n",
       "std       0.751080\n",
       "min       2.500001\n",
       "25%       2.580000\n",
       "50%       2.650000\n",
       "75%       3.112501\n",
       "max       5.180001\n",
       "Name: Item77, dtype: float64"
      ]
     },
     "execution_count": 94,
     "metadata": {},
     "output_type": "execute_result"
    }
   ],
   "source": [
    "df.Item77.describe()"
   ]
  },
  {
   "cell_type": "code",
   "execution_count": 96,
   "id": "5d8cd992",
   "metadata": {},
   "outputs": [
    {
     "data": {
      "text/plain": [
       "(0.0, 5.0)"
      ]
     },
     "execution_count": 96,
     "metadata": {},
     "output_type": "execute_result"
    },
    {
     "data": {
      "image/png": "[encoded data removed]",
      "text/plain": [
       "<Figure size 432x288 with 1 Axes>"
      ]
     },
     "metadata": {
      "needs_background": "light"
     },
     "output_type": "display_data"
    }
   ],
   "source": [
    "sns.histplot(df.Item77, bins=20)\n",
    "plt.xlim(0, 5)"
   ]
  },
  {
   "cell_type": "code",
   "execution_count": null,
   "id": "1a6a9e05",
   "metadata": {},
   "outputs": [],
   "source": []
  }
 ],
 "metadata": {
  "kernelspec": {
   "display_name": "Python 3",
   "language": "python",
   "name": "python3"
  },
  "language_info": {
   "codemirror_mode": {
    "name": "ipython",
    "version": 3
   },
   "file_extension": ".py",
   "mimetype": "text/x-python",
   "name": "python",
   "nbconvert_exporter": "python",
   "pygments_lexer": "ipython3",
   "version": "3.8.8"
  }
 },
 "nbformat": 4,
 "nbformat_minor": 5
}
