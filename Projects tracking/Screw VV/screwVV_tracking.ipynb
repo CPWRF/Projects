{
 "cells": [
  {
   "cell_type": "code",
   "execution_count": 1,
   "id": "b2cb5600",
   "metadata": {},
   "outputs": [],
   "source": [
    "import pyodbc\n",
    "from numpy import vectorize\n",
    "import pandas as pd\n",
    "import matplotlib.pyplot as plt\n",
    "from pandas.tseries.offsets import BDay\n",
    "from datetime import datetime\n",
    "from os import getcwd\n",
    "from sqlalchemy.engine import URL\n",
    "from sqlalchemy import create_engine\n",
    "from UliPlot.XLSX import auto_adjust_xlsx_column_width"
   ]
  },
  {
   "cell_type": "markdown",
   "id": "c6104b35",
   "metadata": {},
   "source": [
    "# SQL"
   ]
  },
  {
   "cell_type": "code",
   "execution_count": 2,
   "id": "8f0266fe",
   "metadata": {
    "lines_to_next_cell": 2
   },
   "outputs": [],
   "source": [
    "# Get GMLA list and GMLA system date\n",
    "cklist_confirm_query = \"\"\" \n",
    "SELECT [projectSizeId]\n",
    "      ,[PROJECT_SIZE_NAME] as 'Project_Name'\n",
    "      ,[PROJECT_CATEGORY] as 'Segment'\n",
    "      ,LEFT([typeName],4) + Right([typeName],1) as 'Phase'\n",
    "      ,[status]\n",
    "      /*,[kickOffMeetingDate]*/\n",
    "      ,[baseOverDueDate] as 'actualCloseMeetingDate'\n",
    "      ,[submitDate] as 'actualGMLASubmitDate'\n",
    "      /*,[IsByPass]*/\n",
    "  FROM [PR_WEB2].[dbo].[T_GMLA_CKLIST_CONFIRM]\n",
    "\n",
    "  LEFT JOIN [PR_WEB2].[dbo].[T_PS_ProdSizeRelateInfo]\n",
    "  on projectSizeId = PROJECT_SIZE_ID\n",
    "  /* Join project names and segment */\n",
    "\n",
    "  LEFT JOIN [PR_WEB2].[dbo].[T_GMLA_BS_VERSION_TYPE]\n",
    "  ON typeId = [PR_WEB2].[dbo].[T_GMLA_BS_VERSION_TYPE].id\n",
    "  /* Join GMLA#1/#2/#3 name*/\n",
    "\n",
    "  WHERE [IsByPass] = '0'\n",
    "\"\"\"\n",
    "\n",
    "# Get design review date which sync PM system\n",
    "project_schedule_query = \"\"\" \n",
    "SELECT [ProjectSizeId] as 'projectSizeId'\n",
    "      /*\n",
    "      ,[PROJECT_NAME]\n",
    "      ,[T_GT_ProjectSchedule].[TASK_ID]\n",
    "      */\n",
    "      ,[DESC_OF_TASK]\n",
    "      /*\n",
    "      ,[T_GT_TaskBaseInfo].[Note]\n",
    "      ,[IsPM]\n",
    "      */\n",
    "      ,DATEADD(DAY,-21,[Current_Date]) as 'estCloseMeetingDate'\n",
    "      /* Design review -21 days */\n",
    "  FROM [PR_WEB2].[dbo].[T_GT_ProjectSchedule]\n",
    "\n",
    "  LEFT JOIN [PR_WEB2].[dbo].[T_GT_TaskBaseInfo] \n",
    "  ON [T_GT_ProjectSchedule].[TASK_ID] = [T_GT_TaskBaseInfo].TASK_ID\n",
    "\n",
    "  LEFT JOIN [PR_WEB2].[dbo].[T_PS_ProdSizeRelateInfo]\n",
    "  on ProjectSizeId = [T_PS_ProdSizeRelateInfo].PROJECT_SIZE_ID\n",
    "  \n",
    "  WHERE DESC_OF_TASK\n",
    "  IN ('Mechanical Design Review','Factory Prototype Design Review','Pilot Run Design Review')\n",
    "\"\"\"\n",
    "\n",
    "# Get GMLA D-17 screwVV questionnaire judgement\n",
    "screwVV_query = \"\"\"\n",
    "SELECT [projectSizeId]\n",
    "      ,[PROJECT_SIZE_NAME]\n",
    "      ,[no]\n",
    "      /*,[questionnaire]*/\n",
    "      ,[result]\n",
    "      ,[reviewerFeedBack]\n",
    "      ,[reviewerUserUpdated] as 'reviewer'\n",
    "  FROM [PR_WEB2].[dbo].[T_GMLA_CKLIST]\n",
    "  LEFT JOIN [PR_WEB2].[dbo].[T_PS_ProdSizeRelateInfo]\n",
    "  on ([T_PS_ProdSizeRelateInfo].PROJECT_SIZE_ID = [T_GMLA_CKLIST].projectSizeId)\n",
    "  WHERE no in ('2.D-17','3.D-17')\n",
    "\"\"\""
   ]
  },
  {
   "cell_type": "code",
   "execution_count": 3,
   "id": "237d6f9b",
   "metadata": {},
   "outputs": [],
   "source": [
    "connection_string = \"DRIVER={SQL Server};SERVER=T1-PE-SUPPORT;DATABASE=PR_WEB2;UID=pimes2;PWD=LhZEv9JtGsZNX\"\n",
    "connection_url = URL.create(\"mssql+pyodbc\", query={\"odbc_connect\": connection_string})\n",
    "engine = create_engine(connection_url)\n",
    "\n",
    "cklist_confirm = pd.read_sql(cklist_confirm_query, engine)\n",
    "project_schedule = pd.read_sql(project_schedule_query, engine, parse_dates='estCloseMeetingDate')\n",
    "screwVV = pd.read_sql(screwVV_query, engine)"
   ]
  },
  {
   "cell_type": "markdown",
   "id": "b7756e31",
   "metadata": {},
   "source": [
    "# cKlist_confirm"
   ]
  },
  {
   "cell_type": "code",
   "execution_count": 4,
   "id": "0ca7b04f",
   "metadata": {},
   "outputs": [],
   "source": [
    "cklist_confirm.loc[cklist_confirm.actualCloseMeetingDate.str.startswith('0001-01', na=False),'actualCloseMeetingDate'] = None"
   ]
  },
  {
   "cell_type": "code",
   "execution_count": 5,
   "id": "f7016a3b",
   "metadata": {},
   "outputs": [
    {
     "data": {
      "text/html": [
       "<div>\n",
       "<style scoped>\n",
       "    .dataframe tbody tr th:only-of-type {\n",
       "        vertical-align: middle;\n",
       "    }\n",
       "\n",
       "    .dataframe tbody tr th {\n",
       "        vertical-align: top;\n",
       "    }\n",
       "\n",
       "    .dataframe thead th {\n",
       "        text-align: right;\n",
       "    }\n",
       "</style>\n",
       "<table border=\"1\" class=\"dataframe\">\n",
       "  <thead>\n",
       "    <tr style=\"text-align: right;\">\n",
       "      <th></th>\n",
       "      <th>projectSizeId</th>\n",
       "      <th>Project_Name</th>\n",
       "      <th>Segment</th>\n",
       "      <th>Phase</th>\n",
       "      <th>status</th>\n",
       "      <th>actualCloseMeetingDate</th>\n",
       "      <th>actualGMLASubmitDate</th>\n",
       "    </tr>\n",
       "  </thead>\n",
       "  <tbody>\n",
       "    <tr>\n",
       "      <th>0</th>\n",
       "      <td>766</td>\n",
       "      <td>GAD 13</td>\n",
       "      <td>Aviation</td>\n",
       "      <td>GMLA1</td>\n",
       "      <td>0</td>\n",
       "      <td>NaT</td>\n",
       "      <td>NaT</td>\n",
       "    </tr>\n",
       "    <tr>\n",
       "      <th>1</th>\n",
       "      <td>766</td>\n",
       "      <td>GAD 13</td>\n",
       "      <td>Aviation</td>\n",
       "      <td>GMLA2</td>\n",
       "      <td>0</td>\n",
       "      <td>NaT</td>\n",
       "      <td>NaT</td>\n",
       "    </tr>\n",
       "    <tr>\n",
       "      <th>2</th>\n",
       "      <td>766</td>\n",
       "      <td>GAD 13</td>\n",
       "      <td>Aviation</td>\n",
       "      <td>GMLA3</td>\n",
       "      <td>0</td>\n",
       "      <td>NaT</td>\n",
       "      <td>NaT</td>\n",
       "    </tr>\n",
       "    <tr>\n",
       "      <th>3</th>\n",
       "      <td>909</td>\n",
       "      <td>One Battery Bike Project</td>\n",
       "      <td>Fitness</td>\n",
       "      <td>GMLA3</td>\n",
       "      <td>1</td>\n",
       "      <td>2021-02-05 00:00:00+08:00</td>\n",
       "      <td>2021-03-04 15:19:42.207827800+08:00</td>\n",
       "    </tr>\n",
       "    <tr>\n",
       "      <th>4</th>\n",
       "      <td>936</td>\n",
       "      <td>Edge 1040</td>\n",
       "      <td>Fitness</td>\n",
       "      <td>GMLA1</td>\n",
       "      <td>1</td>\n",
       "      <td>2021-02-05 00:00:00+08:00</td>\n",
       "      <td>2021-02-19 17:29:48.395736400+08:00</td>\n",
       "    </tr>\n",
       "  </tbody>\n",
       "</table>\n",
       "</div>"
      ],
      "text/plain": [
       "   projectSizeId              Project_Name   Segment  Phase  status  \\\n",
       "0            766                    GAD 13  Aviation  GMLA1       0   \n",
       "1            766                    GAD 13  Aviation  GMLA2       0   \n",
       "2            766                    GAD 13  Aviation  GMLA3       0   \n",
       "3            909  One Battery Bike Project   Fitness  GMLA3       1   \n",
       "4            936                 Edge 1040   Fitness  GMLA1       1   \n",
       "\n",
       "     actualCloseMeetingDate                actualGMLASubmitDate  \n",
       "0                       NaT                                 NaT  \n",
       "1                       NaT                                 NaT  \n",
       "2                       NaT                                 NaT  \n",
       "3 2021-02-05 00:00:00+08:00 2021-03-04 15:19:42.207827800+08:00  \n",
       "4 2021-02-05 00:00:00+08:00 2021-02-19 17:29:48.395736400+08:00  "
      ]
     },
     "execution_count": 5,
     "metadata": {},
     "output_type": "execute_result"
    }
   ],
   "source": [
    "cklist_confirm.actualCloseMeetingDate = pd.to_datetime(cklist_confirm.actualCloseMeetingDate, utc=True).dt.tz_convert('Asia/Taipei')\n",
    "cklist_confirm.actualGMLASubmitDate = pd.to_datetime(cklist_confirm.actualGMLASubmitDate,utc=True).dt.tz_convert('Asia/Taipei')\n",
    "cklist_confirm.head()"
   ]
  },
  {
   "cell_type": "code",
   "execution_count": 6,
   "id": "25bf43d3",
   "metadata": {},
   "outputs": [],
   "source": [
    "#Project id 1124 is aborted\n",
    "cklist_confirm = cklist_confirm[cklist_confirm.projectSizeId != 1124]"
   ]
  },
  {
   "cell_type": "markdown",
   "id": "0dcf1b69",
   "metadata": {},
   "source": [
    "Merge project_schedule"
   ]
  },
  {
   "cell_type": "code",
   "execution_count": 7,
   "id": "0abed3a5",
   "metadata": {
    "lines_to_next_cell": 2
   },
   "outputs": [],
   "source": [
    "project_schedule.estCloseMeetingDate = project_schedule.estCloseMeetingDate.dt.tz_convert('Asia/Taipei')"
   ]
  },
  {
   "cell_type": "code",
   "execution_count": 8,
   "id": "9879d5f4",
   "metadata": {
    "lines_to_next_cell": 2
   },
   "outputs": [],
   "source": [
    "project_schedule['Phase'] = project_schedule.DESC_OF_TASK.map(\n",
    "    {'Mechanical Design Review':'GMLA1','Factory Prototype Design Review':'GMLA2','Pilot Run Design Review':'GMLA3'})\n",
    "project_schedule.drop_duplicates(subset=['projectSizeId','Phase'], inplace=True)\n",
    "# Some project have multi-design review date in PMsystem"
   ]
  },
  {
   "cell_type": "code",
   "execution_count": 9,
   "id": "59ecc8d7",
   "metadata": {
    "lines_to_next_cell": 2
   },
   "outputs": [],
   "source": [
    "overall = pd.merge(left=cklist_confirm, right=project_schedule, how='left', on=['projectSizeId','Phase'])\n",
    "overall.drop('DESC_OF_TASK', axis=1, inplace=True)"
   ]
  },
  {
   "cell_type": "code",
   "execution_count": 10,
   "id": "59b588d4",
   "metadata": {
    "lines_to_next_cell": 2
   },
   "outputs": [],
   "source": [
    "def mergeCloseMeeting(actualCloseMeetingDate, estCloseMeetingDate):\n",
    "    if actualCloseMeetingDate is pd.NaT:\n",
    "        return estCloseMeetingDate\n",
    "    else:\n",
    "        return actualCloseMeetingDate\n",
    "overall['mergedCloseMeetingDate'] = vectorize(mergeCloseMeeting)(overall.actualCloseMeetingDate, overall.estCloseMeetingDate)\n",
    "#overall['mergedCloseMeetingDate'] = overall[['actualCloseMeetingDate','estCloseMeetingDate']].apply(lambda overall : mergeCloseMeeting(overall['actualCloseMeetingDate'], overall['estCloseMeetingDate']),axis=1)"
   ]
  },
  {
   "cell_type": "code",
   "execution_count": 11,
   "id": "11df7832",
   "metadata": {
    "lines_to_next_cell": 2
   },
   "outputs": [],
   "source": [
    "overall['targetGMLASubmitDate'] = (overall.mergedCloseMeetingDate + BDay(8)).dt.date\n",
    "overall.iloc[:,5:] = overall.iloc[:,5:].apply(lambda time: pd.to_datetime(time).dt.date)\n",
    "overall.status = overall.status.map({1:'Complete',0:'Incomplete'})"
   ]
  },
  {
   "cell_type": "code",
   "execution_count": 12,
   "id": "81cdff7e",
   "metadata": {},
   "outputs": [],
   "source": [
    "overall.drop(['actualCloseMeetingDate','estCloseMeetingDate','mergedCloseMeetingDate'],axis=1, inplace=True)"
   ]
  },
  {
   "cell_type": "code",
   "execution_count": 13,
   "id": "950c8235",
   "metadata": {},
   "outputs": [
    {
     "data": {
      "text/html": [
       "<div>\n",
       "<style scoped>\n",
       "    .dataframe tbody tr th:only-of-type {\n",
       "        vertical-align: middle;\n",
       "    }\n",
       "\n",
       "    .dataframe tbody tr th {\n",
       "        vertical-align: top;\n",
       "    }\n",
       "\n",
       "    .dataframe thead th {\n",
       "        text-align: right;\n",
       "    }\n",
       "</style>\n",
       "<table border=\"1\" class=\"dataframe\">\n",
       "  <thead>\n",
       "    <tr style=\"text-align: right;\">\n",
       "      <th></th>\n",
       "      <th>projectSizeId</th>\n",
       "      <th>Project_Name</th>\n",
       "      <th>Segment</th>\n",
       "      <th>Phase</th>\n",
       "      <th>status</th>\n",
       "      <th>actualGMLASubmitDate</th>\n",
       "      <th>targetGMLASubmitDate</th>\n",
       "    </tr>\n",
       "  </thead>\n",
       "  <tbody>\n",
       "    <tr>\n",
       "      <th>0</th>\n",
       "      <td>766</td>\n",
       "      <td>GAD 13</td>\n",
       "      <td>Aviation</td>\n",
       "      <td>GMLA1</td>\n",
       "      <td>Incomplete</td>\n",
       "      <td>NaT</td>\n",
       "      <td>NaT</td>\n",
       "    </tr>\n",
       "    <tr>\n",
       "      <th>1</th>\n",
       "      <td>766</td>\n",
       "      <td>GAD 13</td>\n",
       "      <td>Aviation</td>\n",
       "      <td>GMLA2</td>\n",
       "      <td>Incomplete</td>\n",
       "      <td>NaT</td>\n",
       "      <td>NaT</td>\n",
       "    </tr>\n",
       "    <tr>\n",
       "      <th>2</th>\n",
       "      <td>766</td>\n",
       "      <td>GAD 13</td>\n",
       "      <td>Aviation</td>\n",
       "      <td>GMLA3</td>\n",
       "      <td>Incomplete</td>\n",
       "      <td>NaT</td>\n",
       "      <td>NaT</td>\n",
       "    </tr>\n",
       "    <tr>\n",
       "      <th>3</th>\n",
       "      <td>909</td>\n",
       "      <td>One Battery Bike Project</td>\n",
       "      <td>Fitness</td>\n",
       "      <td>GMLA3</td>\n",
       "      <td>Complete</td>\n",
       "      <td>2021-03-04</td>\n",
       "      <td>2021-02-17</td>\n",
       "    </tr>\n",
       "    <tr>\n",
       "      <th>4</th>\n",
       "      <td>936</td>\n",
       "      <td>Edge 1040</td>\n",
       "      <td>Fitness</td>\n",
       "      <td>GMLA1</td>\n",
       "      <td>Complete</td>\n",
       "      <td>2021-02-19</td>\n",
       "      <td>2021-02-17</td>\n",
       "    </tr>\n",
       "  </tbody>\n",
       "</table>\n",
       "</div>"
      ],
      "text/plain": [
       "   projectSizeId              Project_Name   Segment  Phase      status  \\\n",
       "0            766                    GAD 13  Aviation  GMLA1  Incomplete   \n",
       "1            766                    GAD 13  Aviation  GMLA2  Incomplete   \n",
       "2            766                    GAD 13  Aviation  GMLA3  Incomplete   \n",
       "3            909  One Battery Bike Project   Fitness  GMLA3    Complete   \n",
       "4            936                 Edge 1040   Fitness  GMLA1    Complete   \n",
       "\n",
       "  actualGMLASubmitDate targetGMLASubmitDate  \n",
       "0                  NaT                  NaT  \n",
       "1                  NaT                  NaT  \n",
       "2                  NaT                  NaT  \n",
       "3           2021-03-04           2021-02-17  \n",
       "4           2021-02-19           2021-02-17  "
      ]
     },
     "execution_count": 13,
     "metadata": {},
     "output_type": "execute_result"
    }
   ],
   "source": [
    "overall.head()"
   ]
  },
  {
   "attachments": {},
   "cell_type": "markdown",
   "id": "b940c2c6",
   "metadata": {},
   "source": [
    "# Screw V&V"
   ]
  },
  {
   "cell_type": "code",
   "execution_count": 14,
   "id": "6dfff319",
   "metadata": {},
   "outputs": [],
   "source": [
    "screwVV['Phase'] = screwVV.no.apply(lambda no : 'GMLA2' if no.split('.')[0] == '2' else 'GMLA3' if no.split('.')[0] == '3' else None)\n",
    "screwVV.result = screwVV.result.map({0:0,1:0,3:1})"
   ]
  },
  {
   "cell_type": "code",
   "execution_count": 15,
   "id": "2187efb9",
   "metadata": {},
   "outputs": [
    {
     "data": {
      "text/html": [
       "<div>\n",
       "<style scoped>\n",
       "    .dataframe tbody tr th:only-of-type {\n",
       "        vertical-align: middle;\n",
       "    }\n",
       "\n",
       "    .dataframe tbody tr th {\n",
       "        vertical-align: top;\n",
       "    }\n",
       "\n",
       "    .dataframe thead th {\n",
       "        text-align: right;\n",
       "    }\n",
       "</style>\n",
       "<table border=\"1\" class=\"dataframe\">\n",
       "  <thead>\n",
       "    <tr style=\"text-align: right;\">\n",
       "      <th></th>\n",
       "      <th>projectSizeId</th>\n",
       "      <th>Phase</th>\n",
       "      <th>result</th>\n",
       "      <th>reviewerFeedBack</th>\n",
       "      <th>reviewer</th>\n",
       "    </tr>\n",
       "  </thead>\n",
       "  <tbody>\n",
       "    <tr>\n",
       "      <th>0</th>\n",
       "      <td>833</td>\n",
       "      <td>GMLA2</td>\n",
       "      <td>1</td>\n",
       "      <td>confirmed.</td>\n",
       "      <td>evelyn.wang@garmin.com</td>\n",
       "    </tr>\n",
       "    <tr>\n",
       "      <th>1</th>\n",
       "      <td>833</td>\n",
       "      <td>GMLA3</td>\n",
       "      <td>0</td>\n",
       "      <td>None</td>\n",
       "      <td>None</td>\n",
       "    </tr>\n",
       "    <tr>\n",
       "      <th>2</th>\n",
       "      <td>856</td>\n",
       "      <td>GMLA3</td>\n",
       "      <td>0</td>\n",
       "      <td>None</td>\n",
       "      <td>None</td>\n",
       "    </tr>\n",
       "    <tr>\n",
       "      <th>3</th>\n",
       "      <td>961</td>\n",
       "      <td>GMLA2</td>\n",
       "      <td>1</td>\n",
       "      <td>Screw V&amp;V is pass.</td>\n",
       "      <td>wendy.ni@garmin.com</td>\n",
       "    </tr>\n",
       "    <tr>\n",
       "      <th>4</th>\n",
       "      <td>961</td>\n",
       "      <td>GMLA3</td>\n",
       "      <td>0</td>\n",
       "      <td>None</td>\n",
       "      <td>None</td>\n",
       "    </tr>\n",
       "  </tbody>\n",
       "</table>\n",
       "</div>"
      ],
      "text/plain": [
       "   projectSizeId  Phase  result    reviewerFeedBack                reviewer\n",
       "0            833  GMLA2       1          confirmed.  evelyn.wang@garmin.com\n",
       "1            833  GMLA3       0                None                    None\n",
       "2            856  GMLA3       0                None                    None\n",
       "3            961  GMLA2       1  Screw V&V is pass.     wendy.ni@garmin.com\n",
       "4            961  GMLA3       0                None                    None"
      ]
     },
     "execution_count": 15,
     "metadata": {},
     "output_type": "execute_result"
    }
   ],
   "source": [
    "screwVV_tailor = screwVV[['projectSizeId','Phase','result','reviewerFeedBack','reviewer']]\n",
    "screwVV_tailor.head()"
   ]
  },
  {
   "cell_type": "code",
   "execution_count": 16,
   "id": "bca00c72",
   "metadata": {},
   "outputs": [
    {
     "data": {
      "text/html": [
       "<div>\n",
       "<style scoped>\n",
       "    .dataframe tbody tr th:only-of-type {\n",
       "        vertical-align: middle;\n",
       "    }\n",
       "\n",
       "    .dataframe tbody tr th {\n",
       "        vertical-align: top;\n",
       "    }\n",
       "\n",
       "    .dataframe thead th {\n",
       "        text-align: right;\n",
       "    }\n",
       "</style>\n",
       "<table border=\"1\" class=\"dataframe\">\n",
       "  <thead>\n",
       "    <tr style=\"text-align: right;\">\n",
       "      <th></th>\n",
       "      <th>projectSizeId</th>\n",
       "      <th>Project_Name</th>\n",
       "      <th>Segment</th>\n",
       "      <th>Phase</th>\n",
       "      <th>status</th>\n",
       "      <th>actualGMLASubmitDate</th>\n",
       "      <th>targetGMLASubmitDate</th>\n",
       "      <th>screwVV_Judgement</th>\n",
       "      <th>reviewerFeedBack</th>\n",
       "      <th>reviewer</th>\n",
       "    </tr>\n",
       "  </thead>\n",
       "  <tbody>\n",
       "    <tr>\n",
       "      <th>0</th>\n",
       "      <td>1012</td>\n",
       "      <td>Approach R50</td>\n",
       "      <td>Outdoor</td>\n",
       "      <td>GMLA2</td>\n",
       "      <td>Incomplete</td>\n",
       "      <td>NaT</td>\n",
       "      <td>NaT</td>\n",
       "      <td>0</td>\n",
       "      <td>None</td>\n",
       "      <td>None</td>\n",
       "    </tr>\n",
       "    <tr>\n",
       "      <th>1</th>\n",
       "      <td>1036</td>\n",
       "      <td>Approach S70s</td>\n",
       "      <td>Outdoor</td>\n",
       "      <td>GMLA2</td>\n",
       "      <td>Incomplete</td>\n",
       "      <td>NaT</td>\n",
       "      <td>2023-01-23</td>\n",
       "      <td>0</td>\n",
       "      <td>None</td>\n",
       "      <td>None</td>\n",
       "    </tr>\n",
       "    <tr>\n",
       "      <th>2</th>\n",
       "      <td>1089</td>\n",
       "      <td>Venu 3</td>\n",
       "      <td>Fitness</td>\n",
       "      <td>GMLA2</td>\n",
       "      <td>Incomplete</td>\n",
       "      <td>NaT</td>\n",
       "      <td>2022-12-30</td>\n",
       "      <td>0</td>\n",
       "      <td>None</td>\n",
       "      <td>None</td>\n",
       "    </tr>\n",
       "    <tr>\n",
       "      <th>3</th>\n",
       "      <td>1092</td>\n",
       "      <td>EPIX PRO (Gen 2) 42mm</td>\n",
       "      <td>Outdoor</td>\n",
       "      <td>GMLA2</td>\n",
       "      <td>Complete</td>\n",
       "      <td>2022-10-24</td>\n",
       "      <td>2022-10-28</td>\n",
       "      <td>1</td>\n",
       "      <td>(Confirmed by DPQE)</td>\n",
       "      <td>aalto.lo@garmin.com</td>\n",
       "    </tr>\n",
       "    <tr>\n",
       "      <th>4</th>\n",
       "      <td>1092</td>\n",
       "      <td>EPIX PRO (Gen 2) 42mm</td>\n",
       "      <td>Outdoor</td>\n",
       "      <td>GMLA3</td>\n",
       "      <td>Incomplete</td>\n",
       "      <td>NaT</td>\n",
       "      <td>2023-01-11</td>\n",
       "      <td>0</td>\n",
       "      <td>None</td>\n",
       "      <td>None</td>\n",
       "    </tr>\n",
       "  </tbody>\n",
       "</table>\n",
       "</div>"
      ],
      "text/plain": [
       "   projectSizeId           Project_Name  Segment  Phase      status  \\\n",
       "0           1012           Approach R50  Outdoor  GMLA2  Incomplete   \n",
       "1           1036          Approach S70s  Outdoor  GMLA2  Incomplete   \n",
       "2           1089                 Venu 3  Fitness  GMLA2  Incomplete   \n",
       "3           1092  EPIX PRO (Gen 2) 42mm  Outdoor  GMLA2    Complete   \n",
       "4           1092  EPIX PRO (Gen 2) 42mm  Outdoor  GMLA3  Incomplete   \n",
       "\n",
       "  actualGMLASubmitDate targetGMLASubmitDate  screwVV_Judgement  \\\n",
       "0                  NaT                  NaT                  0   \n",
       "1                  NaT           2023-01-23                  0   \n",
       "2                  NaT           2022-12-30                  0   \n",
       "3           2022-10-24           2022-10-28                  1   \n",
       "4                  NaT           2023-01-11                  0   \n",
       "\n",
       "      reviewerFeedBack             reviewer  \n",
       "0                 None                 None  \n",
       "1                 None                 None  \n",
       "2                 None                 None  \n",
       "3  (Confirmed by DPQE)  aalto.lo@garmin.com  \n",
       "4                 None                 None  "
      ]
     },
     "execution_count": 16,
     "metadata": {},
     "output_type": "execute_result"
    }
   ],
   "source": [
    "overall_screwVV = pd.merge(left=overall, right=screwVV_tailor, left_on=['projectSizeId','Phase'], right_on=['projectSizeId','Phase'], how='inner')\n",
    "overall_screwVV.rename(columns={'result':'screwVV_Judgement'},inplace=True)\n",
    "overall_screwVV.head()"
   ]
  },
  {
   "cell_type": "markdown",
   "id": "0942290d",
   "metadata": {},
   "source": [
    "Complete rate"
   ]
  },
  {
   "cell_type": "code",
   "execution_count": 17,
   "id": "5582ba13",
   "metadata": {},
   "outputs": [],
   "source": [
    "complete = overall_screwVV.copy()\n"
   ]
  },
  {
   "cell_type": "code",
   "execution_count": 18,
   "id": "b95cf3c0",
   "metadata": {},
   "outputs": [],
   "source": [
    "complete['screwVV_Judgement2'] = complete.screwVV_Judgement"
   ]
  },
  {
   "cell_type": "code",
   "execution_count": 19,
   "id": "ed550e0f",
   "metadata": {},
   "outputs": [],
   "source": [
    "complete.actualGMLASubmitDate = pd.to_datetime(complete.actualGMLASubmitDate)\n",
    "complete = complete.set_index('actualGMLASubmitDate').resample(rule='BM').agg({'Project_Name':'count','screwVV_Judgement':'sum','screwVV_Judgement2':'count'})"
   ]
  },
  {
   "cell_type": "code",
   "execution_count": 20,
   "id": "aa663737",
   "metadata": {},
   "outputs": [],
   "source": [
    "complete['Complete_rate'] = 100*(complete['screwVV_Judgement2'] / complete['Project_Name']).round(2)\n",
    "complete['Pass_rate'] = 100*(complete['screwVV_Judgement'] / complete['Project_Name']).round(2)"
   ]
  },
  {
   "cell_type": "code",
   "execution_count": 21,
   "id": "ae8465e7",
   "metadata": {},
   "outputs": [
    {
     "data": {
      "text/plain": [
       "DatetimeIndex(['2022-10-31', '2022-11-30', '2022-12-30'], dtype='datetime64[ns]', name='actualGMLASubmitDate', freq=None)"
      ]
     },
     "execution_count": 21,
     "metadata": {},
     "output_type": "execute_result"
    }
   ],
   "source": [
    "complete.index"
   ]
  },
  {
   "cell_type": "code",
   "execution_count": 22,
   "id": "a126712f",
   "metadata": {},
   "outputs": [],
   "source": [
    "complete.index = complete.index.strftime('%y-%b')"
   ]
  },
  {
   "cell_type": "code",
   "execution_count": 23,
   "id": "c740711e",
   "metadata": {},
   "outputs": [
    {
     "data": {
      "text/html": [
       "<div>\n",
       "<style scoped>\n",
       "    .dataframe tbody tr th:only-of-type {\n",
       "        vertical-align: middle;\n",
       "    }\n",
       "\n",
       "    .dataframe tbody tr th {\n",
       "        vertical-align: top;\n",
       "    }\n",
       "\n",
       "    .dataframe thead th {\n",
       "        text-align: right;\n",
       "    }\n",
       "</style>\n",
       "<table border=\"1\" class=\"dataframe\">\n",
       "  <thead>\n",
       "    <tr style=\"text-align: right;\">\n",
       "      <th></th>\n",
       "      <th>Project_Name</th>\n",
       "      <th>screwVV_Judgement</th>\n",
       "      <th>screwVV_Judgement2</th>\n",
       "      <th>Complete_rate</th>\n",
       "      <th>Pass_rate</th>\n",
       "    </tr>\n",
       "    <tr>\n",
       "      <th>actualGMLASubmitDate</th>\n",
       "      <th></th>\n",
       "      <th></th>\n",
       "      <th></th>\n",
       "      <th></th>\n",
       "      <th></th>\n",
       "    </tr>\n",
       "  </thead>\n",
       "  <tbody>\n",
       "    <tr>\n",
       "      <th>22-Oct</th>\n",
       "      <td>5</td>\n",
       "      <td>5</td>\n",
       "      <td>5</td>\n",
       "      <td>100.0</td>\n",
       "      <td>100.0</td>\n",
       "    </tr>\n",
       "    <tr>\n",
       "      <th>22-Nov</th>\n",
       "      <td>13</td>\n",
       "      <td>12</td>\n",
       "      <td>13</td>\n",
       "      <td>100.0</td>\n",
       "      <td>92.0</td>\n",
       "    </tr>\n",
       "    <tr>\n",
       "      <th>22-Dec</th>\n",
       "      <td>7</td>\n",
       "      <td>7</td>\n",
       "      <td>7</td>\n",
       "      <td>100.0</td>\n",
       "      <td>100.0</td>\n",
       "    </tr>\n",
       "  </tbody>\n",
       "</table>\n",
       "</div>"
      ],
      "text/plain": [
       "                      Project_Name  screwVV_Judgement  screwVV_Judgement2  \\\n",
       "actualGMLASubmitDate                                                        \n",
       "22-Oct                           5                  5                   5   \n",
       "22-Nov                          13                 12                  13   \n",
       "22-Dec                           7                  7                   7   \n",
       "\n",
       "                      Complete_rate  Pass_rate  \n",
       "actualGMLASubmitDate                            \n",
       "22-Oct                        100.0      100.0  \n",
       "22-Nov                        100.0       92.0  \n",
       "22-Dec                        100.0      100.0  "
      ]
     },
     "execution_count": 23,
     "metadata": {},
     "output_type": "execute_result"
    }
   ],
   "source": [
    "complete"
   ]
  },
  {
   "cell_type": "code",
   "execution_count": 24,
   "id": "67457034",
   "metadata": {},
   "outputs": [
    {
     "data": {
      "image/png": "[encoded data removed]",
      "text/plain": [
       "<Figure size 1200x800 with 3 Axes>"
      ]
     },
     "metadata": {
      "needs_background": "light"
     },
     "output_type": "display_data"
    }
   ],
   "source": [
    "fig, ax1 = plt.subplots(dpi=200)\n",
    "ax2 = ax1.twinx()\n",
    "ax3 = ax1.twinx()\n",
    "ax3.sharey(ax2)\n",
    "\n",
    "# Barplot for project count\n",
    "plt.title('Screw V&V Complete rate and Pass rate')\n",
    "complete[['Project_Name','screwVV_Judgement2']].plot.bar(ax=ax1, alpha=0.7)\n",
    "ax1.set_ylabel(\"Q'ty(#)\")\n",
    "ax1.set_xlabel('Date')\n",
    "ax1.legend(['GMLA_Completed','screwVV_completed'],loc=(1.2,0.4))\n",
    "\n",
    "# Lineplot for complete rate\n",
    "complete['Complete_rate'].plot(ax=ax2, marker='o', color='black', style='--')\n",
    "ax2.set_ylim(top=100.5, bottom=80)\n",
    "ax2.set_ylabel(\"Rate(%)\")\n",
    "ax2.legend(loc=(1.2,0.3))\n",
    "\n",
    "complete['Pass_rate'].plot(ax=ax3, marker='o', color='grey', style='--')\n",
    "ax3.legend(loc=(1.2,0.2))\n",
    "\n",
    "# Rotate x-ticks\n",
    "ax1.xaxis.set_tick_params(rotation=45)"
   ]
  },
  {
   "cell_type": "markdown",
   "id": "8074a680",
   "metadata": {},
   "source": [
    "# Excel writer"
   ]
  },
  {
   "cell_type": "code",
   "execution_count": 25,
   "id": "8db7e69d",
   "metadata": {},
   "outputs": [],
   "source": [
    "with pd.ExcelWriter('screwVV_tracking.xlsx',engine='openpyxl') as writer:\n",
    "    overall_screwVV.to_excel(writer, sheet_name='overall_screwVV')\n",
    "    auto_adjust_xlsx_column_width(overall_screwVV, writer, sheet_name=\"overall_screwVV\", margin=6)"
   ]
  }
 ],
 "metadata": {
  "jupytext": {
   "cell_metadata_filter": "-all",
   "encoding": "# coding: utf-8",
   "executable": "/usr/bin/env python",
   "main_language": "python",
   "notebook_metadata_filter": "-all"
  },
  "kernelspec": {
   "display_name": "Python 3.8.10 ('workspace')",
   "language": "python",
   "name": "python3"
  },
  "language_info": {
   "codemirror_mode": {
    "name": "ipython",
    "version": 3
   },
   "file_extension": ".py",
   "mimetype": "text/x-python",
   "name": "python",
   "nbconvert_exporter": "python",
   "pygments_lexer": "ipython3",
   "version": "3.8.10 (default, May 19 2021, 13:12:57) [MSC v.1916 64 bit (AMD64)]"
  },
  "vscode": {
   "interpreter": {
    "hash": "d7ba5307f264c9d62b544121f5029238a64acfef4aaa56e4d1098951fb013dec"
   }
  }
 },
 "nbformat": 4,
 "nbformat_minor": 5
}
