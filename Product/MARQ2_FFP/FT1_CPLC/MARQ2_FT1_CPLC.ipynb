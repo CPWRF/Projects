{
 "cells": [
  {
   "cell_type": "code",
   "execution_count": 2,
   "metadata": {},
   "outputs": [],
   "source": [
    "import pandas as pd\n",
    "import matplotlib.pyplot as plt\n",
    "import seaborn as sns"
   ]
  },
  {
   "cell_type": "code",
   "execution_count": 3,
   "metadata": {},
   "outputs": [
    {
     "data": {
      "text/html": [
       "<div>\n",
       "<style scoped>\n",
       "    .dataframe tbody tr th:only-of-type {\n",
       "        vertical-align: middle;\n",
       "    }\n",
       "\n",
       "    .dataframe tbody tr th {\n",
       "        vertical-align: top;\n",
       "    }\n",
       "\n",
       "    .dataframe thead th {\n",
       "        text-align: right;\n",
       "    }\n",
       "</style>\n",
       "<table border=\"1\" class=\"dataframe\">\n",
       "  <thead>\n",
       "    <tr style=\"text-align: right;\">\n",
       "      <th></th>\n",
       "      <th>Reference</th>\n",
       "      <th>ItemNameType</th>\n",
       "      <th>StationID</th>\n",
       "      <th>SerialNumber</th>\n",
       "      <th>ProductName</th>\n",
       "      <th>Version</th>\n",
       "      <th>ExeInfo</th>\n",
       "      <th>Item56</th>\n",
       "      <th>Item56St</th>\n",
       "      <th>tDateTime</th>\n",
       "      <th>SO</th>\n",
       "      <th>Job_GPN</th>\n",
       "      <th>UserName</th>\n",
       "    </tr>\n",
       "  </thead>\n",
       "  <tbody>\n",
       "    <tr>\n",
       "      <th>0</th>\n",
       "      <td>400766986</td>\n",
       "      <td>15688</td>\n",
       "      <td>1</td>\n",
       "      <td>3422062070</td>\n",
       "      <td>MARQ GEN2 V09.10</td>\n",
       "      <td>9.1</td>\n",
       "      <td>[ITMXP.exe 1.0.12718.8372 ][MarQ2_FT1 2.2 2022...</td>\n",
       "      <td>0</td>\n",
       "      <td>2</td>\n",
       "      <td>2022-07-21 12:46:22+08:00</td>\n",
       "      <td>15937188</td>\n",
       "      <td>011-05817-00</td>\n",
       "      <td>25717</td>\n",
       "    </tr>\n",
       "    <tr>\n",
       "      <th>1</th>\n",
       "      <td>400766991</td>\n",
       "      <td>15688</td>\n",
       "      <td>2</td>\n",
       "      <td>3422062067</td>\n",
       "      <td>MARQ GEN2 V09.10</td>\n",
       "      <td>9.1</td>\n",
       "      <td>[ITMXP.exe 1.0.12718.8372 ][MarQ2_FT1 2.2 2022...</td>\n",
       "      <td>0</td>\n",
       "      <td>2</td>\n",
       "      <td>2022-07-21 12:46:23+08:00</td>\n",
       "      <td>15937188</td>\n",
       "      <td>011-05817-00</td>\n",
       "      <td>25717</td>\n",
       "    </tr>\n",
       "    <tr>\n",
       "      <th>2</th>\n",
       "      <td>400766994</td>\n",
       "      <td>15688</td>\n",
       "      <td>3</td>\n",
       "      <td>3422062050</td>\n",
       "      <td>MARQ GEN2 V09.10</td>\n",
       "      <td>9.1</td>\n",
       "      <td>[ITMXP.exe 1.0.12718.8372 ][MarQ2_FT1 2.2 2022...</td>\n",
       "      <td>0</td>\n",
       "      <td>2</td>\n",
       "      <td>2022-07-21 12:46:24+08:00</td>\n",
       "      <td>15937188</td>\n",
       "      <td>011-05817-00</td>\n",
       "      <td>25717</td>\n",
       "    </tr>\n",
       "    <tr>\n",
       "      <th>3</th>\n",
       "      <td>400766996</td>\n",
       "      <td>15688</td>\n",
       "      <td>4</td>\n",
       "      <td>3422062045</td>\n",
       "      <td>MARQ GEN2 V09.10</td>\n",
       "      <td>9.1</td>\n",
       "      <td>[ITMXP.exe 1.0.12718.8372 ][MarQ2_FT1 2.2 2022...</td>\n",
       "      <td>0</td>\n",
       "      <td>2</td>\n",
       "      <td>2022-07-21 12:46:25+08:00</td>\n",
       "      <td>15937188</td>\n",
       "      <td>011-05817-00</td>\n",
       "      <td>25717</td>\n",
       "    </tr>\n",
       "    <tr>\n",
       "      <th>4</th>\n",
       "      <td>400768825</td>\n",
       "      <td>15688</td>\n",
       "      <td>3</td>\n",
       "      <td>3422062050</td>\n",
       "      <td>MARQ GEN2 V09.10</td>\n",
       "      <td>9.1</td>\n",
       "      <td>[ITMXP.exe 1.0.12718.8372 ][MarQ2_FT1 2.2 2022...</td>\n",
       "      <td>769</td>\n",
       "      <td>1</td>\n",
       "      <td>2022-07-21 12:59:02+08:00</td>\n",
       "      <td>15937188</td>\n",
       "      <td>011-05817-00</td>\n",
       "      <td>25717</td>\n",
       "    </tr>\n",
       "  </tbody>\n",
       "</table>\n",
       "</div>"
      ],
      "text/plain": [
       "   Reference  ItemNameType  StationID  SerialNumber       ProductName  \\\n",
       "0  400766986         15688          1    3422062070  MARQ GEN2 V09.10   \n",
       "1  400766991         15688          2    3422062067  MARQ GEN2 V09.10   \n",
       "2  400766994         15688          3    3422062050  MARQ GEN2 V09.10   \n",
       "3  400766996         15688          4    3422062045  MARQ GEN2 V09.10   \n",
       "4  400768825         15688          3    3422062050  MARQ GEN2 V09.10   \n",
       "\n",
       "   Version                                            ExeInfo  Item56  \\\n",
       "0      9.1  [ITMXP.exe 1.0.12718.8372 ][MarQ2_FT1 2.2 2022...       0   \n",
       "1      9.1  [ITMXP.exe 1.0.12718.8372 ][MarQ2_FT1 2.2 2022...       0   \n",
       "2      9.1  [ITMXP.exe 1.0.12718.8372 ][MarQ2_FT1 2.2 2022...       0   \n",
       "3      9.1  [ITMXP.exe 1.0.12718.8372 ][MarQ2_FT1 2.2 2022...       0   \n",
       "4      9.1  [ITMXP.exe 1.0.12718.8372 ][MarQ2_FT1 2.2 2022...     769   \n",
       "\n",
       "   Item56St                 tDateTime        SO       Job_GPN  UserName  \n",
       "0         2 2022-07-21 12:46:22+08:00  15937188  011-05817-00     25717  \n",
       "1         2 2022-07-21 12:46:23+08:00  15937188  011-05817-00     25717  \n",
       "2         2 2022-07-21 12:46:24+08:00  15937188  011-05817-00     25717  \n",
       "3         2 2022-07-21 12:46:25+08:00  15937188  011-05817-00     25717  \n",
       "4         1 2022-07-21 12:59:02+08:00  15937188  011-05817-00     25717  "
      ]
     },
     "execution_count": 3,
     "metadata": {},
     "output_type": "execute_result"
    }
   ],
   "source": [
    "df = pd.read_excel('CPLC.xlsx')\n",
    "df.tDateTime = pd.to_datetime(df.tDateTime, utc=True).dt.tz_convert('Asia/Taipei')\n",
    "df.head()"
   ]
  },
  {
   "cell_type": "code",
   "execution_count": 3,
   "metadata": {},
   "outputs": [],
   "source": [
    "#df_d = df[df.duplicated(subset='SerialNumber', keep=False)].sort_values(['SerialNumber','tDateTime'])"
   ]
  },
  {
   "cell_type": "code",
   "execution_count": 15,
   "metadata": {},
   "outputs": [],
   "source": [
    "df['TestProgramVersion'] = df.ExeInfo.apply(lambda info : info.split('[')[2][:13])"
   ]
  },
  {
   "cell_type": "code",
   "execution_count": 22,
   "metadata": {},
   "outputs": [
    {
     "data": {
      "image/png": "[encoded data removed]",
      "text/plain": [
       "<Figure size 576x576 with 1 Axes>"
      ]
     },
     "metadata": {
      "needs_background": "light"
     },
     "output_type": "display_data"
    }
   ],
   "source": [
    "plt.figure(figsize=(8,8))\n",
    "ax = sns.countplot(data=df[df.Item56!=0], x='Item56', hue='TestProgramVersion')\n",
    "plt.legend(loc = 'upper left')\n",
    "\n",
    "for p in ax.patches:\n",
    "        ax.annotate('{:.0f}'.format(p.get_height()), (p.get_x()+0.16, p.get_height()+3))"
   ]
  }
 ],
 "metadata": {
  "kernelspec": {
   "display_name": "Python 3.8.10 ('workspace')",
   "language": "python",
   "name": "python3"
  },
  "language_info": {
   "codemirror_mode": {
    "name": "ipython",
    "version": 3
   },
   "file_extension": ".py",
   "mimetype": "text/x-python",
   "name": "python",
   "nbconvert_exporter": "python",
   "pygments_lexer": "ipython3",
   "version": "3.8.10"
  },
  "orig_nbformat": 4,
  "vscode": {
   "interpreter": {
    "hash": "d7ba5307f264c9d62b544121f5029238a64acfef4aaa56e4d1098951fb013dec"
   }
  }
 },
 "nbformat": 4,
 "nbformat_minor": 2
}
