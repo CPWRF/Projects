{
 "cells": [
  {
   "cell_type": "code",
   "execution_count": 134,
   "id": "b1e47de8",
   "metadata": {},
   "outputs": [],
   "source": [
    "import pyodbc\n",
    "import numpy as np\n",
    "import pandas as pd\n",
    "import matplotlib.pyplot as plt\n",
    "from pandas.tseries.offsets import BDay"
   ]
  },
  {
   "cell_type": "code",
   "execution_count": 135,
   "id": "3c43c39c",
   "metadata": {},
   "outputs": [],
   "source": [
    "#import os\n",
    "#def GetDesktopPath():\n",
    "#    return os.path.join(os.path.expanduser(\"~\"), 'Desktop')\n",
    "#path = GetDesktopPath()"
   ]
  },
  {
   "cell_type": "markdown",
   "id": "62624112",
   "metadata": {},
   "source": [
    "SQL"
   ]
  },
  {
   "cell_type": "code",
   "execution_count": 136,
   "id": "8414ac76",
   "metadata": {},
   "outputs": [],
   "source": [
    "cklist_confirm_query = \"\"\" \n",
    "SELECT [projectSizeId]\n",
    "      ,[PROJECT_SIZE_NAME] as 'Project_Name'\n",
    "      ,LEFT([typeName],4) + Right([typeName],1) as 'Phase'\n",
    "      ,[status]\n",
    "      ,[rejectReason]\n",
    "      /*,[kickOffMeetingDate]*/\n",
    "      ,[baseOverDueDate] as 'actualCloseMeetingDate'\n",
    "      ,[submitDate] as 'actualGMLASubmitDate'\n",
    "      /*,[IsByPass]*/\n",
    "  FROM [PR_WEB2].[dbo].[T_GMLA_CKLIST_CONFIRM]\n",
    "\n",
    "  LEFT JOIN [PR_WEB2].[dbo].[T_PS_ProdSizeRelateInfo]\n",
    "  on projectSizeId = PROJECT_SIZE_ID\n",
    "  /* Join project names */\n",
    "\n",
    "  LEFT JOIN [PR_WEB2].[dbo].[T_GMLA_BS_VERSION_TYPE]\n",
    "  ON typeId = [PR_WEB2].[dbo].[T_GMLA_BS_VERSION_TYPE].id\n",
    "  /* Join GMLA#1/#2/#3 name*/\n",
    "\n",
    "  WHERE [IsByPass] = '0'\n",
    "\"\"\"\n",
    "\n",
    "project_schedule_query = \"\"\" \n",
    "SELECT [ProjectSizeId] as 'projectSizeId'\n",
    "      /*\n",
    "      ,[PROJECT_NAME]\n",
    "      ,[T_GT_ProjectSchedule].[TASK_ID]\n",
    "      */\n",
    "      ,[DESC_OF_TASK]\n",
    "      /*\n",
    "      ,[T_GT_TaskBaseInfo].[Note]\n",
    "      ,[IsPM]\n",
    "      */\n",
    "      ,DATEADD(DAY,-21,[Current_Date]) as 'estCloseMeetingDate'\n",
    "      /* Design review -21 days */\n",
    "  FROM [PR_WEB2].[dbo].[T_GT_ProjectSchedule]\n",
    "\n",
    "  LEFT JOIN [PR_WEB2].[dbo].[T_GT_TaskBaseInfo] \n",
    "  ON [T_GT_ProjectSchedule].[TASK_ID] = [T_GT_TaskBaseInfo].TASK_ID\n",
    "\n",
    "  LEFT JOIN [PR_WEB2].[dbo].[T_PS_ProdSizeRelateInfo]\n",
    "  on ProjectSizeId = [T_PS_ProdSizeRelateInfo].PROJECT_SIZE_ID\n",
    "  \n",
    "  WHERE DESC_OF_TASK\n",
    "  IN ('Mechanical Design Review','Factory Prototype Design Review','Pilot Run Design Review')\n",
    "\"\"\"\n",
    "\n",
    "cklist_issue_query = \"\"\"\n",
    "SELECT [T_GMLA_CKLIST_ISSUE].[projectSizeId]\n",
    "      /*,[PROJECT_CATEGORY] as 'Segment'*/\n",
    "      ,[PROJECT_SIZE_NAME] as 'Project_Name'\n",
    "      ,LEFT([typeName],4) + Right([typeName],1) as 'Phase'\n",
    "      /*,[T_GMLA_CKLIST_ISSUE].[categoryId]*/\n",
    "      ,[riskType] as 'Risk'\n",
    "      /*,[categoryName] as 'Category'*/\n",
    "      /*,[T_GMLA_CKLIST_ISSUE].[id]*/\n",
    "      /*,[no] as 'No'*/\n",
    "      /*,[T_GMLA_CKLIST_ISSUE].[status]*/\n",
    "      /*,[T_GMLA_CKLIST_ISSUE].[updated_at]*/\n",
    "  FROM [PR_WEB2].[dbo].[T_GMLA_CKLIST_ISSUE]\n",
    "  \n",
    "  LEFT JOIN [PR_WEB2].[dbo].[T_PS_ProdSizeRelateInfo]\n",
    "  on projectSizeId = PROJECT_SIZE_ID\n",
    "  /* Join project names */\n",
    "  \n",
    "  LEFT JOIN [PR_WEB2].[dbo].[T_GMLA_BS_VERSION_TYPE]\n",
    "  ON typeId = [PR_WEB2].[dbo].[T_GMLA_BS_VERSION_TYPE].id\n",
    "  /* Join GMLA#1/#2/#3 name*/\n",
    "  \n",
    "  LEFT JOIN [PR_WEB2].[dbo].[T_GMLA_BS_CATEGORY]\n",
    "  ON [T_GMLA_CKLIST_ISSUE].categoryId=[T_GMLA_BS_CATEGORY].id\n",
    "  /* Join 6 category name via id */\n",
    "\n",
    "  LEFT JOIN [PR_WEB2].[dbo].[T_GMLA_CKLIST]\n",
    "  ON ([T_GMLA_CKLIST_ISSUE].[categoryId] = [T_GMLA_CKLIST].[categoryId]\n",
    "  AND [T_GMLA_CKLIST_ISSUE].id = [T_GMLA_CKLIST].id\n",
    "  AND [T_GMLA_CKLIST_ISSUE].projectSizeId = [T_GMLA_CKLIST].projectSizeId\n",
    "  AND [T_GMLA_CKLIST_ISSUE].typeId = [T_GMLA_CKLIST].typeId)\n",
    "  /* Join serval datas */\n",
    "\"\"\""
   ]
  },
  {
   "cell_type": "code",
   "execution_count": 137,
   "id": "96d72be1",
   "metadata": {},
   "outputs": [],
   "source": [
    "server = 'T1-PE-SUPPORT' \n",
    "database = 'PR_WEB2' \n",
    "username = 'pieng' \n",
    "password = 'Q2iT5cwHJW3FH'\n",
    "cnxn = pyodbc.connect('DRIVER={SQL Server};SERVER='+server+';DATABASE='+database+';UID='+username+';PWD='+ password)\n",
    "cursor = cnxn.cursor()\n",
    "cklist_confirm = pd.read_sql(cklist_confirm_query, cnxn)\n",
    "project_schedule = pd.read_sql(project_schedule_query, cnxn, parse_dates='estCloseMeetingDate')\n",
    "cklist_issue = pd.read_sql(cklist_issue_query, cnxn)"
   ]
  },
  {
   "cell_type": "markdown",
   "id": "cc7b10ef",
   "metadata": {},
   "source": [
    "Hanlde cklist_issue for project risk info."
   ]
  },
  {
   "cell_type": "code",
   "execution_count": 138,
   "id": "7c1e5e4a",
   "metadata": {},
   "outputs": [],
   "source": [
    "# Risk 4 = blue 1 star = Risk 2, replace blue star\n",
    "cklist_issue.Risk.replace(to_replace= 4,value = 2, inplace=True)"
   ]
  },
  {
   "cell_type": "code",
   "execution_count": 139,
   "id": "8e69e0e2",
   "metadata": {},
   "outputs": [],
   "source": [
    "cklist_issue = cklist_issue.sort_values('Risk', ascending=False).drop_duplicates(subset=['projectSizeId','Project_Name','Phase'], keep='first').sort_values('projectSizeId')"
   ]
  },
  {
   "cell_type": "markdown",
   "id": "c818c928",
   "metadata": {},
   "source": [
    "Handle cKlist_confirm"
   ]
  },
  {
   "cell_type": "code",
   "execution_count": 140,
   "id": "fe0f4ce9",
   "metadata": {},
   "outputs": [],
   "source": [
    "cklist_confirm.replace('0001-01-08 00:00:00.0000000 +08:00', np.nan, inplace=True)"
   ]
  },
  {
   "cell_type": "code",
   "execution_count": 141,
   "id": "df3ef084",
   "metadata": {},
   "outputs": [],
   "source": [
    "cklist_confirm.actualCloseMeetingDate = pd.to_datetime(cklist_confirm.actualCloseMeetingDate, utc=True).dt.tz_convert('Asia/Taipei').dt.date\n",
    "cklist_confirm.actualGMLASubmitDate = pd.to_datetime(cklist_confirm.actualGMLASubmitDate,utc=True).dt.tz_convert('Asia/Taipei').dt.date"
   ]
  },
  {
   "cell_type": "code",
   "execution_count": 142,
   "id": "617e0ab1",
   "metadata": {},
   "outputs": [
    {
     "data": {
      "text/html": [
       "<div>\n",
       "<style scoped>\n",
       "    .dataframe tbody tr th:only-of-type {\n",
       "        vertical-align: middle;\n",
       "    }\n",
       "\n",
       "    .dataframe tbody tr th {\n",
       "        vertical-align: top;\n",
       "    }\n",
       "\n",
       "    .dataframe thead th {\n",
       "        text-align: right;\n",
       "    }\n",
       "</style>\n",
       "<table border=\"1\" class=\"dataframe\">\n",
       "  <thead>\n",
       "    <tr style=\"text-align: right;\">\n",
       "      <th></th>\n",
       "      <th>projectSizeId</th>\n",
       "      <th>Project_Name</th>\n",
       "      <th>Phase</th>\n",
       "      <th>status</th>\n",
       "      <th>rejectReason</th>\n",
       "      <th>actualCloseMeetingDate</th>\n",
       "      <th>actualGMLASubmitDate</th>\n",
       "    </tr>\n",
       "  </thead>\n",
       "  <tbody>\n",
       "    <tr>\n",
       "      <th>0</th>\n",
       "      <td>766</td>\n",
       "      <td>GAD 13</td>\n",
       "      <td>GMLA1</td>\n",
       "      <td>0</td>\n",
       "      <td>None</td>\n",
       "      <td>NaT</td>\n",
       "      <td>NaT</td>\n",
       "    </tr>\n",
       "    <tr>\n",
       "      <th>1</th>\n",
       "      <td>766</td>\n",
       "      <td>GAD 13</td>\n",
       "      <td>GMLA2</td>\n",
       "      <td>0</td>\n",
       "      <td>None</td>\n",
       "      <td>NaT</td>\n",
       "      <td>NaT</td>\n",
       "    </tr>\n",
       "    <tr>\n",
       "      <th>2</th>\n",
       "      <td>766</td>\n",
       "      <td>GAD 13</td>\n",
       "      <td>GMLA3</td>\n",
       "      <td>0</td>\n",
       "      <td>None</td>\n",
       "      <td>NaT</td>\n",
       "      <td>NaT</td>\n",
       "    </tr>\n",
       "    <tr>\n",
       "      <th>3</th>\n",
       "      <td>775</td>\n",
       "      <td>zumo X</td>\n",
       "      <td>GMLA1</td>\n",
       "      <td>0</td>\n",
       "      <td>None</td>\n",
       "      <td>NaT</td>\n",
       "      <td>NaT</td>\n",
       "    </tr>\n",
       "    <tr>\n",
       "      <th>4</th>\n",
       "      <td>775</td>\n",
       "      <td>zumo X</td>\n",
       "      <td>GMLA2</td>\n",
       "      <td>0</td>\n",
       "      <td>None</td>\n",
       "      <td>NaT</td>\n",
       "      <td>NaT</td>\n",
       "    </tr>\n",
       "  </tbody>\n",
       "</table>\n",
       "</div>"
      ],
      "text/plain": [
       "   projectSizeId Project_Name  Phase  status rejectReason  \\\n",
       "0            766       GAD 13  GMLA1       0         None   \n",
       "1            766       GAD 13  GMLA2       0         None   \n",
       "2            766       GAD 13  GMLA3       0         None   \n",
       "3            775       zumo X  GMLA1       0         None   \n",
       "4            775       zumo X  GMLA2       0         None   \n",
       "\n",
       "  actualCloseMeetingDate actualGMLASubmitDate  \n",
       "0                    NaT                  NaT  \n",
       "1                    NaT                  NaT  \n",
       "2                    NaT                  NaT  \n",
       "3                    NaT                  NaT  \n",
       "4                    NaT                  NaT  "
      ]
     },
     "execution_count": 142,
     "metadata": {},
     "output_type": "execute_result"
    }
   ],
   "source": [
    "cklist_confirm.head()"
   ]
  },
  {
   "cell_type": "markdown",
   "id": "c83dd01a",
   "metadata": {},
   "source": [
    "Merge project_schedule"
   ]
  },
  {
   "cell_type": "code",
   "execution_count": 143,
   "id": "b7bbf4c9",
   "metadata": {},
   "outputs": [],
   "source": [
    "project_schedule.estCloseMeetingDate = project_schedule.estCloseMeetingDate.dt.tz_convert('Asia/Taipei').dt.date"
   ]
  },
  {
   "cell_type": "code",
   "execution_count": 144,
   "id": "76f45647",
   "metadata": {},
   "outputs": [],
   "source": [
    "project_schedule['Phase'] = project_schedule.DESC_OF_TASK.map(\n",
    "    {'Mechanical Design Review':'GMLA1','Factory Prototype Design Review':'GMLA2','Pilot Run Design Review':'GMLA3'})\n",
    "project_schedule.drop_duplicates(subset=['projectSizeId','Phase'], inplace=True)\n",
    "# Some project have multi-design review date in PMsystem"
   ]
  },
  {
   "cell_type": "code",
   "execution_count": 145,
   "id": "cef4951d",
   "metadata": {},
   "outputs": [],
   "source": [
    "overall = pd.merge(left=cklist_confirm, right=project_schedule, how='left', on=['projectSizeId','Phase'])\n",
    "overall.drop('DESC_OF_TASK', axis=1, inplace=True)"
   ]
  },
  {
   "cell_type": "code",
   "execution_count": 146,
   "id": "e7428626",
   "metadata": {},
   "outputs": [],
   "source": [
    "def mergeCloseMeeting(actualCloseMeetingDate, estCloseMeetingDate):\n",
    "    if actualCloseMeetingDate is pd.NaT:\n",
    "        return estCloseMeetingDate\n",
    "    else:\n",
    "        return actualCloseMeetingDate\n",
    "overall['mergedCloseMeetingDate'] = np.vectorize(mergeCloseMeeting)(overall.actualCloseMeetingDate, overall.estCloseMeetingDate)"
   ]
  },
  {
   "cell_type": "code",
   "execution_count": 147,
   "id": "be394237",
   "metadata": {},
   "outputs": [],
   "source": [
    "overall['targetGMLASubmitDate'] = (overall.mergedCloseMeetingDate + BDay(8)).dt.date"
   ]
  },
  {
   "cell_type": "code",
   "execution_count": 148,
   "id": "245d9311",
   "metadata": {},
   "outputs": [],
   "source": [
    "def on_time(actualDate, targetDate):\n",
    "    if actualDate is pd.NaT or targetDate is pd.NaT:\n",
    "        return None\n",
    "    elif actualDate > targetDate:\n",
    "        return 0\n",
    "    else:\n",
    "        return 1\n",
    "overall['on_time'] = np.vectorize(on_time)(overall.actualGMLASubmitDate, overall.targetGMLASubmitDate)"
   ]
  },
  {
   "cell_type": "code",
   "execution_count": 149,
   "id": "90c793c9",
   "metadata": {},
   "outputs": [],
   "source": [
    "overall = pd.merge(left=overall, right=cklist_issue, on=['projectSizeId','Project_Name','Phase'], how='left')"
   ]
  },
  {
   "cell_type": "markdown",
   "id": "420107e0",
   "metadata": {},
   "source": [
    "On time"
   ]
  },
  {
   "cell_type": "markdown",
   "id": "19a0dc6a",
   "metadata": {},
   "source": [
    "Handle delay_but_rejected projects"
   ]
  },
  {
   "cell_type": "code",
   "execution_count": 150,
   "id": "23408f36",
   "metadata": {},
   "outputs": [],
   "source": [
    "def delay_but_rejected(on_time, rejectReason):\n",
    "    if on_time is None:\n",
    "        return None\n",
    "    elif on_time == False and rejectReason != None:\n",
    "        return 1\n",
    "    else:\n",
    "        return 0\n",
    "overall['delay_but_rejected'] = np.vectorize(delay_but_rejected)(overall['on_time'], overall['rejectReason'])"
   ]
  },
  {
   "cell_type": "markdown",
   "id": "eb71ab85",
   "metadata": {},
   "source": [
    "Manage column order"
   ]
  },
  {
   "cell_type": "code",
   "execution_count": 151,
   "id": "bec5674f",
   "metadata": {},
   "outputs": [],
   "source": [
    "overall_show = overall[['projectSizeId','Project_Name','Phase','Risk','status','actualCloseMeetingDate','estCloseMeetingDate','mergedCloseMeetingDate','actualGMLASubmitDate','targetGMLASubmitDate','on_time','delay_but_rejected']].set_index('projectSizeId')"
   ]
  },
  {
   "cell_type": "code",
   "execution_count": null,
   "id": "698981dd",
   "metadata": {},
   "outputs": [],
   "source": []
  },
  {
   "cell_type": "code",
   "execution_count": null,
   "id": "90ee5637",
   "metadata": {},
   "outputs": [],
   "source": []
  },
  {
   "cell_type": "code",
   "execution_count": 152,
   "id": "0f2fb9b8",
   "metadata": {},
   "outputs": [],
   "source": [
    "overall_show.to_excel('overall_show.xlsx')"
   ]
  },
  {
   "cell_type": "markdown",
   "id": "b0eea759",
   "metadata": {},
   "source": [
    "Delayed projects"
   ]
  },
  {
   "cell_type": "code",
   "execution_count": 153,
   "id": "31c48cde",
   "metadata": {},
   "outputs": [],
   "source": [
    "delayed_projects = overall[(overall.on_time == False)].sort_values('targetGMLASubmitDate')"
   ]
  },
  {
   "cell_type": "code",
   "execution_count": 154,
   "id": "04ddaa9f",
   "metadata": {},
   "outputs": [],
   "source": [
    "actual_delayed_projects = overall[(overall.on_time == False) & (overall.delay_but_rejected == False)].sort_values('targetGMLASubmitDate')"
   ]
  },
  {
   "cell_type": "markdown",
   "id": "3c1f0ebe",
   "metadata": {},
   "source": [
    "Resample"
   ]
  },
  {
   "cell_type": "code",
   "execution_count": 155,
   "id": "39c6bc32",
   "metadata": {},
   "outputs": [],
   "source": [
    "overall_resampled = overall.copy()"
   ]
  },
  {
   "cell_type": "code",
   "execution_count": 156,
   "id": "588e8a9b",
   "metadata": {},
   "outputs": [],
   "source": [
    "overall_resampled = overall_resampled[overall_resampled.status == 1]"
   ]
  },
  {
   "cell_type": "code",
   "execution_count": 157,
   "id": "04de26d2",
   "metadata": {},
   "outputs": [],
   "source": [
    "overall_resampled.targetGMLASubmitDate = pd.to_datetime(overall_resampled.targetGMLASubmitDate)"
   ]
  },
  {
   "cell_type": "code",
   "execution_count": 158,
   "id": "0b0c12c4",
   "metadata": {},
   "outputs": [],
   "source": [
    "overall_resampled = overall_resampled.set_index('targetGMLASubmitDate').resample(rule='BM').agg({'Project_Name':'count','on_time':'sum','delay_but_rejected':'sum'})"
   ]
  },
  {
   "cell_type": "code",
   "execution_count": 159,
   "id": "d1cb2b98",
   "metadata": {},
   "outputs": [],
   "source": [
    "overall_resampled.rename(columns={'Project_Name':'total_projects','on_time':'on_time_projects','rejectReason':'rejcted_projects'}, inplace=True)"
   ]
  },
  {
   "cell_type": "markdown",
   "id": "fe295fbc",
   "metadata": {},
   "source": [
    "Convert datetime format"
   ]
  },
  {
   "cell_type": "code",
   "execution_count": 161,
   "id": "8d4f33de",
   "metadata": {},
   "outputs": [],
   "source": [
    "overall_resampled['on_time_rate'] = (100* (overall_resampled.on_time_projects / overall_resampled.total_projects)).round(2)"
   ]
  },
  {
   "cell_type": "code",
   "execution_count": 162,
   "metadata": {},
   "outputs": [],
   "source": [
    "overall_resampled['actual_on_time_rate'] = (100* ((overall_resampled.on_time_projects+ overall_resampled.delay_but_rejected) / overall_resampled.total_projects)).round(2)"
   ]
  },
  {
   "cell_type": "code",
   "execution_count": 164,
   "id": "7208affc",
   "metadata": {},
   "outputs": [
    {
     "data": {
      "text/html": [
       "<div>\n",
       "<style scoped>\n",
       "    .dataframe tbody tr th:only-of-type {\n",
       "        vertical-align: middle;\n",
       "    }\n",
       "\n",
       "    .dataframe tbody tr th {\n",
       "        vertical-align: top;\n",
       "    }\n",
       "\n",
       "    .dataframe thead th {\n",
       "        text-align: right;\n",
       "    }\n",
       "</style>\n",
       "<table border=\"1\" class=\"dataframe\">\n",
       "  <thead>\n",
       "    <tr style=\"text-align: right;\">\n",
       "      <th></th>\n",
       "      <th>total_projects</th>\n",
       "      <th>on_time_projects</th>\n",
       "      <th>delay_but_rejected</th>\n",
       "      <th>on_time_rate</th>\n",
       "      <th>actual_on_time_rate</th>\n",
       "    </tr>\n",
       "    <tr>\n",
       "      <th>targetGMLASubmitDate</th>\n",
       "      <th></th>\n",
       "      <th></th>\n",
       "      <th></th>\n",
       "      <th></th>\n",
       "      <th></th>\n",
       "    </tr>\n",
       "  </thead>\n",
       "  <tbody>\n",
       "    <tr>\n",
       "      <th>2020-12-31</th>\n",
       "      <td>8</td>\n",
       "      <td>3</td>\n",
       "      <td>2</td>\n",
       "      <td>37.50</td>\n",
       "      <td>62.50</td>\n",
       "    </tr>\n",
       "    <tr>\n",
       "      <th>2021-01-29</th>\n",
       "      <td>9</td>\n",
       "      <td>7</td>\n",
       "      <td>1</td>\n",
       "      <td>77.78</td>\n",
       "      <td>88.89</td>\n",
       "    </tr>\n",
       "    <tr>\n",
       "      <th>2021-02-26</th>\n",
       "      <td>9</td>\n",
       "      <td>5</td>\n",
       "      <td>3</td>\n",
       "      <td>55.56</td>\n",
       "      <td>88.89</td>\n",
       "    </tr>\n",
       "    <tr>\n",
       "      <th>2021-03-31</th>\n",
       "      <td>11</td>\n",
       "      <td>10</td>\n",
       "      <td>1</td>\n",
       "      <td>90.91</td>\n",
       "      <td>100.00</td>\n",
       "    </tr>\n",
       "    <tr>\n",
       "      <th>2021-04-30</th>\n",
       "      <td>13</td>\n",
       "      <td>11</td>\n",
       "      <td>1</td>\n",
       "      <td>84.62</td>\n",
       "      <td>92.31</td>\n",
       "    </tr>\n",
       "    <tr>\n",
       "      <th>2021-05-31</th>\n",
       "      <td>11</td>\n",
       "      <td>10</td>\n",
       "      <td>1</td>\n",
       "      <td>90.91</td>\n",
       "      <td>100.00</td>\n",
       "    </tr>\n",
       "    <tr>\n",
       "      <th>2021-06-30</th>\n",
       "      <td>12</td>\n",
       "      <td>12</td>\n",
       "      <td>0</td>\n",
       "      <td>100.00</td>\n",
       "      <td>100.00</td>\n",
       "    </tr>\n",
       "    <tr>\n",
       "      <th>2021-07-30</th>\n",
       "      <td>8</td>\n",
       "      <td>6</td>\n",
       "      <td>2</td>\n",
       "      <td>75.00</td>\n",
       "      <td>100.00</td>\n",
       "    </tr>\n",
       "    <tr>\n",
       "      <th>2021-08-31</th>\n",
       "      <td>2</td>\n",
       "      <td>2</td>\n",
       "      <td>0</td>\n",
       "      <td>100.00</td>\n",
       "      <td>100.00</td>\n",
       "    </tr>\n",
       "    <tr>\n",
       "      <th>2021-09-30</th>\n",
       "      <td>11</td>\n",
       "      <td>9</td>\n",
       "      <td>2</td>\n",
       "      <td>81.82</td>\n",
       "      <td>100.00</td>\n",
       "    </tr>\n",
       "    <tr>\n",
       "      <th>2021-10-29</th>\n",
       "      <td>12</td>\n",
       "      <td>11</td>\n",
       "      <td>1</td>\n",
       "      <td>91.67</td>\n",
       "      <td>100.00</td>\n",
       "    </tr>\n",
       "    <tr>\n",
       "      <th>2021-11-30</th>\n",
       "      <td>12</td>\n",
       "      <td>12</td>\n",
       "      <td>0</td>\n",
       "      <td>100.00</td>\n",
       "      <td>100.00</td>\n",
       "    </tr>\n",
       "    <tr>\n",
       "      <th>2021-12-31</th>\n",
       "      <td>16</td>\n",
       "      <td>15</td>\n",
       "      <td>1</td>\n",
       "      <td>93.75</td>\n",
       "      <td>100.00</td>\n",
       "    </tr>\n",
       "    <tr>\n",
       "      <th>2022-01-31</th>\n",
       "      <td>7</td>\n",
       "      <td>7</td>\n",
       "      <td>0</td>\n",
       "      <td>100.00</td>\n",
       "      <td>100.00</td>\n",
       "    </tr>\n",
       "    <tr>\n",
       "      <th>2022-02-28</th>\n",
       "      <td>7</td>\n",
       "      <td>6</td>\n",
       "      <td>0</td>\n",
       "      <td>85.71</td>\n",
       "      <td>85.71</td>\n",
       "    </tr>\n",
       "    <tr>\n",
       "      <th>2022-03-31</th>\n",
       "      <td>14</td>\n",
       "      <td>12</td>\n",
       "      <td>1</td>\n",
       "      <td>85.71</td>\n",
       "      <td>92.86</td>\n",
       "    </tr>\n",
       "    <tr>\n",
       "      <th>2022-04-29</th>\n",
       "      <td>11</td>\n",
       "      <td>11</td>\n",
       "      <td>0</td>\n",
       "      <td>100.00</td>\n",
       "      <td>100.00</td>\n",
       "    </tr>\n",
       "    <tr>\n",
       "      <th>2022-05-31</th>\n",
       "      <td>8</td>\n",
       "      <td>8</td>\n",
       "      <td>0</td>\n",
       "      <td>100.00</td>\n",
       "      <td>100.00</td>\n",
       "    </tr>\n",
       "    <tr>\n",
       "      <th>2022-06-30</th>\n",
       "      <td>8</td>\n",
       "      <td>8</td>\n",
       "      <td>0</td>\n",
       "      <td>100.00</td>\n",
       "      <td>100.00</td>\n",
       "    </tr>\n",
       "    <tr>\n",
       "      <th>2022-07-29</th>\n",
       "      <td>3</td>\n",
       "      <td>3</td>\n",
       "      <td>0</td>\n",
       "      <td>100.00</td>\n",
       "      <td>100.00</td>\n",
       "    </tr>\n",
       "  </tbody>\n",
       "</table>\n",
       "</div>"
      ],
      "text/plain": [
       "                      total_projects  on_time_projects  delay_but_rejected  \\\n",
       "targetGMLASubmitDate                                                         \n",
       "2020-12-31                         8                 3                   2   \n",
       "2021-01-29                         9                 7                   1   \n",
       "2021-02-26                         9                 5                   3   \n",
       "2021-03-31                        11                10                   1   \n",
       "2021-04-30                        13                11                   1   \n",
       "2021-05-31                        11                10                   1   \n",
       "2021-06-30                        12                12                   0   \n",
       "2021-07-30                         8                 6                   2   \n",
       "2021-08-31                         2                 2                   0   \n",
       "2021-09-30                        11                 9                   2   \n",
       "2021-10-29                        12                11                   1   \n",
       "2021-11-30                        12                12                   0   \n",
       "2021-12-31                        16                15                   1   \n",
       "2022-01-31                         7                 7                   0   \n",
       "2022-02-28                         7                 6                   0   \n",
       "2022-03-31                        14                12                   1   \n",
       "2022-04-29                        11                11                   0   \n",
       "2022-05-31                         8                 8                   0   \n",
       "2022-06-30                         8                 8                   0   \n",
       "2022-07-29                         3                 3                   0   \n",
       "\n",
       "                      on_time_rate  actual_on_time_rate  \n",
       "targetGMLASubmitDate                                     \n",
       "2020-12-31                   37.50                62.50  \n",
       "2021-01-29                   77.78                88.89  \n",
       "2021-02-26                   55.56                88.89  \n",
       "2021-03-31                   90.91               100.00  \n",
       "2021-04-30                   84.62                92.31  \n",
       "2021-05-31                   90.91               100.00  \n",
       "2021-06-30                  100.00               100.00  \n",
       "2021-07-30                   75.00               100.00  \n",
       "2021-08-31                  100.00               100.00  \n",
       "2021-09-30                   81.82               100.00  \n",
       "2021-10-29                   91.67               100.00  \n",
       "2021-11-30                  100.00               100.00  \n",
       "2021-12-31                   93.75               100.00  \n",
       "2022-01-31                  100.00               100.00  \n",
       "2022-02-28                   85.71                85.71  \n",
       "2022-03-31                   85.71                92.86  \n",
       "2022-04-29                  100.00               100.00  \n",
       "2022-05-31                  100.00               100.00  \n",
       "2022-06-30                  100.00               100.00  \n",
       "2022-07-29                  100.00               100.00  "
      ]
     },
     "execution_count": 164,
     "metadata": {},
     "output_type": "execute_result"
    }
   ],
   "source": [
    "overall_resampled"
   ]
  },
  {
   "cell_type": "code",
   "execution_count": 165,
   "id": "6784954b",
   "metadata": {},
   "outputs": [],
   "source": [
    "#on_time_resampled.to_excel(path+'\\on_time.xlsx')"
   ]
  },
  {
   "cell_type": "code",
   "execution_count": 175,
   "id": "6684d2ce",
   "metadata": {},
   "outputs": [
    {
     "data": {
      "image/png": "[encoded data removed]",
      "text/plain": [
       "<Figure size 1296x432 with 1 Axes>"
      ]
     },
     "metadata": {
      "needs_background": "light"
     },
     "output_type": "display_data"
    }
   ],
   "source": [
    "ax = overall_resampled['2021-06':].actual_on_time_rate.plot(figsize=(18,6), marker='o', markersize=10 ,lw=3, grid=True)\n",
    "ax.set_xlabel('Month');\n",
    "ax.set_ylabel('Complete rate');\n",
    "ax.set_title('Monthly GMLA Complete & On-time Rate Overview - June 2021 ~');\n",
    "plt.savefig('on_time',bbox_inches = \"tight\")"
   ]
  },
  {
   "cell_type": "code",
   "execution_count": null,
   "id": "6a4cda03",
   "metadata": {},
   "outputs": [],
   "source": []
  }
 ],
 "metadata": {
  "kernelspec": {
   "display_name": "Python 3.8.8 ('base')",
   "language": "python",
   "name": "python3"
  },
  "language_info": {
   "codemirror_mode": {
    "name": "ipython",
    "version": 3
   },
   "file_extension": ".py",
   "mimetype": "text/x-python",
   "name": "python",
   "nbconvert_exporter": "python",
   "pygments_lexer": "ipython3",
   "version": "3.8.8"
  },
  "vscode": {
   "interpreter": {
    "hash": "b2bc8fc74d224e370d078b0b13055b91e66a2110151dfa811ac4acd4ed2602b4"
   }
  }
 },
 "nbformat": 4,
 "nbformat_minor": 5
}
