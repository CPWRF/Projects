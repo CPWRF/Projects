{
 "cells": [
  {
   "cell_type": "code",
   "execution_count": 1,
   "metadata": {},
   "outputs": [],
   "source": [
    "from scipy.stats import hypergeom\n",
    "from numpy import vectorize\n",
    "import pandas as pd\n",
    "import plotly.express as px\n",
    "from plotly.io import templates"
   ]
  },
  {
   "attachments": {},
   "cell_type": "markdown",
   "metadata": {},
   "source": [
    "Hypergeom & Sampling plan"
   ]
  },
  {
   "cell_type": "code",
   "execution_count": 2,
   "metadata": {},
   "outputs": [],
   "source": [
    "#M : Total number of objects, N : N drawn without replacement, n : Total number of Type I objects\n",
    "M = 150\n",
    "#Sampling plan\n",
    "if 2 <= M <= 170:\n",
    "    sample_size = [5,12,32,80,170]\n",
    "elif 171 <= M <= 288:\n",
    "    sample_size = [6,12,32,80,192,288]\n",
    "elif 289 <= M <= 544:\n",
    "    sample_size = [8,16,32,80,192,512]\n",
    "elif 545 <= M <= 960:\n",
    "    sample_size = [10,20,40,80,192,512,960]\n",
    "elif 961 <= M <= 1632:\n",
    "    sample_size = [12,24,48,96,192,512,1280]\n",
    "elif 1633 <= M <= 3072:\n",
    "    sample_size = [12,32,64,128,256,512,1280]\n",
    "elif 3073 <= M <= 5440:\n",
    "    sample_size = [12,32,80,160,320,640,1280]\n",
    "elif 5441 <= M <= 9126:\n",
    "    sample_size = [12,32,80,192,384,768,1536]\n",
    "elif 9217 <= M <= 17408:\n",
    "    sample_size = [12,32,80,192,512,1024,2048]\n",
    "elif 17409 <= M <= 30720:\n",
    "    sample_size = [12,32,80,192,512,1280,2560]\n",
    "else:\n",
    "    sample_size = [12,32,80,192,512,1280,3072]\n",
    "\n",
    "result = [(M, N, n, hypergeom(M, n, N).pmf(0)) for N in sample_size for n in range(int(100))]\n",
    "df = pd.DataFrame(result, columns=['Total', 'N_drawn', 'NG_unit', 'Prob_Accept'])\n",
    "df.Prob_Accept = (df.Prob_Accept * 100).round(2)\n",
    "df['Lot_Defective'] = 100*(df.NG_unit / df.Total).round(4)"
   ]
  },
  {
   "attachments": {},
   "cell_type": "markdown",
   "metadata": {},
   "source": [
    "AOQ function"
   ]
  },
  {
   "cell_type": "code",
   "execution_count": 3,
   "metadata": {},
   "outputs": [],
   "source": [
    "def AOQ(Total, N_drawn, NG_unit, Prob_Accept):\n",
    "    return (Prob_Accept * (NG_unit/Total) * (Total-N_drawn))/Total\n",
    "df['AOQ'] = vectorize(AOQ)(df.Total, df.N_drawn, df.NG_unit, df.Prob_Accept).round(2)"
   ]
  },
  {
   "attachments": {},
   "cell_type": "markdown",
   "metadata": {},
   "source": [
    "Set plotly theme"
   ]
  },
  {
   "cell_type": "code",
   "execution_count": 4,
   "metadata": {},
   "outputs": [],
   "source": [
    "templates.default = \"plotly_dark\""
   ]
  },
  {
   "attachments": {},
   "cell_type": "markdown",
   "metadata": {},
   "source": [
    "OC curve"
   ]
  },
  {
   "cell_type": "code",
   "execution_count": 5,
   "metadata": {},
   "outputs": [
    {
     "data": {
      "application/vnd.plotly.v1+json": {
       "config": {
        "plotlyServerURL": "https://plot.ly"
       },
       "data": [
        {
         "hovertemplate": "N_drawn(#)=5<br>Lot_Defective(%)=%{x}<br>Prob_Accept(%)=%{y}<extra></extra>",
         "legendgroup": "5",
         "line": {
          "color": "#636efa",
          "dash": "solid"
         },
         "marker": {
          "symbol": "circle"
         },
         "mode": "lines",
         "name": "5",
         "orientation": "v",
         "showlegend": true,
         "type": "scatter",
         "x": [
          0,
          0.67,
          1.3299999999999998,
          2,
          2.67,
          3.3300000000000005,
          4,
          4.67,
          5.33,
          6,
          6.67,
          7.33,
          8,
          8.67,
          9.33,
          10,
          10.67,
          11.33,
          12,
          12.67,
          13.33,
          14.000000000000002,
          14.67,
          15.329999999999998,
          16,
          16.669999999999998,
          17.330000000000002,
          18,
          18.67,
          19.33,
          20,
          20.669999999999998,
          21.33,
          22,
          22.67,
          23.330000000000002,
          24,
          24.67,
          25.330000000000002,
          26,
          26.669999999999998,
          27.33,
          28.000000000000004,
          28.67,
          29.330000000000002,
          30,
          30.669999999999998,
          31.330000000000002,
          32,
          32.67,
          33.33,
          34,
          34.67,
          35.33,
          36,
          36.67,
          37.330000000000005,
          38,
          38.67,
          39.33,
          40,
          40.67,
          41.33,
          42,
          42.67,
          43.33,
          44,
          44.67,
          45.33,
          46,
          46.67,
          47.33,
          48,
          48.67,
          49.33,
          50,
          50.67,
          51.33,
          52,
          52.669999999999995,
          53.33,
          54,
          54.669999999999995,
          55.33,
          56.00000000000001,
          56.67,
          57.330000000000005,
          57.99999999999999,
          58.67,
          59.330000000000005,
          60,
          60.67,
          61.33,
          62,
          62.67,
          63.33,
          64,
          64.67,
          65.33,
          66
         ],
         "xaxis": "x",
         "y": [
          100,
          96.67,
          93.42,
          90.27,
          87.2,
          84.21,
          81.31,
          78.48,
          75.74,
          73.07,
          70.48,
          67.96,
          65.52,
          63.15,
          60.84,
          58.6,
          56.43,
          54.33,
          52.29,
          50.3,
          48.38,
          46.52,
          44.72,
          42.97,
          41.28,
          39.64,
          38.06,
          36.52,
          35.04,
          33.6,
          32.21,
          30.87,
          29.57,
          28.32,
          27.11,
          25.94,
          24.81,
          23.73,
          22.68,
          21.66,
          20.69,
          19.75,
          18.84,
          17.97,
          17.13,
          16.32,
          15.54,
          14.8,
          14.08,
          13.39,
          12.73,
          12.09,
          11.48,
          10.89,
          10.33,
          9.79,
          9.28,
          8.78,
          8.31,
          7.86,
          7.43,
          7.02,
          6.62,
          6.25,
          5.89,
          5.54,
          5.22,
          4.91,
          4.61,
          4.33,
          4.06,
          3.81,
          3.57,
          3.34,
          3.12,
          2.92,
          2.72,
          2.54,
          2.37,
          2.2,
          2.05,
          1.9,
          1.76,
          1.63,
          1.51,
          1.4,
          1.29,
          1.19,
          1.09,
          1.01,
          0.92,
          0.85,
          0.77,
          0.71,
          0.65,
          0.59,
          0.53,
          0.49,
          0.44,
          0.4
         ],
         "yaxis": "y"
        },
        {
         "hovertemplate": "N_drawn(#)=12<br>Lot_Defective(%)=%{x}<br>Prob_Accept(%)=%{y}<extra></extra>",
         "legendgroup": "12",
         "line": {
          "color": "#EF553B",
          "dash": "solid"
         },
         "marker": {
          "symbol": "circle"
         },
         "mode": "lines",
         "name": "12",
         "orientation": "v",
         "showlegend": true,
         "type": "scatter",
         "x": [
          0,
          0.67,
          1.3299999999999998,
          2,
          2.67,
          3.3300000000000005,
          4,
          4.67,
          5.33,
          6,
          6.67,
          7.33,
          8,
          8.67,
          9.33,
          10,
          10.67,
          11.33,
          12,
          12.67,
          13.33,
          14.000000000000002,
          14.67,
          15.329999999999998,
          16,
          16.669999999999998,
          17.330000000000002,
          18,
          18.67,
          19.33,
          20,
          20.669999999999998,
          21.33,
          22,
          22.67,
          23.330000000000002,
          24,
          24.67,
          25.330000000000002,
          26,
          26.669999999999998,
          27.33,
          28.000000000000004,
          28.67,
          29.330000000000002,
          30,
          30.669999999999998,
          31.330000000000002,
          32,
          32.67,
          33.33,
          34,
          34.67,
          35.33,
          36,
          36.67,
          37.330000000000005,
          38,
          38.67,
          39.33,
          40,
          40.67,
          41.33,
          42,
          42.67,
          43.33,
          44,
          44.67,
          45.33,
          46,
          46.67,
          47.33,
          48,
          48.67,
          49.33,
          50,
          50.67,
          51.33,
          52,
          52.669999999999995,
          53.33,
          54,
          54.669999999999995,
          55.33,
          56.00000000000001,
          56.67,
          57.330000000000005,
          57.99999999999999,
          58.67,
          59.330000000000005,
          60,
          60.67,
          61.33,
          62,
          62.67,
          63.33,
          64,
          64.67,
          65.33,
          66
         ],
         "xaxis": "x",
         "y": [
          100,
          92,
          84.59,
          77.73,
          71.39,
          65.52,
          60.1,
          55.09,
          50.47,
          46.2,
          42.27,
          38.65,
          35.31,
          32.24,
          29.42,
          26.82,
          24.44,
          22.25,
          20.24,
          18.4,
          16.71,
          15.17,
          13.76,
          12.47,
          11.29,
          10.22,
          9.24,
          8.34,
          7.53,
          6.79,
          6.11,
          5.5,
          4.95,
          4.45,
          3.99,
          3.58,
          3.2,
          2.87,
          2.56,
          2.29,
          2.04,
          1.82,
          1.62,
          1.44,
          1.28,
          1.13,
          1,
          0.89,
          0.78,
          0.69,
          0.61,
          0.54,
          0.47,
          0.41,
          0.36,
          0.32,
          0.28,
          0.24,
          0.21,
          0.18,
          0.16,
          0.14,
          0.12,
          0.1,
          0.09,
          0.08,
          0.07,
          0.06,
          0.05,
          0.04,
          0.03,
          0.03,
          0.03,
          0.02,
          0.02,
          0.02,
          0.01,
          0.01,
          0.01,
          0.01,
          0.01,
          0.01,
          0,
          0,
          0,
          0,
          0,
          0,
          0,
          0,
          0,
          0,
          0,
          0,
          0,
          0,
          0,
          0,
          0,
          0
         ],
         "yaxis": "y"
        },
        {
         "hovertemplate": "N_drawn(#)=32<br>Lot_Defective(%)=%{x}<br>Prob_Accept(%)=%{y}<extra></extra>",
         "legendgroup": "32",
         "line": {
          "color": "#00cc96",
          "dash": "solid"
         },
         "marker": {
          "symbol": "circle"
         },
         "mode": "lines",
         "name": "32",
         "orientation": "v",
         "showlegend": true,
         "type": "scatter",
         "x": [
          0,
          0.67,
          1.3299999999999998,
          2,
          2.67,
          3.3300000000000005,
          4,
          4.67,
          5.33,
          6,
          6.67,
          7.33,
          8,
          8.67,
          9.33,
          10,
          10.67,
          11.33,
          12,
          12.67,
          13.33,
          14.000000000000002,
          14.67,
          15.329999999999998,
          16,
          16.669999999999998,
          17.330000000000002,
          18,
          18.67,
          19.33,
          20,
          20.669999999999998,
          21.33,
          22,
          22.67,
          23.330000000000002,
          24,
          24.67,
          25.330000000000002,
          26,
          26.669999999999998,
          27.33,
          28.000000000000004,
          28.67,
          29.330000000000002,
          30,
          30.669999999999998,
          31.330000000000002,
          32,
          32.67,
          33.33,
          34,
          34.67,
          35.33,
          36,
          36.67,
          37.330000000000005,
          38,
          38.67,
          39.33,
          40,
          40.67,
          41.33,
          42,
          42.67,
          43.33,
          44,
          44.67,
          45.33,
          46,
          46.67,
          47.33,
          48,
          48.67,
          49.33,
          50,
          50.67,
          51.33,
          52,
          52.669999999999995,
          53.33,
          54,
          54.669999999999995,
          55.33,
          56.00000000000001,
          56.67,
          57.330000000000005,
          57.99999999999999,
          58.67,
          59.330000000000005,
          60,
          60.67,
          61.33,
          62,
          62.67,
          63.33,
          64,
          64.67,
          65.33,
          66
         ],
         "xaxis": "x",
         "y": [
          100,
          78.67,
          61.77,
          48.42,
          37.88,
          29.57,
          23.05,
          17.93,
          13.91,
          10.78,
          8.33,
          6.43,
          4.95,
          3.8,
          2.91,
          2.23,
          1.7,
          1.29,
          0.98,
          0.74,
          0.56,
          0.42,
          0.32,
          0.24,
          0.18,
          0.13,
          0.1,
          0.07,
          0.05,
          0.04,
          0.03,
          0.02,
          0.02,
          0.01,
          0.01,
          0.01,
          0,
          0,
          0,
          0,
          0,
          0,
          0,
          0,
          0,
          0,
          0,
          0,
          0,
          0,
          0,
          0,
          0,
          0,
          0,
          0,
          0,
          0,
          0,
          0,
          0,
          0,
          0,
          0,
          0,
          0,
          0,
          0,
          0,
          0,
          0,
          0,
          0,
          0,
          0,
          0,
          0,
          0,
          0,
          0,
          0,
          0,
          0,
          0,
          0,
          0,
          0,
          0,
          0,
          0,
          0,
          0,
          0,
          0,
          0,
          0,
          0,
          0,
          0,
          0
         ],
         "yaxis": "y"
        },
        {
         "hovertemplate": "N_drawn(#)=80<br>Lot_Defective(%)=%{x}<br>Prob_Accept(%)=%{y}<extra></extra>",
         "legendgroup": "80",
         "line": {
          "color": "#ab63fa",
          "dash": "solid"
         },
         "marker": {
          "symbol": "circle"
         },
         "mode": "lines",
         "name": "80",
         "orientation": "v",
         "showlegend": true,
         "type": "scatter",
         "x": [
          0,
          0.67,
          1.3299999999999998,
          2,
          2.67,
          3.3300000000000005,
          4,
          4.67,
          5.33,
          6,
          6.67,
          7.33,
          8,
          8.67,
          9.33,
          10,
          10.67,
          11.33,
          12,
          12.67,
          13.33,
          14.000000000000002,
          14.67,
          15.329999999999998,
          16,
          16.669999999999998,
          17.330000000000002,
          18,
          18.67,
          19.33,
          20,
          20.669999999999998,
          21.33,
          22,
          22.67,
          23.330000000000002,
          24,
          24.67,
          25.330000000000002,
          26,
          26.669999999999998,
          27.33,
          28.000000000000004,
          28.67,
          29.330000000000002,
          30,
          30.669999999999998,
          31.330000000000002,
          32,
          32.67,
          33.33,
          34,
          34.67,
          35.33,
          36,
          36.67,
          37.330000000000005,
          38,
          38.67,
          39.33,
          40,
          40.67,
          41.33,
          42,
          42.67,
          43.33,
          44,
          44.67,
          45.33,
          46,
          46.67,
          47.33,
          48,
          48.67,
          49.33,
          50,
          50.67,
          51.33,
          52,
          52.669999999999995,
          53.33,
          54,
          54.669999999999995,
          55.33,
          56.00000000000001,
          56.67,
          57.330000000000005,
          57.99999999999999,
          58.67,
          59.330000000000005,
          60,
          60.67,
          61.33,
          62,
          62.67,
          63.33,
          64,
          64.67,
          65.33,
          66
         ],
         "xaxis": "x",
         "y": [
          100,
          46.67,
          21.61,
          9.93,
          4.53,
          2.05,
          0.92,
          0.41,
          0.18,
          0.08,
          0.03,
          0.01,
          0.01,
          0,
          0,
          0,
          0,
          0,
          0,
          0,
          0,
          0,
          0,
          0,
          0,
          0,
          0,
          0,
          0,
          0,
          0,
          0,
          0,
          0,
          0,
          0,
          0,
          0,
          0,
          0,
          0,
          0,
          0,
          0,
          0,
          0,
          0,
          0,
          0,
          0,
          0,
          0,
          0,
          0,
          0,
          0,
          0,
          0,
          0,
          0,
          0,
          0,
          0,
          0,
          0,
          0,
          0,
          0,
          0,
          0,
          0,
          0,
          0,
          0,
          0,
          0,
          0,
          0,
          0,
          0,
          0,
          0,
          0,
          0,
          0,
          0,
          0,
          0,
          0,
          0,
          0,
          0,
          0,
          0,
          0,
          0,
          0,
          0,
          0,
          0
         ],
         "yaxis": "y"
        },
        {
         "hovertemplate": "N_drawn(#)=170<br>Lot_Defective(%)=%{x}<br>Prob_Accept(%)=%{y}<extra></extra>",
         "legendgroup": "170",
         "line": {
          "color": "#FFA15A",
          "dash": "solid"
         },
         "marker": {
          "symbol": "circle"
         },
         "mode": "lines",
         "name": "170",
         "orientation": "v",
         "showlegend": true,
         "type": "scatter",
         "x": [
          0,
          0.67,
          1.3299999999999998,
          2,
          2.67,
          3.3300000000000005,
          4,
          4.67,
          5.33,
          6,
          6.67,
          7.33,
          8,
          8.67,
          9.33,
          10,
          10.67,
          11.33,
          12,
          12.67,
          13.33,
          14.000000000000002,
          14.67,
          15.329999999999998,
          16,
          16.669999999999998,
          17.330000000000002,
          18,
          18.67,
          19.33,
          20,
          20.669999999999998,
          21.33,
          22,
          22.67,
          23.330000000000002,
          24,
          24.67,
          25.330000000000002,
          26,
          26.669999999999998,
          27.33,
          28.000000000000004,
          28.67,
          29.330000000000002,
          30,
          30.669999999999998,
          31.330000000000002,
          32,
          32.67,
          33.33,
          34,
          34.67,
          35.33,
          36,
          36.67,
          37.330000000000005,
          38,
          38.67,
          39.33,
          40,
          40.67,
          41.33,
          42,
          42.67,
          43.33,
          44,
          44.67,
          45.33,
          46,
          46.67,
          47.33,
          48,
          48.67,
          49.33,
          50,
          50.67,
          51.33,
          52,
          52.669999999999995,
          53.33,
          54,
          54.669999999999995,
          55.33,
          56.00000000000001,
          56.67,
          57.330000000000005,
          57.99999999999999,
          58.67,
          59.330000000000005,
          60,
          60.67,
          61.33,
          62,
          62.67,
          63.33,
          64,
          64.67,
          65.33,
          66
         ],
         "xaxis": "x",
         "y": [
          null,
          null,
          null,
          null,
          null,
          null,
          null,
          null,
          null,
          null,
          null,
          null,
          null,
          null,
          null,
          null,
          null,
          null,
          null,
          null,
          null,
          null,
          null,
          null,
          null,
          null,
          null,
          null,
          null,
          null,
          null,
          null,
          null,
          null,
          null,
          null,
          null,
          null,
          null,
          null,
          null,
          null,
          null,
          null,
          null,
          null,
          null,
          null,
          null,
          null,
          null,
          null,
          null,
          null,
          null,
          null,
          null,
          null,
          null,
          null,
          null,
          null,
          null,
          null,
          null,
          null,
          null,
          null,
          null,
          null,
          null,
          null,
          null,
          null,
          null,
          null,
          null,
          null,
          null,
          null,
          null,
          null,
          null,
          null,
          null,
          null,
          null,
          null,
          null,
          null,
          null,
          null,
          null,
          null,
          null,
          null,
          null,
          null,
          null,
          null
         ],
         "yaxis": "y"
        }
       ],
       "layout": {
        "annotations": [
         {
          "font": {
           "size": 15
          },
          "showarrow": false,
          "text": "5%",
          "x": 0,
          "xanchor": "left",
          "xref": "x domain",
          "y": 5,
          "yanchor": "bottom",
          "yref": "y"
         }
        ],
        "height": 600,
        "legend": {
         "title": {
          "text": "N_drawn(#)"
         },
         "tracegroupgap": 0
        },
        "shapes": [
         {
          "line": {
           "dash": "dash"
          },
          "type": "line",
          "x0": 0,
          "x1": 1,
          "xref": "x domain",
          "y0": 5,
          "y1": 5,
          "yref": "y"
         }
        ],
        "template": {
         "data": {
          "bar": [
           {
            "error_x": {
             "color": "#f2f5fa"
            },
            "error_y": {
             "color": "#f2f5fa"
            },
            "marker": {
             "line": {
              "color": "rgb(17,17,17)",
              "width": 0.5
             },
             "pattern": {
              "fillmode": "overlay",
              "size": 10,
              "solidity": 0.2
             }
            },
            "type": "bar"
           }
          ],
          "barpolar": [
           {
            "marker": {
             "line": {
              "color": "rgb(17,17,17)",
              "width": 0.5
             },
             "pattern": {
              "fillmode": "overlay",
              "size": 10,
              "solidity": 0.2
             }
            },
            "type": "barpolar"
           }
          ],
          "carpet": [
           {
            "aaxis": {
             "endlinecolor": "#A2B1C6",
             "gridcolor": "#506784",
             "linecolor": "#506784",
             "minorgridcolor": "#506784",
             "startlinecolor": "#A2B1C6"
            },
            "baxis": {
             "endlinecolor": "#A2B1C6",
             "gridcolor": "#506784",
             "linecolor": "#506784",
             "minorgridcolor": "#506784",
             "startlinecolor": "#A2B1C6"
            },
            "type": "carpet"
           }
          ],
          "choropleth": [
           {
            "colorbar": {
             "outlinewidth": 0,
             "ticks": ""
            },
            "type": "choropleth"
           }
          ],
          "contour": [
           {
            "colorbar": {
             "outlinewidth": 0,
             "ticks": ""
            },
            "colorscale": [
             [
              0,
              "#0d0887"
             ],
             [
              0.1111111111111111,
              "#46039f"
             ],
             [
              0.2222222222222222,
              "#7201a8"
             ],
             [
              0.3333333333333333,
              "#9c179e"
             ],
             [
              0.4444444444444444,
              "#bd3786"
             ],
             [
              0.5555555555555556,
              "#d8576b"
             ],
             [
              0.6666666666666666,
              "#ed7953"
             ],
             [
              0.7777777777777778,
              "#fb9f3a"
             ],
             [
              0.8888888888888888,
              "#fdca26"
             ],
             [
              1,
              "#f0f921"
             ]
            ],
            "type": "contour"
           }
          ],
          "contourcarpet": [
           {
            "colorbar": {
             "outlinewidth": 0,
             "ticks": ""
            },
            "type": "contourcarpet"
           }
          ],
          "heatmap": [
           {
            "colorbar": {
             "outlinewidth": 0,
             "ticks": ""
            },
            "colorscale": [
             [
              0,
              "#0d0887"
             ],
             [
              0.1111111111111111,
              "#46039f"
             ],
             [
              0.2222222222222222,
              "#7201a8"
             ],
             [
              0.3333333333333333,
              "#9c179e"
             ],
             [
              0.4444444444444444,
              "#bd3786"
             ],
             [
              0.5555555555555556,
              "#d8576b"
             ],
             [
              0.6666666666666666,
              "#ed7953"
             ],
             [
              0.7777777777777778,
              "#fb9f3a"
             ],
             [
              0.8888888888888888,
              "#fdca26"
             ],
             [
              1,
              "#f0f921"
             ]
            ],
            "type": "heatmap"
           }
          ],
          "heatmapgl": [
           {
            "colorbar": {
             "outlinewidth": 0,
             "ticks": ""
            },
            "colorscale": [
             [
              0,
              "#0d0887"
             ],
             [
              0.1111111111111111,
              "#46039f"
             ],
             [
              0.2222222222222222,
              "#7201a8"
             ],
             [
              0.3333333333333333,
              "#9c179e"
             ],
             [
              0.4444444444444444,
              "#bd3786"
             ],
             [
              0.5555555555555556,
              "#d8576b"
             ],
             [
              0.6666666666666666,
              "#ed7953"
             ],
             [
              0.7777777777777778,
              "#fb9f3a"
             ],
             [
              0.8888888888888888,
              "#fdca26"
             ],
             [
              1,
              "#f0f921"
             ]
            ],
            "type": "heatmapgl"
           }
          ],
          "histogram": [
           {
            "marker": {
             "pattern": {
              "fillmode": "overlay",
              "size": 10,
              "solidity": 0.2
             }
            },
            "type": "histogram"
           }
          ],
          "histogram2d": [
           {
            "colorbar": {
             "outlinewidth": 0,
             "ticks": ""
            },
            "colorscale": [
             [
              0,
              "#0d0887"
             ],
             [
              0.1111111111111111,
              "#46039f"
             ],
             [
              0.2222222222222222,
              "#7201a8"
             ],
             [
              0.3333333333333333,
              "#9c179e"
             ],
             [
              0.4444444444444444,
              "#bd3786"
             ],
             [
              0.5555555555555556,
              "#d8576b"
             ],
             [
              0.6666666666666666,
              "#ed7953"
             ],
             [
              0.7777777777777778,
              "#fb9f3a"
             ],
             [
              0.8888888888888888,
              "#fdca26"
             ],
             [
              1,
              "#f0f921"
             ]
            ],
            "type": "histogram2d"
           }
          ],
          "histogram2dcontour": [
           {
            "colorbar": {
             "outlinewidth": 0,
             "ticks": ""
            },
            "colorscale": [
             [
              0,
              "#0d0887"
             ],
             [
              0.1111111111111111,
              "#46039f"
             ],
             [
              0.2222222222222222,
              "#7201a8"
             ],
             [
              0.3333333333333333,
              "#9c179e"
             ],
             [
              0.4444444444444444,
              "#bd3786"
             ],
             [
              0.5555555555555556,
              "#d8576b"
             ],
             [
              0.6666666666666666,
              "#ed7953"
             ],
             [
              0.7777777777777778,
              "#fb9f3a"
             ],
             [
              0.8888888888888888,
              "#fdca26"
             ],
             [
              1,
              "#f0f921"
             ]
            ],
            "type": "histogram2dcontour"
           }
          ],
          "mesh3d": [
           {
            "colorbar": {
             "outlinewidth": 0,
             "ticks": ""
            },
            "type": "mesh3d"
           }
          ],
          "parcoords": [
           {
            "line": {
             "colorbar": {
              "outlinewidth": 0,
              "ticks": ""
             }
            },
            "type": "parcoords"
           }
          ],
          "pie": [
           {
            "automargin": true,
            "type": "pie"
           }
          ],
          "scatter": [
           {
            "marker": {
             "line": {
              "color": "#283442"
             }
            },
            "type": "scatter"
           }
          ],
          "scatter3d": [
           {
            "line": {
             "colorbar": {
              "outlinewidth": 0,
              "ticks": ""
             }
            },
            "marker": {
             "colorbar": {
              "outlinewidth": 0,
              "ticks": ""
             }
            },
            "type": "scatter3d"
           }
          ],
          "scattercarpet": [
           {
            "marker": {
             "colorbar": {
              "outlinewidth": 0,
              "ticks": ""
             }
            },
            "type": "scattercarpet"
           }
          ],
          "scattergeo": [
           {
            "marker": {
             "colorbar": {
              "outlinewidth": 0,
              "ticks": ""
             }
            },
            "type": "scattergeo"
           }
          ],
          "scattergl": [
           {
            "marker": {
             "line": {
              "color": "#283442"
             }
            },
            "type": "scattergl"
           }
          ],
          "scattermapbox": [
           {
            "marker": {
             "colorbar": {
              "outlinewidth": 0,
              "ticks": ""
             }
            },
            "type": "scattermapbox"
           }
          ],
          "scatterpolar": [
           {
            "marker": {
             "colorbar": {
              "outlinewidth": 0,
              "ticks": ""
             }
            },
            "type": "scatterpolar"
           }
          ],
          "scatterpolargl": [
           {
            "marker": {
             "colorbar": {
              "outlinewidth": 0,
              "ticks": ""
             }
            },
            "type": "scatterpolargl"
           }
          ],
          "scatterternary": [
           {
            "marker": {
             "colorbar": {
              "outlinewidth": 0,
              "ticks": ""
             }
            },
            "type": "scatterternary"
           }
          ],
          "surface": [
           {
            "colorbar": {
             "outlinewidth": 0,
             "ticks": ""
            },
            "colorscale": [
             [
              0,
              "#0d0887"
             ],
             [
              0.1111111111111111,
              "#46039f"
             ],
             [
              0.2222222222222222,
              "#7201a8"
             ],
             [
              0.3333333333333333,
              "#9c179e"
             ],
             [
              0.4444444444444444,
              "#bd3786"
             ],
             [
              0.5555555555555556,
              "#d8576b"
             ],
             [
              0.6666666666666666,
              "#ed7953"
             ],
             [
              0.7777777777777778,
              "#fb9f3a"
             ],
             [
              0.8888888888888888,
              "#fdca26"
             ],
             [
              1,
              "#f0f921"
             ]
            ],
            "type": "surface"
           }
          ],
          "table": [
           {
            "cells": {
             "fill": {
              "color": "#506784"
             },
             "line": {
              "color": "rgb(17,17,17)"
             }
            },
            "header": {
             "fill": {
              "color": "#2a3f5f"
             },
             "line": {
              "color": "rgb(17,17,17)"
             }
            },
            "type": "table"
           }
          ]
         },
         "layout": {
          "annotationdefaults": {
           "arrowcolor": "#f2f5fa",
           "arrowhead": 0,
           "arrowwidth": 1
          },
          "autotypenumbers": "strict",
          "coloraxis": {
           "colorbar": {
            "outlinewidth": 0,
            "ticks": ""
           }
          },
          "colorscale": {
           "diverging": [
            [
             0,
             "#8e0152"
            ],
            [
             0.1,
             "#c51b7d"
            ],
            [
             0.2,
             "#de77ae"
            ],
            [
             0.3,
             "#f1b6da"
            ],
            [
             0.4,
             "#fde0ef"
            ],
            [
             0.5,
             "#f7f7f7"
            ],
            [
             0.6,
             "#e6f5d0"
            ],
            [
             0.7,
             "#b8e186"
            ],
            [
             0.8,
             "#7fbc41"
            ],
            [
             0.9,
             "#4d9221"
            ],
            [
             1,
             "#276419"
            ]
           ],
           "sequential": [
            [
             0,
             "#0d0887"
            ],
            [
             0.1111111111111111,
             "#46039f"
            ],
            [
             0.2222222222222222,
             "#7201a8"
            ],
            [
             0.3333333333333333,
             "#9c179e"
            ],
            [
             0.4444444444444444,
             "#bd3786"
            ],
            [
             0.5555555555555556,
             "#d8576b"
            ],
            [
             0.6666666666666666,
             "#ed7953"
            ],
            [
             0.7777777777777778,
             "#fb9f3a"
            ],
            [
             0.8888888888888888,
             "#fdca26"
            ],
            [
             1,
             "#f0f921"
            ]
           ],
           "sequentialminus": [
            [
             0,
             "#0d0887"
            ],
            [
             0.1111111111111111,
             "#46039f"
            ],
            [
             0.2222222222222222,
             "#7201a8"
            ],
            [
             0.3333333333333333,
             "#9c179e"
            ],
            [
             0.4444444444444444,
             "#bd3786"
            ],
            [
             0.5555555555555556,
             "#d8576b"
            ],
            [
             0.6666666666666666,
             "#ed7953"
            ],
            [
             0.7777777777777778,
             "#fb9f3a"
            ],
            [
             0.8888888888888888,
             "#fdca26"
            ],
            [
             1,
             "#f0f921"
            ]
           ]
          },
          "colorway": [
           "#636efa",
           "#EF553B",
           "#00cc96",
           "#ab63fa",
           "#FFA15A",
           "#19d3f3",
           "#FF6692",
           "#B6E880",
           "#FF97FF",
           "#FECB52"
          ],
          "font": {
           "color": "#f2f5fa"
          },
          "geo": {
           "bgcolor": "rgb(17,17,17)",
           "lakecolor": "rgb(17,17,17)",
           "landcolor": "rgb(17,17,17)",
           "showlakes": true,
           "showland": true,
           "subunitcolor": "#506784"
          },
          "hoverlabel": {
           "align": "left"
          },
          "hovermode": "closest",
          "mapbox": {
           "style": "dark"
          },
          "paper_bgcolor": "rgb(17,17,17)",
          "plot_bgcolor": "rgb(17,17,17)",
          "polar": {
           "angularaxis": {
            "gridcolor": "#506784",
            "linecolor": "#506784",
            "ticks": ""
           },
           "bgcolor": "rgb(17,17,17)",
           "radialaxis": {
            "gridcolor": "#506784",
            "linecolor": "#506784",
            "ticks": ""
           }
          },
          "scene": {
           "xaxis": {
            "backgroundcolor": "rgb(17,17,17)",
            "gridcolor": "#506784",
            "gridwidth": 2,
            "linecolor": "#506784",
            "showbackground": true,
            "ticks": "",
            "zerolinecolor": "#C8D4E3"
           },
           "yaxis": {
            "backgroundcolor": "rgb(17,17,17)",
            "gridcolor": "#506784",
            "gridwidth": 2,
            "linecolor": "#506784",
            "showbackground": true,
            "ticks": "",
            "zerolinecolor": "#C8D4E3"
           },
           "zaxis": {
            "backgroundcolor": "rgb(17,17,17)",
            "gridcolor": "#506784",
            "gridwidth": 2,
            "linecolor": "#506784",
            "showbackground": true,
            "ticks": "",
            "zerolinecolor": "#C8D4E3"
           }
          },
          "shapedefaults": {
           "line": {
            "color": "#f2f5fa"
           }
          },
          "sliderdefaults": {
           "bgcolor": "#C8D4E3",
           "bordercolor": "rgb(17,17,17)",
           "borderwidth": 1,
           "tickwidth": 0
          },
          "ternary": {
           "aaxis": {
            "gridcolor": "#506784",
            "linecolor": "#506784",
            "ticks": ""
           },
           "baxis": {
            "gridcolor": "#506784",
            "linecolor": "#506784",
            "ticks": ""
           },
           "bgcolor": "rgb(17,17,17)",
           "caxis": {
            "gridcolor": "#506784",
            "linecolor": "#506784",
            "ticks": ""
           }
          },
          "title": {
           "x": 0.05
          },
          "updatemenudefaults": {
           "bgcolor": "#506784",
           "borderwidth": 0
          },
          "xaxis": {
           "automargin": true,
           "gridcolor": "#283442",
           "linecolor": "#506784",
           "ticks": "",
           "title": {
            "standoff": 15
           },
           "zerolinecolor": "#283442",
           "zerolinewidth": 2
          },
          "yaxis": {
           "automargin": true,
           "gridcolor": "#283442",
           "linecolor": "#506784",
           "ticks": "",
           "title": {
            "standoff": 15
           },
           "zerolinecolor": "#283442",
           "zerolinewidth": 2
          }
         }
        },
        "title": {
         "text": "Operating Characteristic (OC) curve, population(M)=150"
        },
        "xaxis": {
         "anchor": "y",
         "domain": [
          0,
          1
         ],
         "title": {
          "text": "Lot_Defective(%)"
         }
        },
        "yaxis": {
         "anchor": "x",
         "domain": [
          0,
          1
         ],
         "title": {
          "text": "Prob_Accept(%)"
         }
        }
       }
      }
     },
     "metadata": {},
     "output_type": "display_data"
    }
   ],
   "source": [
    "fig = px.line(df, x='Lot_Defective', y='Prob_Accept', color='N_drawn',height=600\n",
    "                ,title=f\"Operating Characteristic (OC) curve, population(M)={M}\"\n",
    "                ,labels={\n",
    "                    'Lot_Defective':'Lot_Defective(%)',\n",
    "                    'Prob_Accept':'Prob_Accept(%)',\n",
    "                    'N_drawn':'N_drawn(#)'})\n",
    "fig.add_hline(y=5, line_dash=\"dash\"\n",
    "            ,annotation_text=\"5%\"\n",
    "            ,annotation_position=\"top left\"\n",
    "            ,annotation_font_size=15)\n",
    "fig.show()\n",
    "# fig.write_html(f\"OCcurve_population{M}.html\")"
   ]
  },
  {
   "attachments": {},
   "cell_type": "markdown",
   "metadata": {},
   "source": [
    "AOQ curve"
   ]
  },
  {
   "cell_type": "code",
   "execution_count": 6,
   "metadata": {},
   "outputs": [
    {
     "data": {
      "application/vnd.plotly.v1+json": {
       "config": {
        "plotlyServerURL": "https://plot.ly"
       },
       "data": [
        {
         "hovertemplate": "N_drawn(#)=5<br>Lot_Defective(%)=%{x}<br>AOQ(%Defective)=%{y}<extra></extra>",
         "legendgroup": "5",
         "line": {
          "color": "#636efa",
          "dash": "solid"
         },
         "marker": {
          "symbol": "circle"
         },
         "mode": "lines",
         "name": "5",
         "orientation": "v",
         "showlegend": true,
         "type": "scatter",
         "x": [
          0,
          0.67,
          1.3299999999999998,
          2,
          2.67,
          3.3300000000000005,
          4,
          4.67,
          5.33,
          6,
          6.67,
          7.33,
          8,
          8.67,
          9.33,
          10,
          10.67,
          11.33,
          12,
          12.67,
          13.33,
          14.000000000000002,
          14.67,
          15.329999999999998,
          16,
          16.669999999999998,
          17.330000000000002,
          18,
          18.67,
          19.33,
          20,
          20.669999999999998,
          21.33,
          22,
          22.67,
          23.330000000000002,
          24,
          24.67,
          25.330000000000002,
          26,
          26.669999999999998,
          27.33,
          28.000000000000004,
          28.67,
          29.330000000000002,
          30,
          30.669999999999998,
          31.330000000000002,
          32,
          32.67,
          33.33,
          34,
          34.67,
          35.33,
          36,
          36.67,
          37.330000000000005,
          38,
          38.67,
          39.33,
          40,
          40.67,
          41.33,
          42,
          42.67,
          43.33,
          44,
          44.67,
          45.33,
          46,
          46.67,
          47.33,
          48,
          48.67,
          49.33,
          50,
          50.67,
          51.33,
          52,
          52.669999999999995,
          53.33,
          54,
          54.669999999999995,
          55.33,
          56.00000000000001,
          56.67,
          57.330000000000005,
          57.99999999999999,
          58.67,
          59.330000000000005,
          60,
          60.67,
          61.33,
          62,
          62.67,
          63.33,
          64,
          64.67,
          65.33,
          66
         ],
         "xaxis": "x",
         "y": [
          0,
          0.62,
          1.2,
          1.75,
          2.25,
          2.71,
          3.14,
          3.54,
          3.9,
          4.24,
          4.54,
          4.82,
          5.07,
          5.29,
          5.49,
          5.66,
          5.82,
          5.95,
          6.07,
          6.16,
          6.24,
          6.3,
          6.34,
          6.37,
          6.38,
          6.39,
          6.38,
          6.35,
          6.32,
          6.28,
          6.23,
          6.17,
          6.1,
          6.02,
          5.94,
          5.85,
          5.76,
          5.66,
          5.55,
          5.44,
          5.33,
          5.22,
          5.1,
          4.98,
          4.86,
          4.73,
          4.61,
          4.48,
          4.36,
          4.23,
          4.1,
          3.97,
          3.85,
          3.72,
          3.59,
          3.47,
          3.35,
          3.23,
          3.11,
          2.99,
          2.87,
          2.76,
          2.65,
          2.54,
          2.43,
          2.32,
          2.22,
          2.12,
          2.02,
          1.93,
          1.83,
          1.74,
          1.66,
          1.57,
          1.49,
          1.41,
          1.33,
          1.26,
          1.19,
          1.12,
          1.06,
          0.99,
          0.93,
          0.87,
          0.82,
          0.77,
          0.71,
          0.67,
          0.62,
          0.58,
          0.53,
          0.5,
          0.46,
          0.43,
          0.39,
          0.36,
          0.33,
          0.31,
          0.28,
          0.26
         ],
         "yaxis": "y"
        },
        {
         "hovertemplate": "N_drawn(#)=12<br>Lot_Defective(%)=%{x}<br>AOQ(%Defective)=%{y}<extra></extra>",
         "legendgroup": "12",
         "line": {
          "color": "#EF553B",
          "dash": "solid"
         },
         "marker": {
          "symbol": "circle"
         },
         "mode": "lines",
         "name": "12",
         "orientation": "v",
         "showlegend": true,
         "type": "scatter",
         "x": [
          0,
          0.67,
          1.3299999999999998,
          2,
          2.67,
          3.3300000000000005,
          4,
          4.67,
          5.33,
          6,
          6.67,
          7.33,
          8,
          8.67,
          9.33,
          10,
          10.67,
          11.33,
          12,
          12.67,
          13.33,
          14.000000000000002,
          14.67,
          15.329999999999998,
          16,
          16.669999999999998,
          17.330000000000002,
          18,
          18.67,
          19.33,
          20,
          20.669999999999998,
          21.33,
          22,
          22.67,
          23.330000000000002,
          24,
          24.67,
          25.330000000000002,
          26,
          26.669999999999998,
          27.33,
          28.000000000000004,
          28.67,
          29.330000000000002,
          30,
          30.669999999999998,
          31.330000000000002,
          32,
          32.67,
          33.33,
          34,
          34.67,
          35.33,
          36,
          36.67,
          37.330000000000005,
          38,
          38.67,
          39.33,
          40,
          40.67,
          41.33,
          42,
          42.67,
          43.33,
          44,
          44.67,
          45.33,
          46,
          46.67,
          47.33,
          48,
          48.67,
          49.33,
          50,
          50.67,
          51.33,
          52,
          52.669999999999995,
          53.33,
          54,
          54.669999999999995,
          55.33,
          56.00000000000001,
          56.67,
          57.330000000000005,
          57.99999999999999,
          58.67,
          59.330000000000005,
          60,
          60.67,
          61.33,
          62,
          62.67,
          63.33,
          64,
          64.67,
          65.33,
          66
         ],
         "xaxis": "x",
         "y": [
          0,
          0.56,
          1.04,
          1.43,
          1.75,
          2.01,
          2.21,
          2.37,
          2.48,
          2.55,
          2.59,
          2.61,
          2.6,
          2.57,
          2.53,
          2.47,
          2.4,
          2.32,
          2.23,
          2.14,
          2.05,
          1.95,
          1.86,
          1.76,
          1.66,
          1.57,
          1.47,
          1.38,
          1.29,
          1.21,
          1.12,
          1.05,
          0.97,
          0.9,
          0.83,
          0.77,
          0.71,
          0.65,
          0.6,
          0.55,
          0.5,
          0.46,
          0.42,
          0.38,
          0.35,
          0.31,
          0.28,
          0.26,
          0.23,
          0.21,
          0.19,
          0.17,
          0.15,
          0.13,
          0.12,
          0.11,
          0.1,
          0.08,
          0.07,
          0.07,
          0.06,
          0.05,
          0.05,
          0.04,
          0.04,
          0.03,
          0.03,
          0.02,
          0.02,
          0.02,
          0.01,
          0.01,
          0.01,
          0.01,
          0.01,
          0.01,
          0,
          0,
          0,
          0,
          0,
          0,
          0,
          0,
          0,
          0,
          0,
          0,
          0,
          0,
          0,
          0,
          0,
          0,
          0,
          0,
          0,
          0,
          0,
          0
         ],
         "yaxis": "y"
        },
        {
         "hovertemplate": "N_drawn(#)=32<br>Lot_Defective(%)=%{x}<br>AOQ(%Defective)=%{y}<extra></extra>",
         "legendgroup": "32",
         "line": {
          "color": "#00cc96",
          "dash": "solid"
         },
         "marker": {
          "symbol": "circle"
         },
         "mode": "lines",
         "name": "32",
         "orientation": "v",
         "showlegend": true,
         "type": "scatter",
         "x": [
          0,
          0.67,
          1.3299999999999998,
          2,
          2.67,
          3.3300000000000005,
          4,
          4.67,
          5.33,
          6,
          6.67,
          7.33,
          8,
          8.67,
          9.33,
          10,
          10.67,
          11.33,
          12,
          12.67,
          13.33,
          14.000000000000002,
          14.67,
          15.329999999999998,
          16,
          16.669999999999998,
          17.330000000000002,
          18,
          18.67,
          19.33,
          20,
          20.669999999999998,
          21.33,
          22,
          22.67,
          23.330000000000002,
          24,
          24.67,
          25.330000000000002,
          26,
          26.669999999999998,
          27.33,
          28.000000000000004,
          28.67,
          29.330000000000002,
          30,
          30.669999999999998,
          31.330000000000002,
          32,
          32.67,
          33.33,
          34,
          34.67,
          35.33,
          36,
          36.67,
          37.330000000000005,
          38,
          38.67,
          39.33,
          40,
          40.67,
          41.33,
          42,
          42.67,
          43.33,
          44,
          44.67,
          45.33,
          46,
          46.67,
          47.33,
          48,
          48.67,
          49.33,
          50,
          50.67,
          51.33,
          52,
          52.669999999999995,
          53.33,
          54,
          54.669999999999995,
          55.33,
          56.00000000000001,
          56.67,
          57.330000000000005,
          57.99999999999999,
          58.67,
          59.330000000000005,
          60,
          60.67,
          61.33,
          62,
          62.67,
          63.33,
          64,
          64.67,
          65.33,
          66
         ],
         "xaxis": "x",
         "y": [
          0,
          0.41,
          0.65,
          0.76,
          0.79,
          0.78,
          0.73,
          0.66,
          0.58,
          0.51,
          0.44,
          0.37,
          0.31,
          0.26,
          0.21,
          0.18,
          0.14,
          0.12,
          0.09,
          0.07,
          0.06,
          0.05,
          0.04,
          0.03,
          0.02,
          0.02,
          0.01,
          0.01,
          0.01,
          0.01,
          0,
          0,
          0,
          0,
          0,
          0,
          0,
          0,
          0,
          0,
          0,
          0,
          0,
          0,
          0,
          0,
          0,
          0,
          0,
          0,
          0,
          0,
          0,
          0,
          0,
          0,
          0,
          0,
          0,
          0,
          0,
          0,
          0,
          0,
          0,
          0,
          0,
          0,
          0,
          0,
          0,
          0,
          0,
          0,
          0,
          0,
          0,
          0,
          0,
          0,
          0,
          0,
          0,
          0,
          0,
          0,
          0,
          0,
          0,
          0,
          0,
          0,
          0,
          0,
          0,
          0,
          0,
          0,
          0,
          0
         ],
         "yaxis": "y"
        },
        {
         "hovertemplate": "N_drawn(#)=80<br>Lot_Defective(%)=%{x}<br>AOQ(%Defective)=%{y}<extra></extra>",
         "legendgroup": "80",
         "line": {
          "color": "#ab63fa",
          "dash": "solid"
         },
         "marker": {
          "symbol": "circle"
         },
         "mode": "lines",
         "name": "80",
         "orientation": "v",
         "showlegend": true,
         "type": "scatter",
         "x": [
          0,
          0.67,
          1.3299999999999998,
          2,
          2.67,
          3.3300000000000005,
          4,
          4.67,
          5.33,
          6,
          6.67,
          7.33,
          8,
          8.67,
          9.33,
          10,
          10.67,
          11.33,
          12,
          12.67,
          13.33,
          14.000000000000002,
          14.67,
          15.329999999999998,
          16,
          16.669999999999998,
          17.330000000000002,
          18,
          18.67,
          19.33,
          20,
          20.669999999999998,
          21.33,
          22,
          22.67,
          23.330000000000002,
          24,
          24.67,
          25.330000000000002,
          26,
          26.669999999999998,
          27.33,
          28.000000000000004,
          28.67,
          29.330000000000002,
          30,
          30.669999999999998,
          31.330000000000002,
          32,
          32.67,
          33.33,
          34,
          34.67,
          35.33,
          36,
          36.67,
          37.330000000000005,
          38,
          38.67,
          39.33,
          40,
          40.67,
          41.33,
          42,
          42.67,
          43.33,
          44,
          44.67,
          45.33,
          46,
          46.67,
          47.33,
          48,
          48.67,
          49.33,
          50,
          50.67,
          51.33,
          52,
          52.669999999999995,
          53.33,
          54,
          54.669999999999995,
          55.33,
          56.00000000000001,
          56.67,
          57.330000000000005,
          57.99999999999999,
          58.67,
          59.330000000000005,
          60,
          60.67,
          61.33,
          62,
          62.67,
          63.33,
          64,
          64.67,
          65.33,
          66
         ],
         "xaxis": "x",
         "y": [
          0,
          0.15,
          0.13,
          0.09,
          0.06,
          0.03,
          0.02,
          0.01,
          0,
          0,
          0,
          0,
          0,
          0,
          0,
          0,
          0,
          0,
          0,
          0,
          0,
          0,
          0,
          0,
          0,
          0,
          0,
          0,
          0,
          0,
          0,
          0,
          0,
          0,
          0,
          0,
          0,
          0,
          0,
          0,
          0,
          0,
          0,
          0,
          0,
          0,
          0,
          0,
          0,
          0,
          0,
          0,
          0,
          0,
          0,
          0,
          0,
          0,
          0,
          0,
          0,
          0,
          0,
          0,
          0,
          0,
          0,
          0,
          0,
          0,
          0,
          0,
          0,
          0,
          0,
          0,
          0,
          0,
          0,
          0,
          0,
          0,
          0,
          0,
          0,
          0,
          0,
          0,
          0,
          0,
          0,
          0,
          0,
          0,
          0,
          0,
          0,
          0,
          0,
          0
         ],
         "yaxis": "y"
        },
        {
         "hovertemplate": "N_drawn(#)=170<br>Lot_Defective(%)=%{x}<br>AOQ(%Defective)=%{y}<extra></extra>",
         "legendgroup": "170",
         "line": {
          "color": "#FFA15A",
          "dash": "solid"
         },
         "marker": {
          "symbol": "circle"
         },
         "mode": "lines",
         "name": "170",
         "orientation": "v",
         "showlegend": true,
         "type": "scatter",
         "x": [
          0,
          0.67,
          1.3299999999999998,
          2,
          2.67,
          3.3300000000000005,
          4,
          4.67,
          5.33,
          6,
          6.67,
          7.33,
          8,
          8.67,
          9.33,
          10,
          10.67,
          11.33,
          12,
          12.67,
          13.33,
          14.000000000000002,
          14.67,
          15.329999999999998,
          16,
          16.669999999999998,
          17.330000000000002,
          18,
          18.67,
          19.33,
          20,
          20.669999999999998,
          21.33,
          22,
          22.67,
          23.330000000000002,
          24,
          24.67,
          25.330000000000002,
          26,
          26.669999999999998,
          27.33,
          28.000000000000004,
          28.67,
          29.330000000000002,
          30,
          30.669999999999998,
          31.330000000000002,
          32,
          32.67,
          33.33,
          34,
          34.67,
          35.33,
          36,
          36.67,
          37.330000000000005,
          38,
          38.67,
          39.33,
          40,
          40.67,
          41.33,
          42,
          42.67,
          43.33,
          44,
          44.67,
          45.33,
          46,
          46.67,
          47.33,
          48,
          48.67,
          49.33,
          50,
          50.67,
          51.33,
          52,
          52.669999999999995,
          53.33,
          54,
          54.669999999999995,
          55.33,
          56.00000000000001,
          56.67,
          57.330000000000005,
          57.99999999999999,
          58.67,
          59.330000000000005,
          60,
          60.67,
          61.33,
          62,
          62.67,
          63.33,
          64,
          64.67,
          65.33,
          66
         ],
         "xaxis": "x",
         "y": [
          null,
          null,
          null,
          null,
          null,
          null,
          null,
          null,
          null,
          null,
          null,
          null,
          null,
          null,
          null,
          null,
          null,
          null,
          null,
          null,
          null,
          null,
          null,
          null,
          null,
          null,
          null,
          null,
          null,
          null,
          null,
          null,
          null,
          null,
          null,
          null,
          null,
          null,
          null,
          null,
          null,
          null,
          null,
          null,
          null,
          null,
          null,
          null,
          null,
          null,
          null,
          null,
          null,
          null,
          null,
          null,
          null,
          null,
          null,
          null,
          null,
          null,
          null,
          null,
          null,
          null,
          null,
          null,
          null,
          null,
          null,
          null,
          null,
          null,
          null,
          null,
          null,
          null,
          null,
          null,
          null,
          null,
          null,
          null,
          null,
          null,
          null,
          null,
          null,
          null,
          null,
          null,
          null,
          null,
          null,
          null,
          null,
          null,
          null,
          null
         ],
         "yaxis": "y"
        }
       ],
       "layout": {
        "height": 600,
        "legend": {
         "title": {
          "text": "N_drawn(#)"
         },
         "tracegroupgap": 0
        },
        "template": {
         "data": {
          "bar": [
           {
            "error_x": {
             "color": "#f2f5fa"
            },
            "error_y": {
             "color": "#f2f5fa"
            },
            "marker": {
             "line": {
              "color": "rgb(17,17,17)",
              "width": 0.5
             },
             "pattern": {
              "fillmode": "overlay",
              "size": 10,
              "solidity": 0.2
             }
            },
            "type": "bar"
           }
          ],
          "barpolar": [
           {
            "marker": {
             "line": {
              "color": "rgb(17,17,17)",
              "width": 0.5
             },
             "pattern": {
              "fillmode": "overlay",
              "size": 10,
              "solidity": 0.2
             }
            },
            "type": "barpolar"
           }
          ],
          "carpet": [
           {
            "aaxis": {
             "endlinecolor": "#A2B1C6",
             "gridcolor": "#506784",
             "linecolor": "#506784",
             "minorgridcolor": "#506784",
             "startlinecolor": "#A2B1C6"
            },
            "baxis": {
             "endlinecolor": "#A2B1C6",
             "gridcolor": "#506784",
             "linecolor": "#506784",
             "minorgridcolor": "#506784",
             "startlinecolor": "#A2B1C6"
            },
            "type": "carpet"
           }
          ],
          "choropleth": [
           {
            "colorbar": {
             "outlinewidth": 0,
             "ticks": ""
            },
            "type": "choropleth"
           }
          ],
          "contour": [
           {
            "colorbar": {
             "outlinewidth": 0,
             "ticks": ""
            },
            "colorscale": [
             [
              0,
              "#0d0887"
             ],
             [
              0.1111111111111111,
              "#46039f"
             ],
             [
              0.2222222222222222,
              "#7201a8"
             ],
             [
              0.3333333333333333,
              "#9c179e"
             ],
             [
              0.4444444444444444,
              "#bd3786"
             ],
             [
              0.5555555555555556,
              "#d8576b"
             ],
             [
              0.6666666666666666,
              "#ed7953"
             ],
             [
              0.7777777777777778,
              "#fb9f3a"
             ],
             [
              0.8888888888888888,
              "#fdca26"
             ],
             [
              1,
              "#f0f921"
             ]
            ],
            "type": "contour"
           }
          ],
          "contourcarpet": [
           {
            "colorbar": {
             "outlinewidth": 0,
             "ticks": ""
            },
            "type": "contourcarpet"
           }
          ],
          "heatmap": [
           {
            "colorbar": {
             "outlinewidth": 0,
             "ticks": ""
            },
            "colorscale": [
             [
              0,
              "#0d0887"
             ],
             [
              0.1111111111111111,
              "#46039f"
             ],
             [
              0.2222222222222222,
              "#7201a8"
             ],
             [
              0.3333333333333333,
              "#9c179e"
             ],
             [
              0.4444444444444444,
              "#bd3786"
             ],
             [
              0.5555555555555556,
              "#d8576b"
             ],
             [
              0.6666666666666666,
              "#ed7953"
             ],
             [
              0.7777777777777778,
              "#fb9f3a"
             ],
             [
              0.8888888888888888,
              "#fdca26"
             ],
             [
              1,
              "#f0f921"
             ]
            ],
            "type": "heatmap"
           }
          ],
          "heatmapgl": [
           {
            "colorbar": {
             "outlinewidth": 0,
             "ticks": ""
            },
            "colorscale": [
             [
              0,
              "#0d0887"
             ],
             [
              0.1111111111111111,
              "#46039f"
             ],
             [
              0.2222222222222222,
              "#7201a8"
             ],
             [
              0.3333333333333333,
              "#9c179e"
             ],
             [
              0.4444444444444444,
              "#bd3786"
             ],
             [
              0.5555555555555556,
              "#d8576b"
             ],
             [
              0.6666666666666666,
              "#ed7953"
             ],
             [
              0.7777777777777778,
              "#fb9f3a"
             ],
             [
              0.8888888888888888,
              "#fdca26"
             ],
             [
              1,
              "#f0f921"
             ]
            ],
            "type": "heatmapgl"
           }
          ],
          "histogram": [
           {
            "marker": {
             "pattern": {
              "fillmode": "overlay",
              "size": 10,
              "solidity": 0.2
             }
            },
            "type": "histogram"
           }
          ],
          "histogram2d": [
           {
            "colorbar": {
             "outlinewidth": 0,
             "ticks": ""
            },
            "colorscale": [
             [
              0,
              "#0d0887"
             ],
             [
              0.1111111111111111,
              "#46039f"
             ],
             [
              0.2222222222222222,
              "#7201a8"
             ],
             [
              0.3333333333333333,
              "#9c179e"
             ],
             [
              0.4444444444444444,
              "#bd3786"
             ],
             [
              0.5555555555555556,
              "#d8576b"
             ],
             [
              0.6666666666666666,
              "#ed7953"
             ],
             [
              0.7777777777777778,
              "#fb9f3a"
             ],
             [
              0.8888888888888888,
              "#fdca26"
             ],
             [
              1,
              "#f0f921"
             ]
            ],
            "type": "histogram2d"
           }
          ],
          "histogram2dcontour": [
           {
            "colorbar": {
             "outlinewidth": 0,
             "ticks": ""
            },
            "colorscale": [
             [
              0,
              "#0d0887"
             ],
             [
              0.1111111111111111,
              "#46039f"
             ],
             [
              0.2222222222222222,
              "#7201a8"
             ],
             [
              0.3333333333333333,
              "#9c179e"
             ],
             [
              0.4444444444444444,
              "#bd3786"
             ],
             [
              0.5555555555555556,
              "#d8576b"
             ],
             [
              0.6666666666666666,
              "#ed7953"
             ],
             [
              0.7777777777777778,
              "#fb9f3a"
             ],
             [
              0.8888888888888888,
              "#fdca26"
             ],
             [
              1,
              "#f0f921"
             ]
            ],
            "type": "histogram2dcontour"
           }
          ],
          "mesh3d": [
           {
            "colorbar": {
             "outlinewidth": 0,
             "ticks": ""
            },
            "type": "mesh3d"
           }
          ],
          "parcoords": [
           {
            "line": {
             "colorbar": {
              "outlinewidth": 0,
              "ticks": ""
             }
            },
            "type": "parcoords"
           }
          ],
          "pie": [
           {
            "automargin": true,
            "type": "pie"
           }
          ],
          "scatter": [
           {
            "marker": {
             "line": {
              "color": "#283442"
             }
            },
            "type": "scatter"
           }
          ],
          "scatter3d": [
           {
            "line": {
             "colorbar": {
              "outlinewidth": 0,
              "ticks": ""
             }
            },
            "marker": {
             "colorbar": {
              "outlinewidth": 0,
              "ticks": ""
             }
            },
            "type": "scatter3d"
           }
          ],
          "scattercarpet": [
           {
            "marker": {
             "colorbar": {
              "outlinewidth": 0,
              "ticks": ""
             }
            },
            "type": "scattercarpet"
           }
          ],
          "scattergeo": [
           {
            "marker": {
             "colorbar": {
              "outlinewidth": 0,
              "ticks": ""
             }
            },
            "type": "scattergeo"
           }
          ],
          "scattergl": [
           {
            "marker": {
             "line": {
              "color": "#283442"
             }
            },
            "type": "scattergl"
           }
          ],
          "scattermapbox": [
           {
            "marker": {
             "colorbar": {
              "outlinewidth": 0,
              "ticks": ""
             }
            },
            "type": "scattermapbox"
           }
          ],
          "scatterpolar": [
           {
            "marker": {
             "colorbar": {
              "outlinewidth": 0,
              "ticks": ""
             }
            },
            "type": "scatterpolar"
           }
          ],
          "scatterpolargl": [
           {
            "marker": {
             "colorbar": {
              "outlinewidth": 0,
              "ticks": ""
             }
            },
            "type": "scatterpolargl"
           }
          ],
          "scatterternary": [
           {
            "marker": {
             "colorbar": {
              "outlinewidth": 0,
              "ticks": ""
             }
            },
            "type": "scatterternary"
           }
          ],
          "surface": [
           {
            "colorbar": {
             "outlinewidth": 0,
             "ticks": ""
            },
            "colorscale": [
             [
              0,
              "#0d0887"
             ],
             [
              0.1111111111111111,
              "#46039f"
             ],
             [
              0.2222222222222222,
              "#7201a8"
             ],
             [
              0.3333333333333333,
              "#9c179e"
             ],
             [
              0.4444444444444444,
              "#bd3786"
             ],
             [
              0.5555555555555556,
              "#d8576b"
             ],
             [
              0.6666666666666666,
              "#ed7953"
             ],
             [
              0.7777777777777778,
              "#fb9f3a"
             ],
             [
              0.8888888888888888,
              "#fdca26"
             ],
             [
              1,
              "#f0f921"
             ]
            ],
            "type": "surface"
           }
          ],
          "table": [
           {
            "cells": {
             "fill": {
              "color": "#506784"
             },
             "line": {
              "color": "rgb(17,17,17)"
             }
            },
            "header": {
             "fill": {
              "color": "#2a3f5f"
             },
             "line": {
              "color": "rgb(17,17,17)"
             }
            },
            "type": "table"
           }
          ]
         },
         "layout": {
          "annotationdefaults": {
           "arrowcolor": "#f2f5fa",
           "arrowhead": 0,
           "arrowwidth": 1
          },
          "autotypenumbers": "strict",
          "coloraxis": {
           "colorbar": {
            "outlinewidth": 0,
            "ticks": ""
           }
          },
          "colorscale": {
           "diverging": [
            [
             0,
             "#8e0152"
            ],
            [
             0.1,
             "#c51b7d"
            ],
            [
             0.2,
             "#de77ae"
            ],
            [
             0.3,
             "#f1b6da"
            ],
            [
             0.4,
             "#fde0ef"
            ],
            [
             0.5,
             "#f7f7f7"
            ],
            [
             0.6,
             "#e6f5d0"
            ],
            [
             0.7,
             "#b8e186"
            ],
            [
             0.8,
             "#7fbc41"
            ],
            [
             0.9,
             "#4d9221"
            ],
            [
             1,
             "#276419"
            ]
           ],
           "sequential": [
            [
             0,
             "#0d0887"
            ],
            [
             0.1111111111111111,
             "#46039f"
            ],
            [
             0.2222222222222222,
             "#7201a8"
            ],
            [
             0.3333333333333333,
             "#9c179e"
            ],
            [
             0.4444444444444444,
             "#bd3786"
            ],
            [
             0.5555555555555556,
             "#d8576b"
            ],
            [
             0.6666666666666666,
             "#ed7953"
            ],
            [
             0.7777777777777778,
             "#fb9f3a"
            ],
            [
             0.8888888888888888,
             "#fdca26"
            ],
            [
             1,
             "#f0f921"
            ]
           ],
           "sequentialminus": [
            [
             0,
             "#0d0887"
            ],
            [
             0.1111111111111111,
             "#46039f"
            ],
            [
             0.2222222222222222,
             "#7201a8"
            ],
            [
             0.3333333333333333,
             "#9c179e"
            ],
            [
             0.4444444444444444,
             "#bd3786"
            ],
            [
             0.5555555555555556,
             "#d8576b"
            ],
            [
             0.6666666666666666,
             "#ed7953"
            ],
            [
             0.7777777777777778,
             "#fb9f3a"
            ],
            [
             0.8888888888888888,
             "#fdca26"
            ],
            [
             1,
             "#f0f921"
            ]
           ]
          },
          "colorway": [
           "#636efa",
           "#EF553B",
           "#00cc96",
           "#ab63fa",
           "#FFA15A",
           "#19d3f3",
           "#FF6692",
           "#B6E880",
           "#FF97FF",
           "#FECB52"
          ],
          "font": {
           "color": "#f2f5fa"
          },
          "geo": {
           "bgcolor": "rgb(17,17,17)",
           "lakecolor": "rgb(17,17,17)",
           "landcolor": "rgb(17,17,17)",
           "showlakes": true,
           "showland": true,
           "subunitcolor": "#506784"
          },
          "hoverlabel": {
           "align": "left"
          },
          "hovermode": "closest",
          "mapbox": {
           "style": "dark"
          },
          "paper_bgcolor": "rgb(17,17,17)",
          "plot_bgcolor": "rgb(17,17,17)",
          "polar": {
           "angularaxis": {
            "gridcolor": "#506784",
            "linecolor": "#506784",
            "ticks": ""
           },
           "bgcolor": "rgb(17,17,17)",
           "radialaxis": {
            "gridcolor": "#506784",
            "linecolor": "#506784",
            "ticks": ""
           }
          },
          "scene": {
           "xaxis": {
            "backgroundcolor": "rgb(17,17,17)",
            "gridcolor": "#506784",
            "gridwidth": 2,
            "linecolor": "#506784",
            "showbackground": true,
            "ticks": "",
            "zerolinecolor": "#C8D4E3"
           },
           "yaxis": {
            "backgroundcolor": "rgb(17,17,17)",
            "gridcolor": "#506784",
            "gridwidth": 2,
            "linecolor": "#506784",
            "showbackground": true,
            "ticks": "",
            "zerolinecolor": "#C8D4E3"
           },
           "zaxis": {
            "backgroundcolor": "rgb(17,17,17)",
            "gridcolor": "#506784",
            "gridwidth": 2,
            "linecolor": "#506784",
            "showbackground": true,
            "ticks": "",
            "zerolinecolor": "#C8D4E3"
           }
          },
          "shapedefaults": {
           "line": {
            "color": "#f2f5fa"
           }
          },
          "sliderdefaults": {
           "bgcolor": "#C8D4E3",
           "bordercolor": "rgb(17,17,17)",
           "borderwidth": 1,
           "tickwidth": 0
          },
          "ternary": {
           "aaxis": {
            "gridcolor": "#506784",
            "linecolor": "#506784",
            "ticks": ""
           },
           "baxis": {
            "gridcolor": "#506784",
            "linecolor": "#506784",
            "ticks": ""
           },
           "bgcolor": "rgb(17,17,17)",
           "caxis": {
            "gridcolor": "#506784",
            "linecolor": "#506784",
            "ticks": ""
           }
          },
          "title": {
           "x": 0.05
          },
          "updatemenudefaults": {
           "bgcolor": "#506784",
           "borderwidth": 0
          },
          "xaxis": {
           "automargin": true,
           "gridcolor": "#283442",
           "linecolor": "#506784",
           "ticks": "",
           "title": {
            "standoff": 15
           },
           "zerolinecolor": "#283442",
           "zerolinewidth": 2
          },
          "yaxis": {
           "automargin": true,
           "gridcolor": "#283442",
           "linecolor": "#506784",
           "ticks": "",
           "title": {
            "standoff": 15
           },
           "zerolinecolor": "#283442",
           "zerolinewidth": 2
          }
         }
        },
        "title": {
         "text": "Average Outgoing Quality (AOQ) curve, population(M)=150"
        },
        "xaxis": {
         "anchor": "y",
         "domain": [
          0,
          1
         ],
         "title": {
          "text": "Lot_Defective(%)"
         }
        },
        "yaxis": {
         "anchor": "x",
         "domain": [
          0,
          1
         ],
         "title": {
          "text": "AOQ(%Defective)"
         }
        }
       }
      }
     },
     "metadata": {},
     "output_type": "display_data"
    }
   ],
   "source": [
    "fig2 = px.line(df, x='Lot_Defective', y='AOQ', color='N_drawn',height=600\n",
    "                ,title=f\"Average Outgoing Quality (AOQ) curve, population(M)={M}\"\n",
    "                ,labels={\n",
    "                    'Lot_Defective':'Lot_Defective(%)',\n",
    "                    'AOQ':'AOQ(%Defective)',\n",
    "                    'N_drawn':'N_drawn(#)'})\n",
    "fig2.show()\n",
    "# fig.write_html(f\"AOQcurve_population{M}.html\")"
   ]
  }
 ],
 "metadata": {
  "kernelspec": {
   "display_name": "Python 3.8.10 ('workspace')",
   "language": "python",
   "name": "python3"
  },
  "language_info": {
   "codemirror_mode": {
    "name": "ipython",
    "version": 3
   },
   "file_extension": ".py",
   "mimetype": "text/x-python",
   "name": "python",
   "nbconvert_exporter": "python",
   "pygments_lexer": "ipython3",
   "version": "3.8.10"
  },
  "orig_nbformat": 4,
  "vscode": {
   "interpreter": {
    "hash": "d7ba5307f264c9d62b544121f5029238a64acfef4aaa56e4d1098951fb013dec"
   }
  }
 },
 "nbformat": 4,
 "nbformat_minor": 2
}
