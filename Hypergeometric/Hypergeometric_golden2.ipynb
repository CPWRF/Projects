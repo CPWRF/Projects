{
 "cells": [
  {
   "cell_type": "code",
   "execution_count": 2,
   "metadata": {},
   "outputs": [],
   "source": [
    "from scipy.stats import hypergeom\n",
    "import matplotlib.pyplot as plt\n",
    "from numpy import vectorize\n",
    "import pandas as pd\n",
    "import plotly.express as px\n",
    "from plotly.io import templates"
   ]
  },
  {
   "attachments": {},
   "cell_type": "markdown",
   "metadata": {},
   "source": [
    "Hypergeom & Sampling plan"
   ]
  },
  {
   "cell_type": "code",
   "execution_count": 12,
   "metadata": {},
   "outputs": [],
   "source": [
    "#M : Total number of objects, N : N drawn without replacement, n : Total number of Type I objects\n",
    "M = 500\n",
    "#Sampling plan\n",
    "if 2 <= M <= 170:\n",
    "    sample_size = [5,12,32,80,170]\n",
    "elif 171 <= M <= 288:\n",
    "    sample_size = [6,12,32,80,192,288]\n",
    "elif 289 <= M <= 544:\n",
    "    sample_size = [8,16,32,80,192,512]\n",
    "elif 545 <= M <= 960:\n",
    "    sample_size = [10,20,40,80,192,512,960]\n",
    "elif 961 <= M <= 1632:\n",
    "    sample_size = [12,24,48,96,192,512,1280]\n",
    "elif 1633 <= M <= 3072:\n",
    "    sample_size = [12,32,64,128,256,512,1280]\n",
    "elif 3073 <= M <= 5440:\n",
    "    sample_size = [12,32,80,160,320,640,1280]\n",
    "elif 5441 <= M <= 9126:\n",
    "    sample_size = [12,32,80,192,384,768,1536]\n",
    "elif 9217 <= M <= 17408:\n",
    "    sample_size = [12,32,80,192,512,1024,2048]\n",
    "elif 17409 <= M <= 30720:\n",
    "    sample_size = [12,32,80,192,512,1280,2560]\n",
    "else:\n",
    "    sample_size = [12,32,80,192,512,1280,3072]\n",
    "\n",
    "result = [(M, N, n, hypergeom(M, n, N).pmf(0)) for N in sample_size for n in range(int(M/10))]\n",
    "df = pd.DataFrame(result, columns=['Total', 'N_drawn', 'NG_unit', 'Prob_Accept'])\n",
    "df.Prob_Accept = (df.Prob_Accept * 100).round(2)\n",
    "df['Lot_Defective'] = 100*(df.NG_unit / df.Total).round(4)"
   ]
  },
  {
   "attachments": {},
   "cell_type": "markdown",
   "metadata": {},
   "source": [
    "AOQ function"
   ]
  },
  {
   "cell_type": "code",
   "execution_count": 4,
   "metadata": {},
   "outputs": [],
   "source": [
    "def AOQ(Total, N_drawn, NG_unit, Prob_Accept):\n",
    "    return (Prob_Accept * (NG_unit/Total) * (Total-N_drawn))/Total\n",
    "df['AOQ'] = vectorize(AOQ)(df.Total, df.N_drawn, df.NG_unit, df.Prob_Accept).round(2)"
   ]
  },
  {
   "attachments": {},
   "cell_type": "markdown",
   "metadata": {},
   "source": [
    "Set plotly theme"
   ]
  },
  {
   "cell_type": "code",
   "execution_count": 5,
   "metadata": {},
   "outputs": [],
   "source": [
    "templates.default = \"plotly_dark\""
   ]
  },
  {
   "attachments": {},
   "cell_type": "markdown",
   "metadata": {},
   "source": [
    "OC curve"
   ]
  },
  {
   "cell_type": "code",
   "execution_count": 13,
   "metadata": {},
   "outputs": [
    {
     "data": {
      "application/vnd.plotly.v1+json": {
       "config": {
        "plotlyServerURL": "https://plot.ly"
       },
       "data": [
        {
         "hovertemplate": "N_drawn(#)=8<br>Lot_Defective(%)=%{x}<br>Prob_Accept(%)=%{y}<extra></extra>",
         "legendgroup": "8",
         "line": {
          "color": "#636efa",
          "dash": "solid"
         },
         "marker": {
          "symbol": "circle"
         },
         "mode": "lines",
         "name": "8",
         "orientation": "v",
         "showlegend": true,
         "type": "scatter",
         "x": [
          0,
          0.2,
          0.4,
          0.6,
          0.8,
          1,
          1.2,
          1.4000000000000001,
          1.6,
          1.7999999999999998,
          2,
          2.1999999999999997,
          2.4,
          2.6,
          2.8000000000000003,
          3,
          3.2,
          3.4000000000000004,
          3.5999999999999996,
          3.8,
          4,
          4.2,
          4.3999999999999995,
          4.6,
          4.8,
          5,
          5.2,
          5.4,
          5.6000000000000005,
          5.800000000000001,
          6,
          6.2,
          6.4,
          6.6000000000000005,
          6.800000000000001,
          7.000000000000001,
          7.199999999999999,
          7.3999999999999995,
          7.6,
          7.8,
          8,
          8.200000000000001,
          8.4,
          8.6,
          8.799999999999999,
          9,
          9.2,
          9.4,
          9.6,
          9.8,
          10,
          10.2,
          10.4,
          10.6,
          10.8,
          11,
          11.200000000000001,
          11.4,
          11.600000000000001,
          11.799999999999999
         ],
         "xaxis": "x",
         "y": [
          100,
          98.4,
          96.82,
          95.27,
          93.73,
          92.22,
          90.73,
          89.26,
          87.81,
          86.39,
          84.98,
          83.59,
          82.22,
          80.88,
          79.55,
          78.24,
          76.95,
          75.67,
          74.42,
          73.19,
          71.97,
          70.77,
          69.59,
          68.42,
          67.28,
          66.14,
          65.03,
          63.93,
          62.85,
          61.79,
          60.74,
          59.7,
          58.68,
          57.68,
          56.69,
          55.72,
          54.76,
          53.82,
          52.89,
          51.97,
          51.07,
          50.18,
          49.31,
          48.45,
          47.6,
          46.76,
          45.94,
          45.13,
          44.33,
          43.55,
          42.78,
          42.02,
          41.27,
          40.53,
          39.81,
          39.09,
          38.39,
          37.7,
          37.02,
          36.35
         ],
         "yaxis": "y"
        },
        {
         "hovertemplate": "N_drawn(#)=16<br>Lot_Defective(%)=%{x}<br>Prob_Accept(%)=%{y}<extra></extra>",
         "legendgroup": "16",
         "line": {
          "color": "#EF553B",
          "dash": "solid"
         },
         "marker": {
          "symbol": "circle"
         },
         "mode": "lines",
         "name": "16",
         "orientation": "v",
         "showlegend": true,
         "type": "scatter",
         "x": [
          0,
          0.2,
          0.4,
          0.6,
          0.8,
          1,
          1.2,
          1.4000000000000001,
          1.6,
          1.7999999999999998,
          2,
          2.1999999999999997,
          2.4,
          2.6,
          2.8000000000000003,
          3,
          3.2,
          3.4000000000000004,
          3.5999999999999996,
          3.8,
          4,
          4.2,
          4.3999999999999995,
          4.6,
          4.8,
          5,
          5.2,
          5.4,
          5.6000000000000005,
          5.800000000000001,
          6,
          6.2,
          6.4,
          6.6000000000000005,
          6.800000000000001,
          7.000000000000001,
          7.199999999999999,
          7.3999999999999995,
          7.6,
          7.8,
          8,
          8.200000000000001,
          8.4,
          8.6,
          8.799999999999999,
          9,
          9.2,
          9.4,
          9.6,
          9.8,
          10,
          10.2,
          10.4,
          10.6,
          10.8,
          11,
          11.200000000000001,
          11.4,
          11.600000000000001,
          11.799999999999999
         ],
         "xaxis": "x",
         "y": [
          100,
          96.8,
          93.7,
          90.69,
          87.77,
          84.94,
          82.19,
          79.53,
          76.95,
          74.44,
          72.02,
          69.67,
          67.39,
          65.18,
          63.04,
          60.96,
          58.95,
          57,
          55.11,
          53.28,
          51.51,
          49.79,
          48.13,
          46.52,
          44.96,
          43.45,
          41.98,
          40.57,
          39.2,
          37.87,
          36.58,
          35.34,
          34.13,
          32.96,
          31.83,
          30.74,
          29.68,
          28.66,
          27.67,
          26.71,
          25.78,
          24.89,
          24.02,
          23.18,
          22.37,
          21.58,
          20.82,
          20.09,
          19.38,
          18.7,
          18.03,
          17.39,
          16.77,
          16.17,
          15.59,
          15.03,
          14.49,
          13.97,
          13.47,
          12.98
         ],
         "yaxis": "y"
        },
        {
         "hovertemplate": "N_drawn(#)=32<br>Lot_Defective(%)=%{x}<br>Prob_Accept(%)=%{y}<extra></extra>",
         "legendgroup": "32",
         "line": {
          "color": "#00cc96",
          "dash": "solid"
         },
         "marker": {
          "symbol": "circle"
         },
         "mode": "lines",
         "name": "32",
         "orientation": "v",
         "showlegend": true,
         "type": "scatter",
         "x": [
          0,
          0.2,
          0.4,
          0.6,
          0.8,
          1,
          1.2,
          1.4000000000000001,
          1.6,
          1.7999999999999998,
          2,
          2.1999999999999997,
          2.4,
          2.6,
          2.8000000000000003,
          3,
          3.2,
          3.4000000000000004,
          3.5999999999999996,
          3.8,
          4,
          4.2,
          4.3999999999999995,
          4.6,
          4.8,
          5,
          5.2,
          5.4,
          5.6000000000000005,
          5.800000000000001,
          6,
          6.2,
          6.4,
          6.6000000000000005,
          6.800000000000001,
          7.000000000000001,
          7.199999999999999,
          7.3999999999999995,
          7.6,
          7.8,
          8,
          8.200000000000001,
          8.4,
          8.6,
          8.799999999999999,
          9,
          9.2,
          9.4,
          9.6,
          9.8,
          10,
          10.2,
          10.4,
          10.6,
          10.8,
          11,
          11.200000000000001,
          11.4,
          11.600000000000001,
          11.799999999999999
         ],
         "xaxis": "x",
         "y": [
          100,
          93.6,
          87.6,
          81.97,
          76.69,
          71.74,
          67.11,
          62.76,
          58.68,
          54.87,
          51.29,
          47.94,
          44.81,
          41.87,
          39.12,
          36.54,
          34.13,
          31.87,
          29.76,
          27.79,
          25.94,
          24.21,
          22.59,
          21.08,
          19.66,
          18.34,
          17.11,
          15.95,
          14.87,
          13.86,
          12.92,
          12.04,
          11.22,
          10.45,
          9.74,
          9.07,
          8.44,
          7.86,
          7.32,
          6.81,
          6.34,
          5.9,
          5.49,
          5.1,
          4.75,
          4.41,
          4.1,
          3.81,
          3.54,
          3.29,
          3.06,
          2.84,
          2.64,
          2.45,
          2.28,
          2.11,
          1.96,
          1.82,
          1.69,
          1.57
         ],
         "yaxis": "y"
        },
        {
         "hovertemplate": "N_drawn(#)=80<br>Lot_Defective(%)=%{x}<br>Prob_Accept(%)=%{y}<extra></extra>",
         "legendgroup": "80",
         "line": {
          "color": "#ab63fa",
          "dash": "solid"
         },
         "marker": {
          "symbol": "circle"
         },
         "mode": "lines",
         "name": "80",
         "orientation": "v",
         "showlegend": true,
         "type": "scatter",
         "x": [
          0,
          0.2,
          0.4,
          0.6,
          0.8,
          1,
          1.2,
          1.4000000000000001,
          1.6,
          1.7999999999999998,
          2,
          2.1999999999999997,
          2.4,
          2.6,
          2.8000000000000003,
          3,
          3.2,
          3.4000000000000004,
          3.5999999999999996,
          3.8,
          4,
          4.2,
          4.3999999999999995,
          4.6,
          4.8,
          5,
          5.2,
          5.4,
          5.6000000000000005,
          5.800000000000001,
          6,
          6.2,
          6.4,
          6.6000000000000005,
          6.800000000000001,
          7.000000000000001,
          7.199999999999999,
          7.3999999999999995,
          7.6,
          7.8,
          8,
          8.200000000000001,
          8.4,
          8.6,
          8.799999999999999,
          9,
          9.2,
          9.4,
          9.6,
          9.8,
          10,
          10.2,
          10.4,
          10.6,
          10.8,
          11,
          11.200000000000001,
          11.4,
          11.600000000000001,
          11.799999999999999
         ],
         "xaxis": "x",
         "y": [
          100,
          84,
          70.53,
          59.2,
          49.67,
          41.66,
          34.93,
          29.27,
          24.52,
          20.53,
          17.19,
          14.38,
          12.03,
          10.06,
          8.41,
          7.02,
          5.86,
          4.89,
          4.08,
          3.41,
          2.84,
          2.37,
          1.97,
          1.64,
          1.37,
          1.14,
          0.94,
          0.79,
          0.65,
          0.54,
          0.45,
          0.37,
          0.31,
          0.26,
          0.21,
          0.18,
          0.15,
          0.12,
          0.1,
          0.08,
          0.07,
          0.06,
          0.05,
          0.04,
          0.03,
          0.03,
          0.02,
          0.02,
          0.01,
          0.01,
          0.01,
          0.01,
          0.01,
          0.01,
          0,
          0,
          0,
          0,
          0,
          0
         ],
         "yaxis": "y"
        },
        {
         "hovertemplate": "N_drawn(#)=192<br>Lot_Defective(%)=%{x}<br>Prob_Accept(%)=%{y}<extra></extra>",
         "legendgroup": "192",
         "line": {
          "color": "#FFA15A",
          "dash": "solid"
         },
         "marker": {
          "symbol": "circle"
         },
         "mode": "lines",
         "name": "192",
         "orientation": "v",
         "showlegend": true,
         "type": "scatter",
         "x": [
          0,
          0.2,
          0.4,
          0.6,
          0.8,
          1,
          1.2,
          1.4000000000000001,
          1.6,
          1.7999999999999998,
          2,
          2.1999999999999997,
          2.4,
          2.6,
          2.8000000000000003,
          3,
          3.2,
          3.4000000000000004,
          3.5999999999999996,
          3.8,
          4,
          4.2,
          4.3999999999999995,
          4.6,
          4.8,
          5,
          5.2,
          5.4,
          5.6000000000000005,
          5.800000000000001,
          6,
          6.2,
          6.4,
          6.6000000000000005,
          6.800000000000001,
          7.000000000000001,
          7.199999999999999,
          7.3999999999999995,
          7.6,
          7.8,
          8,
          8.200000000000001,
          8.4,
          8.6,
          8.799999999999999,
          9,
          9.2,
          9.4,
          9.6,
          9.8,
          10,
          10.2,
          10.4,
          10.6,
          10.8,
          11,
          11.200000000000001,
          11.4,
          11.600000000000001,
          11.799999999999999
         ],
         "xaxis": "x",
         "y": [
          100,
          61.6,
          37.9,
          23.29,
          14.29,
          8.76,
          5.36,
          3.28,
          2,
          1.22,
          0.74,
          0.45,
          0.27,
          0.17,
          0.1,
          0.06,
          0.04,
          0.02,
          0.01,
          0.01,
          0,
          0,
          0,
          0,
          0,
          0,
          0,
          0,
          0,
          0,
          0,
          0,
          0,
          0,
          0,
          0,
          0,
          0,
          0,
          0,
          0,
          0,
          0,
          0,
          0,
          0,
          0,
          0,
          0,
          0,
          0,
          0,
          0,
          0,
          0,
          0,
          0,
          0,
          0,
          0
         ],
         "yaxis": "y"
        },
        {
         "hovertemplate": "N_drawn(#)=512<br>Lot_Defective(%)=%{x}<br>Prob_Accept(%)=%{y}<extra></extra>",
         "legendgroup": "512",
         "line": {
          "color": "#19d3f3",
          "dash": "solid"
         },
         "marker": {
          "symbol": "circle"
         },
         "mode": "lines",
         "name": "512",
         "orientation": "v",
         "showlegend": true,
         "type": "scatter",
         "x": [
          0,
          0.2,
          0.4,
          0.6,
          0.8,
          1,
          1.2,
          1.4000000000000001,
          1.6,
          1.7999999999999998,
          2,
          2.1999999999999997,
          2.4,
          2.6,
          2.8000000000000003,
          3,
          3.2,
          3.4000000000000004,
          3.5999999999999996,
          3.8,
          4,
          4.2,
          4.3999999999999995,
          4.6,
          4.8,
          5,
          5.2,
          5.4,
          5.6000000000000005,
          5.800000000000001,
          6,
          6.2,
          6.4,
          6.6000000000000005,
          6.800000000000001,
          7.000000000000001,
          7.199999999999999,
          7.3999999999999995,
          7.6,
          7.8,
          8,
          8.200000000000001,
          8.4,
          8.6,
          8.799999999999999,
          9,
          9.2,
          9.4,
          9.6,
          9.8,
          10,
          10.2,
          10.4,
          10.6,
          10.8,
          11,
          11.200000000000001,
          11.4,
          11.600000000000001,
          11.799999999999999
         ],
         "xaxis": "x",
         "y": [
          null,
          null,
          null,
          null,
          null,
          null,
          null,
          null,
          null,
          null,
          null,
          null,
          null,
          null,
          null,
          null,
          null,
          null,
          null,
          null,
          null,
          null,
          null,
          null,
          null,
          null,
          null,
          null,
          null,
          null,
          null,
          null,
          null,
          null,
          null,
          null,
          null,
          null,
          null,
          null,
          null,
          null,
          null,
          null,
          null,
          null,
          null,
          null,
          null,
          null,
          null,
          null,
          null,
          null,
          null,
          null,
          null,
          null,
          null,
          null
         ],
         "yaxis": "y"
        }
       ],
       "layout": {
        "annotations": [
         {
          "font": {
           "size": 15
          },
          "showarrow": false,
          "text": "5%",
          "x": 0,
          "xanchor": "left",
          "xref": "x domain",
          "y": 5,
          "yanchor": "bottom",
          "yref": "y"
         }
        ],
        "height": 600,
        "legend": {
         "title": {
          "text": "N_drawn(#)"
         },
         "tracegroupgap": 0
        },
        "shapes": [
         {
          "line": {
           "dash": "dash"
          },
          "type": "line",
          "x0": 0,
          "x1": 1,
          "xref": "x domain",
          "y0": 5,
          "y1": 5,
          "yref": "y"
         }
        ],
        "template": {
         "data": {
          "bar": [
           {
            "error_x": {
             "color": "#f2f5fa"
            },
            "error_y": {
             "color": "#f2f5fa"
            },
            "marker": {
             "line": {
              "color": "rgb(17,17,17)",
              "width": 0.5
             },
             "pattern": {
              "fillmode": "overlay",
              "size": 10,
              "solidity": 0.2
             }
            },
            "type": "bar"
           }
          ],
          "barpolar": [
           {
            "marker": {
             "line": {
              "color": "rgb(17,17,17)",
              "width": 0.5
             },
             "pattern": {
              "fillmode": "overlay",
              "size": 10,
              "solidity": 0.2
             }
            },
            "type": "barpolar"
           }
          ],
          "carpet": [
           {
            "aaxis": {
             "endlinecolor": "#A2B1C6",
             "gridcolor": "#506784",
             "linecolor": "#506784",
             "minorgridcolor": "#506784",
             "startlinecolor": "#A2B1C6"
            },
            "baxis": {
             "endlinecolor": "#A2B1C6",
             "gridcolor": "#506784",
             "linecolor": "#506784",
             "minorgridcolor": "#506784",
             "startlinecolor": "#A2B1C6"
            },
            "type": "carpet"
           }
          ],
          "choropleth": [
           {
            "colorbar": {
             "outlinewidth": 0,
             "ticks": ""
            },
            "type": "choropleth"
           }
          ],
          "contour": [
           {
            "colorbar": {
             "outlinewidth": 0,
             "ticks": ""
            },
            "colorscale": [
             [
              0,
              "#0d0887"
             ],
             [
              0.1111111111111111,
              "#46039f"
             ],
             [
              0.2222222222222222,
              "#7201a8"
             ],
             [
              0.3333333333333333,
              "#9c179e"
             ],
             [
              0.4444444444444444,
              "#bd3786"
             ],
             [
              0.5555555555555556,
              "#d8576b"
             ],
             [
              0.6666666666666666,
              "#ed7953"
             ],
             [
              0.7777777777777778,
              "#fb9f3a"
             ],
             [
              0.8888888888888888,
              "#fdca26"
             ],
             [
              1,
              "#f0f921"
             ]
            ],
            "type": "contour"
           }
          ],
          "contourcarpet": [
           {
            "colorbar": {
             "outlinewidth": 0,
             "ticks": ""
            },
            "type": "contourcarpet"
           }
          ],
          "heatmap": [
           {
            "colorbar": {
             "outlinewidth": 0,
             "ticks": ""
            },
            "colorscale": [
             [
              0,
              "#0d0887"
             ],
             [
              0.1111111111111111,
              "#46039f"
             ],
             [
              0.2222222222222222,
              "#7201a8"
             ],
             [
              0.3333333333333333,
              "#9c179e"
             ],
             [
              0.4444444444444444,
              "#bd3786"
             ],
             [
              0.5555555555555556,
              "#d8576b"
             ],
             [
              0.6666666666666666,
              "#ed7953"
             ],
             [
              0.7777777777777778,
              "#fb9f3a"
             ],
             [
              0.8888888888888888,
              "#fdca26"
             ],
             [
              1,
              "#f0f921"
             ]
            ],
            "type": "heatmap"
           }
          ],
          "heatmapgl": [
           {
            "colorbar": {
             "outlinewidth": 0,
             "ticks": ""
            },
            "colorscale": [
             [
              0,
              "#0d0887"
             ],
             [
              0.1111111111111111,
              "#46039f"
             ],
             [
              0.2222222222222222,
              "#7201a8"
             ],
             [
              0.3333333333333333,
              "#9c179e"
             ],
             [
              0.4444444444444444,
              "#bd3786"
             ],
             [
              0.5555555555555556,
              "#d8576b"
             ],
             [
              0.6666666666666666,
              "#ed7953"
             ],
             [
              0.7777777777777778,
              "#fb9f3a"
             ],
             [
              0.8888888888888888,
              "#fdca26"
             ],
             [
              1,
              "#f0f921"
             ]
            ],
            "type": "heatmapgl"
           }
          ],
          "histogram": [
           {
            "marker": {
             "pattern": {
              "fillmode": "overlay",
              "size": 10,
              "solidity": 0.2
             }
            },
            "type": "histogram"
           }
          ],
          "histogram2d": [
           {
            "colorbar": {
             "outlinewidth": 0,
             "ticks": ""
            },
            "colorscale": [
             [
              0,
              "#0d0887"
             ],
             [
              0.1111111111111111,
              "#46039f"
             ],
             [
              0.2222222222222222,
              "#7201a8"
             ],
             [
              0.3333333333333333,
              "#9c179e"
             ],
             [
              0.4444444444444444,
              "#bd3786"
             ],
             [
              0.5555555555555556,
              "#d8576b"
             ],
             [
              0.6666666666666666,
              "#ed7953"
             ],
             [
              0.7777777777777778,
              "#fb9f3a"
             ],
             [
              0.8888888888888888,
              "#fdca26"
             ],
             [
              1,
              "#f0f921"
             ]
            ],
            "type": "histogram2d"
           }
          ],
          "histogram2dcontour": [
           {
            "colorbar": {
             "outlinewidth": 0,
             "ticks": ""
            },
            "colorscale": [
             [
              0,
              "#0d0887"
             ],
             [
              0.1111111111111111,
              "#46039f"
             ],
             [
              0.2222222222222222,
              "#7201a8"
             ],
             [
              0.3333333333333333,
              "#9c179e"
             ],
             [
              0.4444444444444444,
              "#bd3786"
             ],
             [
              0.5555555555555556,
              "#d8576b"
             ],
             [
              0.6666666666666666,
              "#ed7953"
             ],
             [
              0.7777777777777778,
              "#fb9f3a"
             ],
             [
              0.8888888888888888,
              "#fdca26"
             ],
             [
              1,
              "#f0f921"
             ]
            ],
            "type": "histogram2dcontour"
           }
          ],
          "mesh3d": [
           {
            "colorbar": {
             "outlinewidth": 0,
             "ticks": ""
            },
            "type": "mesh3d"
           }
          ],
          "parcoords": [
           {
            "line": {
             "colorbar": {
              "outlinewidth": 0,
              "ticks": ""
             }
            },
            "type": "parcoords"
           }
          ],
          "pie": [
           {
            "automargin": true,
            "type": "pie"
           }
          ],
          "scatter": [
           {
            "marker": {
             "line": {
              "color": "#283442"
             }
            },
            "type": "scatter"
           }
          ],
          "scatter3d": [
           {
            "line": {
             "colorbar": {
              "outlinewidth": 0,
              "ticks": ""
             }
            },
            "marker": {
             "colorbar": {
              "outlinewidth": 0,
              "ticks": ""
             }
            },
            "type": "scatter3d"
           }
          ],
          "scattercarpet": [
           {
            "marker": {
             "colorbar": {
              "outlinewidth": 0,
              "ticks": ""
             }
            },
            "type": "scattercarpet"
           }
          ],
          "scattergeo": [
           {
            "marker": {
             "colorbar": {
              "outlinewidth": 0,
              "ticks": ""
             }
            },
            "type": "scattergeo"
           }
          ],
          "scattergl": [
           {
            "marker": {
             "line": {
              "color": "#283442"
             }
            },
            "type": "scattergl"
           }
          ],
          "scattermapbox": [
           {
            "marker": {
             "colorbar": {
              "outlinewidth": 0,
              "ticks": ""
             }
            },
            "type": "scattermapbox"
           }
          ],
          "scatterpolar": [
           {
            "marker": {
             "colorbar": {
              "outlinewidth": 0,
              "ticks": ""
             }
            },
            "type": "scatterpolar"
           }
          ],
          "scatterpolargl": [
           {
            "marker": {
             "colorbar": {
              "outlinewidth": 0,
              "ticks": ""
             }
            },
            "type": "scatterpolargl"
           }
          ],
          "scatterternary": [
           {
            "marker": {
             "colorbar": {
              "outlinewidth": 0,
              "ticks": ""
             }
            },
            "type": "scatterternary"
           }
          ],
          "surface": [
           {
            "colorbar": {
             "outlinewidth": 0,
             "ticks": ""
            },
            "colorscale": [
             [
              0,
              "#0d0887"
             ],
             [
              0.1111111111111111,
              "#46039f"
             ],
             [
              0.2222222222222222,
              "#7201a8"
             ],
             [
              0.3333333333333333,
              "#9c179e"
             ],
             [
              0.4444444444444444,
              "#bd3786"
             ],
             [
              0.5555555555555556,
              "#d8576b"
             ],
             [
              0.6666666666666666,
              "#ed7953"
             ],
             [
              0.7777777777777778,
              "#fb9f3a"
             ],
             [
              0.8888888888888888,
              "#fdca26"
             ],
             [
              1,
              "#f0f921"
             ]
            ],
            "type": "surface"
           }
          ],
          "table": [
           {
            "cells": {
             "fill": {
              "color": "#506784"
             },
             "line": {
              "color": "rgb(17,17,17)"
             }
            },
            "header": {
             "fill": {
              "color": "#2a3f5f"
             },
             "line": {
              "color": "rgb(17,17,17)"
             }
            },
            "type": "table"
           }
          ]
         },
         "layout": {
          "annotationdefaults": {
           "arrowcolor": "#f2f5fa",
           "arrowhead": 0,
           "arrowwidth": 1
          },
          "autotypenumbers": "strict",
          "coloraxis": {
           "colorbar": {
            "outlinewidth": 0,
            "ticks": ""
           }
          },
          "colorscale": {
           "diverging": [
            [
             0,
             "#8e0152"
            ],
            [
             0.1,
             "#c51b7d"
            ],
            [
             0.2,
             "#de77ae"
            ],
            [
             0.3,
             "#f1b6da"
            ],
            [
             0.4,
             "#fde0ef"
            ],
            [
             0.5,
             "#f7f7f7"
            ],
            [
             0.6,
             "#e6f5d0"
            ],
            [
             0.7,
             "#b8e186"
            ],
            [
             0.8,
             "#7fbc41"
            ],
            [
             0.9,
             "#4d9221"
            ],
            [
             1,
             "#276419"
            ]
           ],
           "sequential": [
            [
             0,
             "#0d0887"
            ],
            [
             0.1111111111111111,
             "#46039f"
            ],
            [
             0.2222222222222222,
             "#7201a8"
            ],
            [
             0.3333333333333333,
             "#9c179e"
            ],
            [
             0.4444444444444444,
             "#bd3786"
            ],
            [
             0.5555555555555556,
             "#d8576b"
            ],
            [
             0.6666666666666666,
             "#ed7953"
            ],
            [
             0.7777777777777778,
             "#fb9f3a"
            ],
            [
             0.8888888888888888,
             "#fdca26"
            ],
            [
             1,
             "#f0f921"
            ]
           ],
           "sequentialminus": [
            [
             0,
             "#0d0887"
            ],
            [
             0.1111111111111111,
             "#46039f"
            ],
            [
             0.2222222222222222,
             "#7201a8"
            ],
            [
             0.3333333333333333,
             "#9c179e"
            ],
            [
             0.4444444444444444,
             "#bd3786"
            ],
            [
             0.5555555555555556,
             "#d8576b"
            ],
            [
             0.6666666666666666,
             "#ed7953"
            ],
            [
             0.7777777777777778,
             "#fb9f3a"
            ],
            [
             0.8888888888888888,
             "#fdca26"
            ],
            [
             1,
             "#f0f921"
            ]
           ]
          },
          "colorway": [
           "#636efa",
           "#EF553B",
           "#00cc96",
           "#ab63fa",
           "#FFA15A",
           "#19d3f3",
           "#FF6692",
           "#B6E880",
           "#FF97FF",
           "#FECB52"
          ],
          "font": {
           "color": "#f2f5fa"
          },
          "geo": {
           "bgcolor": "rgb(17,17,17)",
           "lakecolor": "rgb(17,17,17)",
           "landcolor": "rgb(17,17,17)",
           "showlakes": true,
           "showland": true,
           "subunitcolor": "#506784"
          },
          "hoverlabel": {
           "align": "left"
          },
          "hovermode": "closest",
          "mapbox": {
           "style": "dark"
          },
          "paper_bgcolor": "rgb(17,17,17)",
          "plot_bgcolor": "rgb(17,17,17)",
          "polar": {
           "angularaxis": {
            "gridcolor": "#506784",
            "linecolor": "#506784",
            "ticks": ""
           },
           "bgcolor": "rgb(17,17,17)",
           "radialaxis": {
            "gridcolor": "#506784",
            "linecolor": "#506784",
            "ticks": ""
           }
          },
          "scene": {
           "xaxis": {
            "backgroundcolor": "rgb(17,17,17)",
            "gridcolor": "#506784",
            "gridwidth": 2,
            "linecolor": "#506784",
            "showbackground": true,
            "ticks": "",
            "zerolinecolor": "#C8D4E3"
           },
           "yaxis": {
            "backgroundcolor": "rgb(17,17,17)",
            "gridcolor": "#506784",
            "gridwidth": 2,
            "linecolor": "#506784",
            "showbackground": true,
            "ticks": "",
            "zerolinecolor": "#C8D4E3"
           },
           "zaxis": {
            "backgroundcolor": "rgb(17,17,17)",
            "gridcolor": "#506784",
            "gridwidth": 2,
            "linecolor": "#506784",
            "showbackground": true,
            "ticks": "",
            "zerolinecolor": "#C8D4E3"
           }
          },
          "shapedefaults": {
           "line": {
            "color": "#f2f5fa"
           }
          },
          "sliderdefaults": {
           "bgcolor": "#C8D4E3",
           "bordercolor": "rgb(17,17,17)",
           "borderwidth": 1,
           "tickwidth": 0
          },
          "ternary": {
           "aaxis": {
            "gridcolor": "#506784",
            "linecolor": "#506784",
            "ticks": ""
           },
           "baxis": {
            "gridcolor": "#506784",
            "linecolor": "#506784",
            "ticks": ""
           },
           "bgcolor": "rgb(17,17,17)",
           "caxis": {
            "gridcolor": "#506784",
            "linecolor": "#506784",
            "ticks": ""
           }
          },
          "title": {
           "x": 0.05
          },
          "updatemenudefaults": {
           "bgcolor": "#506784",
           "borderwidth": 0
          },
          "xaxis": {
           "automargin": true,
           "gridcolor": "#283442",
           "linecolor": "#506784",
           "ticks": "",
           "title": {
            "standoff": 15
           },
           "zerolinecolor": "#283442",
           "zerolinewidth": 2
          },
          "yaxis": {
           "automargin": true,
           "gridcolor": "#283442",
           "linecolor": "#506784",
           "ticks": "",
           "title": {
            "standoff": 15
           },
           "zerolinecolor": "#283442",
           "zerolinewidth": 2
          }
         }
        },
        "title": {
         "text": "Operating Characteristic (OC) curve, population(M)=500"
        },
        "xaxis": {
         "anchor": "y",
         "domain": [
          0,
          1
         ],
         "title": {
          "text": "Lot_Defective(%)"
         }
        },
        "yaxis": {
         "anchor": "x",
         "domain": [
          0,
          1
         ],
         "title": {
          "text": "Prob_Accept(%)"
         }
        }
       }
      }
     },
     "metadata": {},
     "output_type": "display_data"
    }
   ],
   "source": [
    "fig = px.line(df, x='Lot_Defective', y='Prob_Accept', color='N_drawn',height=600\n",
    "                ,title=f\"Operating Characteristic (OC) curve, population(M)={M}\"\n",
    "                ,labels={\n",
    "                    'Lot_Defective':'Lot_Defective(%)',\n",
    "                    'Prob_Accept':'Prob_Accept(%)',\n",
    "                    'N_drawn':'N_drawn(#)'})\n",
    "fig.add_hline(y=5, line_dash=\"dash\"\n",
    "            ,annotation_text=\"5%\"\n",
    "            ,annotation_position=\"top left\"\n",
    "            ,annotation_font_size=15)\n",
    "fig.show()\n",
    "# fig.write_html(f\"OCcurve_population{M}.html\")"
   ]
  },
  {
   "attachments": {},
   "cell_type": "markdown",
   "metadata": {},
   "source": [
    "AOQ curve"
   ]
  },
  {
   "cell_type": "code",
   "execution_count": 6,
   "metadata": {},
   "outputs": [
    {
     "data": {
      "application/vnd.plotly.v1+json": {
       "config": {
        "plotlyServerURL": "https://plot.ly"
       },
       "data": [
        {
         "hovertemplate": "N_drawn(#)=5<br>Lot_Defective(%)=%{x}<br>AOQ(%Defective)=%{y}<extra></extra>",
         "legendgroup": "5",
         "line": {
          "color": "#636efa",
          "dash": "solid"
         },
         "marker": {
          "symbol": "circle"
         },
         "mode": "lines",
         "name": "5",
         "orientation": "v",
         "showlegend": true,
         "type": "scatter",
         "x": [
          0,
          0.65,
          1.31,
          1.96,
          2.6100000000000003,
          3.27,
          3.92,
          4.58,
          5.2299999999999995,
          5.88,
          6.54,
          7.19,
          7.84,
          8.5,
          9.15
         ],
         "xaxis": "x",
         "y": [
          0,
          0.61,
          1.18,
          1.72,
          2.21,
          2.67,
          3.1,
          3.49,
          3.85,
          4.18,
          4.49,
          4.76,
          5.01,
          5.24,
          5.44
         ],
         "yaxis": "y"
        },
        {
         "hovertemplate": "N_drawn(#)=12<br>Lot_Defective(%)=%{x}<br>AOQ(%Defective)=%{y}<extra></extra>",
         "legendgroup": "12",
         "line": {
          "color": "#EF553B",
          "dash": "solid"
         },
         "marker": {
          "symbol": "circle"
         },
         "mode": "lines",
         "name": "12",
         "orientation": "v",
         "showlegend": true,
         "type": "scatter",
         "x": [
          0,
          0.65,
          1.31,
          1.96,
          2.6100000000000003,
          3.27,
          3.92,
          4.58,
          5.2299999999999995,
          5.88,
          6.54,
          7.19,
          7.84,
          8.5,
          9.15
         ],
         "xaxis": "x",
         "y": [
          0,
          0.56,
          1.02,
          1.41,
          1.73,
          1.99,
          2.2,
          2.35,
          2.47,
          2.55,
          2.59,
          2.61,
          2.61,
          2.59,
          2.55
         ],
         "yaxis": "y"
        },
        {
         "hovertemplate": "N_drawn(#)=32<br>Lot_Defective(%)=%{x}<br>AOQ(%Defective)=%{y}<extra></extra>",
         "legendgroup": "32",
         "line": {
          "color": "#00cc96",
          "dash": "solid"
         },
         "marker": {
          "symbol": "circle"
         },
         "mode": "lines",
         "name": "32",
         "orientation": "v",
         "showlegend": true,
         "type": "scatter",
         "x": [
          0,
          0.65,
          1.31,
          1.96,
          2.6100000000000003,
          3.27,
          3.92,
          4.58,
          5.2299999999999995,
          5.88,
          6.54,
          7.19,
          7.84,
          8.5,
          9.15
         ],
         "xaxis": "x",
         "y": [
          0,
          0.41,
          0.65,
          0.76,
          0.8,
          0.79,
          0.74,
          0.67,
          0.6,
          0.53,
          0.46,
          0.39,
          0.33,
          0.28,
          0.23
         ],
         "yaxis": "y"
        },
        {
         "hovertemplate": "N_drawn(#)=80<br>Lot_Defective(%)=%{x}<br>AOQ(%Defective)=%{y}<extra></extra>",
         "legendgroup": "80",
         "line": {
          "color": "#ab63fa",
          "dash": "solid"
         },
         "marker": {
          "symbol": "circle"
         },
         "mode": "lines",
         "name": "80",
         "orientation": "v",
         "showlegend": true,
         "type": "scatter",
         "x": [
          0,
          0.65,
          1.31,
          1.96,
          2.6100000000000003,
          3.27,
          3.92,
          4.58,
          5.2299999999999995,
          5.88,
          6.54,
          7.19,
          7.84,
          8.5,
          9.15
         ],
         "xaxis": "x",
         "y": [
          0,
          0.15,
          0.14,
          0.1,
          0.06,
          0.04,
          0.02,
          0.01,
          0.01,
          0,
          0,
          0,
          0,
          0,
          0
         ],
         "yaxis": "y"
        },
        {
         "hovertemplate": "N_drawn(#)=170<br>Lot_Defective(%)=%{x}<br>AOQ(%Defective)=%{y}<extra></extra>",
         "legendgroup": "170",
         "line": {
          "color": "#FFA15A",
          "dash": "solid"
         },
         "marker": {
          "symbol": "circle"
         },
         "mode": "lines",
         "name": "170",
         "orientation": "v",
         "showlegend": true,
         "type": "scatter",
         "x": [
          0,
          0.65,
          1.31,
          1.96,
          2.6100000000000003,
          3.27,
          3.92,
          4.58,
          5.2299999999999995,
          5.88,
          6.54,
          7.19,
          7.84,
          8.5,
          9.15
         ],
         "xaxis": "x",
         "y": [
          null,
          null,
          null,
          null,
          null,
          null,
          null,
          null,
          null,
          null,
          null,
          null,
          null,
          null,
          null
         ],
         "yaxis": "y"
        }
       ],
       "layout": {
        "height": 600,
        "legend": {
         "title": {
          "text": "N_drawn(#)"
         },
         "tracegroupgap": 0
        },
        "template": {
         "data": {
          "bar": [
           {
            "error_x": {
             "color": "#f2f5fa"
            },
            "error_y": {
             "color": "#f2f5fa"
            },
            "marker": {
             "line": {
              "color": "rgb(17,17,17)",
              "width": 0.5
             },
             "pattern": {
              "fillmode": "overlay",
              "size": 10,
              "solidity": 0.2
             }
            },
            "type": "bar"
           }
          ],
          "barpolar": [
           {
            "marker": {
             "line": {
              "color": "rgb(17,17,17)",
              "width": 0.5
             },
             "pattern": {
              "fillmode": "overlay",
              "size": 10,
              "solidity": 0.2
             }
            },
            "type": "barpolar"
           }
          ],
          "carpet": [
           {
            "aaxis": {
             "endlinecolor": "#A2B1C6",
             "gridcolor": "#506784",
             "linecolor": "#506784",
             "minorgridcolor": "#506784",
             "startlinecolor": "#A2B1C6"
            },
            "baxis": {
             "endlinecolor": "#A2B1C6",
             "gridcolor": "#506784",
             "linecolor": "#506784",
             "minorgridcolor": "#506784",
             "startlinecolor": "#A2B1C6"
            },
            "type": "carpet"
           }
          ],
          "choropleth": [
           {
            "colorbar": {
             "outlinewidth": 0,
             "ticks": ""
            },
            "type": "choropleth"
           }
          ],
          "contour": [
           {
            "colorbar": {
             "outlinewidth": 0,
             "ticks": ""
            },
            "colorscale": [
             [
              0,
              "#0d0887"
             ],
             [
              0.1111111111111111,
              "#46039f"
             ],
             [
              0.2222222222222222,
              "#7201a8"
             ],
             [
              0.3333333333333333,
              "#9c179e"
             ],
             [
              0.4444444444444444,
              "#bd3786"
             ],
             [
              0.5555555555555556,
              "#d8576b"
             ],
             [
              0.6666666666666666,
              "#ed7953"
             ],
             [
              0.7777777777777778,
              "#fb9f3a"
             ],
             [
              0.8888888888888888,
              "#fdca26"
             ],
             [
              1,
              "#f0f921"
             ]
            ],
            "type": "contour"
           }
          ],
          "contourcarpet": [
           {
            "colorbar": {
             "outlinewidth": 0,
             "ticks": ""
            },
            "type": "contourcarpet"
           }
          ],
          "heatmap": [
           {
            "colorbar": {
             "outlinewidth": 0,
             "ticks": ""
            },
            "colorscale": [
             [
              0,
              "#0d0887"
             ],
             [
              0.1111111111111111,
              "#46039f"
             ],
             [
              0.2222222222222222,
              "#7201a8"
             ],
             [
              0.3333333333333333,
              "#9c179e"
             ],
             [
              0.4444444444444444,
              "#bd3786"
             ],
             [
              0.5555555555555556,
              "#d8576b"
             ],
             [
              0.6666666666666666,
              "#ed7953"
             ],
             [
              0.7777777777777778,
              "#fb9f3a"
             ],
             [
              0.8888888888888888,
              "#fdca26"
             ],
             [
              1,
              "#f0f921"
             ]
            ],
            "type": "heatmap"
           }
          ],
          "heatmapgl": [
           {
            "colorbar": {
             "outlinewidth": 0,
             "ticks": ""
            },
            "colorscale": [
             [
              0,
              "#0d0887"
             ],
             [
              0.1111111111111111,
              "#46039f"
             ],
             [
              0.2222222222222222,
              "#7201a8"
             ],
             [
              0.3333333333333333,
              "#9c179e"
             ],
             [
              0.4444444444444444,
              "#bd3786"
             ],
             [
              0.5555555555555556,
              "#d8576b"
             ],
             [
              0.6666666666666666,
              "#ed7953"
             ],
             [
              0.7777777777777778,
              "#fb9f3a"
             ],
             [
              0.8888888888888888,
              "#fdca26"
             ],
             [
              1,
              "#f0f921"
             ]
            ],
            "type": "heatmapgl"
           }
          ],
          "histogram": [
           {
            "marker": {
             "pattern": {
              "fillmode": "overlay",
              "size": 10,
              "solidity": 0.2
             }
            },
            "type": "histogram"
           }
          ],
          "histogram2d": [
           {
            "colorbar": {
             "outlinewidth": 0,
             "ticks": ""
            },
            "colorscale": [
             [
              0,
              "#0d0887"
             ],
             [
              0.1111111111111111,
              "#46039f"
             ],
             [
              0.2222222222222222,
              "#7201a8"
             ],
             [
              0.3333333333333333,
              "#9c179e"
             ],
             [
              0.4444444444444444,
              "#bd3786"
             ],
             [
              0.5555555555555556,
              "#d8576b"
             ],
             [
              0.6666666666666666,
              "#ed7953"
             ],
             [
              0.7777777777777778,
              "#fb9f3a"
             ],
             [
              0.8888888888888888,
              "#fdca26"
             ],
             [
              1,
              "#f0f921"
             ]
            ],
            "type": "histogram2d"
           }
          ],
          "histogram2dcontour": [
           {
            "colorbar": {
             "outlinewidth": 0,
             "ticks": ""
            },
            "colorscale": [
             [
              0,
              "#0d0887"
             ],
             [
              0.1111111111111111,
              "#46039f"
             ],
             [
              0.2222222222222222,
              "#7201a8"
             ],
             [
              0.3333333333333333,
              "#9c179e"
             ],
             [
              0.4444444444444444,
              "#bd3786"
             ],
             [
              0.5555555555555556,
              "#d8576b"
             ],
             [
              0.6666666666666666,
              "#ed7953"
             ],
             [
              0.7777777777777778,
              "#fb9f3a"
             ],
             [
              0.8888888888888888,
              "#fdca26"
             ],
             [
              1,
              "#f0f921"
             ]
            ],
            "type": "histogram2dcontour"
           }
          ],
          "mesh3d": [
           {
            "colorbar": {
             "outlinewidth": 0,
             "ticks": ""
            },
            "type": "mesh3d"
           }
          ],
          "parcoords": [
           {
            "line": {
             "colorbar": {
              "outlinewidth": 0,
              "ticks": ""
             }
            },
            "type": "parcoords"
           }
          ],
          "pie": [
           {
            "automargin": true,
            "type": "pie"
           }
          ],
          "scatter": [
           {
            "marker": {
             "line": {
              "color": "#283442"
             }
            },
            "type": "scatter"
           }
          ],
          "scatter3d": [
           {
            "line": {
             "colorbar": {
              "outlinewidth": 0,
              "ticks": ""
             }
            },
            "marker": {
             "colorbar": {
              "outlinewidth": 0,
              "ticks": ""
             }
            },
            "type": "scatter3d"
           }
          ],
          "scattercarpet": [
           {
            "marker": {
             "colorbar": {
              "outlinewidth": 0,
              "ticks": ""
             }
            },
            "type": "scattercarpet"
           }
          ],
          "scattergeo": [
           {
            "marker": {
             "colorbar": {
              "outlinewidth": 0,
              "ticks": ""
             }
            },
            "type": "scattergeo"
           }
          ],
          "scattergl": [
           {
            "marker": {
             "line": {
              "color": "#283442"
             }
            },
            "type": "scattergl"
           }
          ],
          "scattermapbox": [
           {
            "marker": {
             "colorbar": {
              "outlinewidth": 0,
              "ticks": ""
             }
            },
            "type": "scattermapbox"
           }
          ],
          "scatterpolar": [
           {
            "marker": {
             "colorbar": {
              "outlinewidth": 0,
              "ticks": ""
             }
            },
            "type": "scatterpolar"
           }
          ],
          "scatterpolargl": [
           {
            "marker": {
             "colorbar": {
              "outlinewidth": 0,
              "ticks": ""
             }
            },
            "type": "scatterpolargl"
           }
          ],
          "scatterternary": [
           {
            "marker": {
             "colorbar": {
              "outlinewidth": 0,
              "ticks": ""
             }
            },
            "type": "scatterternary"
           }
          ],
          "surface": [
           {
            "colorbar": {
             "outlinewidth": 0,
             "ticks": ""
            },
            "colorscale": [
             [
              0,
              "#0d0887"
             ],
             [
              0.1111111111111111,
              "#46039f"
             ],
             [
              0.2222222222222222,
              "#7201a8"
             ],
             [
              0.3333333333333333,
              "#9c179e"
             ],
             [
              0.4444444444444444,
              "#bd3786"
             ],
             [
              0.5555555555555556,
              "#d8576b"
             ],
             [
              0.6666666666666666,
              "#ed7953"
             ],
             [
              0.7777777777777778,
              "#fb9f3a"
             ],
             [
              0.8888888888888888,
              "#fdca26"
             ],
             [
              1,
              "#f0f921"
             ]
            ],
            "type": "surface"
           }
          ],
          "table": [
           {
            "cells": {
             "fill": {
              "color": "#506784"
             },
             "line": {
              "color": "rgb(17,17,17)"
             }
            },
            "header": {
             "fill": {
              "color": "#2a3f5f"
             },
             "line": {
              "color": "rgb(17,17,17)"
             }
            },
            "type": "table"
           }
          ]
         },
         "layout": {
          "annotationdefaults": {
           "arrowcolor": "#f2f5fa",
           "arrowhead": 0,
           "arrowwidth": 1
          },
          "autotypenumbers": "strict",
          "coloraxis": {
           "colorbar": {
            "outlinewidth": 0,
            "ticks": ""
           }
          },
          "colorscale": {
           "diverging": [
            [
             0,
             "#8e0152"
            ],
            [
             0.1,
             "#c51b7d"
            ],
            [
             0.2,
             "#de77ae"
            ],
            [
             0.3,
             "#f1b6da"
            ],
            [
             0.4,
             "#fde0ef"
            ],
            [
             0.5,
             "#f7f7f7"
            ],
            [
             0.6,
             "#e6f5d0"
            ],
            [
             0.7,
             "#b8e186"
            ],
            [
             0.8,
             "#7fbc41"
            ],
            [
             0.9,
             "#4d9221"
            ],
            [
             1,
             "#276419"
            ]
           ],
           "sequential": [
            [
             0,
             "#0d0887"
            ],
            [
             0.1111111111111111,
             "#46039f"
            ],
            [
             0.2222222222222222,
             "#7201a8"
            ],
            [
             0.3333333333333333,
             "#9c179e"
            ],
            [
             0.4444444444444444,
             "#bd3786"
            ],
            [
             0.5555555555555556,
             "#d8576b"
            ],
            [
             0.6666666666666666,
             "#ed7953"
            ],
            [
             0.7777777777777778,
             "#fb9f3a"
            ],
            [
             0.8888888888888888,
             "#fdca26"
            ],
            [
             1,
             "#f0f921"
            ]
           ],
           "sequentialminus": [
            [
             0,
             "#0d0887"
            ],
            [
             0.1111111111111111,
             "#46039f"
            ],
            [
             0.2222222222222222,
             "#7201a8"
            ],
            [
             0.3333333333333333,
             "#9c179e"
            ],
            [
             0.4444444444444444,
             "#bd3786"
            ],
            [
             0.5555555555555556,
             "#d8576b"
            ],
            [
             0.6666666666666666,
             "#ed7953"
            ],
            [
             0.7777777777777778,
             "#fb9f3a"
            ],
            [
             0.8888888888888888,
             "#fdca26"
            ],
            [
             1,
             "#f0f921"
            ]
           ]
          },
          "colorway": [
           "#636efa",
           "#EF553B",
           "#00cc96",
           "#ab63fa",
           "#FFA15A",
           "#19d3f3",
           "#FF6692",
           "#B6E880",
           "#FF97FF",
           "#FECB52"
          ],
          "font": {
           "color": "#f2f5fa"
          },
          "geo": {
           "bgcolor": "rgb(17,17,17)",
           "lakecolor": "rgb(17,17,17)",
           "landcolor": "rgb(17,17,17)",
           "showlakes": true,
           "showland": true,
           "subunitcolor": "#506784"
          },
          "hoverlabel": {
           "align": "left"
          },
          "hovermode": "closest",
          "mapbox": {
           "style": "dark"
          },
          "paper_bgcolor": "rgb(17,17,17)",
          "plot_bgcolor": "rgb(17,17,17)",
          "polar": {
           "angularaxis": {
            "gridcolor": "#506784",
            "linecolor": "#506784",
            "ticks": ""
           },
           "bgcolor": "rgb(17,17,17)",
           "radialaxis": {
            "gridcolor": "#506784",
            "linecolor": "#506784",
            "ticks": ""
           }
          },
          "scene": {
           "xaxis": {
            "backgroundcolor": "rgb(17,17,17)",
            "gridcolor": "#506784",
            "gridwidth": 2,
            "linecolor": "#506784",
            "showbackground": true,
            "ticks": "",
            "zerolinecolor": "#C8D4E3"
           },
           "yaxis": {
            "backgroundcolor": "rgb(17,17,17)",
            "gridcolor": "#506784",
            "gridwidth": 2,
            "linecolor": "#506784",
            "showbackground": true,
            "ticks": "",
            "zerolinecolor": "#C8D4E3"
           },
           "zaxis": {
            "backgroundcolor": "rgb(17,17,17)",
            "gridcolor": "#506784",
            "gridwidth": 2,
            "linecolor": "#506784",
            "showbackground": true,
            "ticks": "",
            "zerolinecolor": "#C8D4E3"
           }
          },
          "shapedefaults": {
           "line": {
            "color": "#f2f5fa"
           }
          },
          "sliderdefaults": {
           "bgcolor": "#C8D4E3",
           "bordercolor": "rgb(17,17,17)",
           "borderwidth": 1,
           "tickwidth": 0
          },
          "ternary": {
           "aaxis": {
            "gridcolor": "#506784",
            "linecolor": "#506784",
            "ticks": ""
           },
           "baxis": {
            "gridcolor": "#506784",
            "linecolor": "#506784",
            "ticks": ""
           },
           "bgcolor": "rgb(17,17,17)",
           "caxis": {
            "gridcolor": "#506784",
            "linecolor": "#506784",
            "ticks": ""
           }
          },
          "title": {
           "x": 0.05
          },
          "updatemenudefaults": {
           "bgcolor": "#506784",
           "borderwidth": 0
          },
          "xaxis": {
           "automargin": true,
           "gridcolor": "#283442",
           "linecolor": "#506784",
           "ticks": "",
           "title": {
            "standoff": 15
           },
           "zerolinecolor": "#283442",
           "zerolinewidth": 2
          },
          "yaxis": {
           "automargin": true,
           "gridcolor": "#283442",
           "linecolor": "#506784",
           "ticks": "",
           "title": {
            "standoff": 15
           },
           "zerolinecolor": "#283442",
           "zerolinewidth": 2
          }
         }
        },
        "title": {
         "text": "Average Outgoing Quality (AOQ) curve, population(M)=153"
        },
        "xaxis": {
         "anchor": "y",
         "domain": [
          0,
          1
         ],
         "title": {
          "text": "Lot_Defective(%)"
         }
        },
        "yaxis": {
         "anchor": "x",
         "domain": [
          0,
          1
         ],
         "title": {
          "text": "AOQ(%Defective)"
         }
        }
       }
      }
     },
     "metadata": {},
     "output_type": "display_data"
    }
   ],
   "source": [
    "fig2 = px.line(df, x='Lot_Defective', y='AOQ', color='N_drawn',height=600\n",
    "                ,title=f\"Average Outgoing Quality (AOQ) curve, population(M)={M}\"\n",
    "                ,labels={\n",
    "                    'Lot_Defective':'Lot_Defective(%)',\n",
    "                    'AOQ':'AOQ(%Defective)',\n",
    "                    'N_drawn':'N_drawn(#)'})\n",
    "fig2.show()\n",
    "# fig.write_html(f\"AOQcurve_population{M}.html\")"
   ]
  }
 ],
 "metadata": {
  "kernelspec": {
   "display_name": "Python 3.8.10 ('workspace')",
   "language": "python",
   "name": "python3"
  },
  "language_info": {
   "codemirror_mode": {
    "name": "ipython",
    "version": 3
   },
   "file_extension": ".py",
   "mimetype": "text/x-python",
   "name": "python",
   "nbconvert_exporter": "python",
   "pygments_lexer": "ipython3",
   "version": "3.8.10"
  },
  "orig_nbformat": 4,
  "vscode": {
   "interpreter": {
    "hash": "d7ba5307f264c9d62b544121f5029238a64acfef4aaa56e4d1098951fb013dec"
   }
  }
 },
 "nbformat": 4,
 "nbformat_minor": 2
}
