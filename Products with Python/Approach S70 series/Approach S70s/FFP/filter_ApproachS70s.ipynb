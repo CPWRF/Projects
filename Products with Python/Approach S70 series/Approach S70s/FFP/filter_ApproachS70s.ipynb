{
 "cells": [
  {
   "cell_type": "code",
   "execution_count": 17,
   "metadata": {},
   "outputs": [],
   "source": [
    "import pandas as pd"
   ]
  },
  {
   "cell_type": "code",
   "execution_count": 18,
   "metadata": {},
   "outputs": [],
   "source": [
    "raw = pd.read_excel('FFP_S70s_45degree.xlsx',sheet_name='TestResult')"
   ]
  },
  {
   "cell_type": "code",
   "execution_count": 19,
   "metadata": {},
   "outputs": [
    {
     "data": {
      "text/html": [
       "<div>\n",
       "<style scoped>\n",
       "    .dataframe tbody tr th:only-of-type {\n",
       "        vertical-align: middle;\n",
       "    }\n",
       "\n",
       "    .dataframe tbody tr th {\n",
       "        vertical-align: top;\n",
       "    }\n",
       "\n",
       "    .dataframe thead th {\n",
       "        text-align: right;\n",
       "    }\n",
       "</style>\n",
       "<table border=\"1\" class=\"dataframe\">\n",
       "  <thead>\n",
       "    <tr style=\"text-align: right;\">\n",
       "      <th></th>\n",
       "      <th>ItemName Type</th>\n",
       "      <th>Process Type</th>\n",
       "      <th>Item</th>\n",
       "      <th>ItemName</th>\n",
       "      <th>Count/Count ESN</th>\n",
       "      <th>Retest%</th>\n",
       "      <th>Comment</th>\n",
       "    </tr>\n",
       "  </thead>\n",
       "  <tbody>\n",
       "    <tr>\n",
       "      <th>75</th>\n",
       "      <td>16517</td>\n",
       "      <td>Approach_S70_HT</td>\n",
       "      <td>89</td>\n",
       "      <td>Gyro 1st Calibration Temp</td>\n",
       "      <td>3/374</td>\n",
       "      <td>0.80</td>\n",
       "      <td>NaN</td>\n",
       "    </tr>\n",
       "    <tr>\n",
       "      <th>137</th>\n",
       "      <td>18640</td>\n",
       "      <td>Approach_S70_Baro_PreTest</td>\n",
       "      <td>11</td>\n",
       "      <td>Barometer Pressure Accuracy – 0.5ATM</td>\n",
       "      <td>1/372</td>\n",
       "      <td>0.27</td>\n",
       "      <td>NaN</td>\n",
       "    </tr>\n",
       "    <tr>\n",
       "      <th>54</th>\n",
       "      <td>12434</td>\n",
       "      <td>Watch_ClickTest</td>\n",
       "      <td>8</td>\n",
       "      <td>Button1_Stroke</td>\n",
       "      <td>1/61</td>\n",
       "      <td>1.64</td>\n",
       "      <td>NaN</td>\n",
       "    </tr>\n",
       "    <tr>\n",
       "      <th>131</th>\n",
       "      <td>16518</td>\n",
       "      <td>Approach_S70_RT1</td>\n",
       "      <td>93</td>\n",
       "      <td>GALILEO Radiated Sensitivity</td>\n",
       "      <td>1/375</td>\n",
       "      <td>0.27</td>\n",
       "      <td>NaN</td>\n",
       "    </tr>\n",
       "    <tr>\n",
       "      <th>25</th>\n",
       "      <td>16532</td>\n",
       "      <td>Approach_S70_EasyCardPerso</td>\n",
       "      <td>24</td>\n",
       "      <td>Check no mapping record - EasyCard</td>\n",
       "      <td>2/23</td>\n",
       "      <td>8.70</td>\n",
       "      <td>NaN</td>\n",
       "    </tr>\n",
       "  </tbody>\n",
       "</table>\n",
       "</div>"
      ],
      "text/plain": [
       "     ItemName Type                Process Type  Item  \\\n",
       "75           16517             Approach_S70_HT    89   \n",
       "137          18640   Approach_S70_Baro_PreTest    11   \n",
       "54           12434             Watch_ClickTest     8   \n",
       "131          16518            Approach_S70_RT1    93   \n",
       "25           16532  Approach_S70_EasyCardPerso    24   \n",
       "\n",
       "                                 ItemName Count/Count ESN  Retest%  Comment  \n",
       "75              Gyro 1st Calibration Temp           3/374     0.80      NaN  \n",
       "137  Barometer Pressure Accuracy – 0.5ATM           1/372     0.27      NaN  \n",
       "54                         Button1_Stroke            1/61     1.64      NaN  \n",
       "131          GALILEO Radiated Sensitivity           1/375     0.27      NaN  \n",
       "25     Check no mapping record - EasyCard            2/23     8.70      NaN  "
      ]
     },
     "execution_count": 19,
     "metadata": {},
     "output_type": "execute_result"
    }
   ],
   "source": [
    "raw.sample(5)"
   ]
  },
  {
   "cell_type": "code",
   "execution_count": 20,
   "metadata": {},
   "outputs": [],
   "source": [
    "ProcessTypeBlackList = 'Pack|Click|RabbitCard|EasyCard|DeleteBundle|ProdScan|FileCopyer'\n",
    "ItemNameBlackList = 'ESN|Check ProductionMap|Fixture ID'"
   ]
  },
  {
   "cell_type": "code",
   "execution_count": 24,
   "metadata": {},
   "outputs": [
    {
     "data": {
      "text/plain": [
       "2.5257017543859654"
      ]
     },
     "execution_count": 24,
     "metadata": {},
     "output_type": "execute_result"
    }
   ],
   "source": [
    "def filter(raw):\n",
    "    return(raw\n",
    "    .rename(columns = lambda name : name.replace(\" \",'').replace('/','').replace('%',''))\n",
    "    .astype({'ItemNameType':'category','ProcessType':'category','Item':'category','ItemName':'category'})\n",
    "    # .assign(CountESN = lambda df : df.CountCountESN.str.split('/').str[1].astype('int16'))\n",
    "    .query(\"~ProcessType.str.contains(@ProcessTypeBlackList) and ~ItemName.str.contains(@ItemNameBlackList)\")\n",
    "    # .query(\"Retest >= Retest.mean()\")\n",
    "    .Retest.mean()\n",
    "    )\n",
    "filter(raw)"
   ]
  },
  {
   "cell_type": "code",
   "execution_count": 23,
   "metadata": {},
   "outputs": [],
   "source": [
    "# filter(raw).to_excel('tweak_ApproachS70s_45degree.xlsx',index=False)"
   ]
  }
 ],
 "metadata": {
  "kernelspec": {
   "display_name": "workspace3.10",
   "language": "python",
   "name": "python3"
  },
  "language_info": {
   "codemirror_mode": {
    "name": "ipython",
    "version": 3
   },
   "file_extension": ".py",
   "mimetype": "text/x-python",
   "name": "python",
   "nbconvert_exporter": "python",
   "pygments_lexer": "ipython3",
   "version": "3.10.9"
  },
  "orig_nbformat": 4,
  "vscode": {
   "interpreter": {
    "hash": "bf4e218b588bdb62781f22c42f0a5a4687e22260caa2723e80bbc1fb52c8fa10"
   }
  }
 },
 "nbformat": 4,
 "nbformat_minor": 2
}
