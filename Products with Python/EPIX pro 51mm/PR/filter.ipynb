{
 "cells": [
  {
   "cell_type": "code",
   "execution_count": 30,
   "metadata": {},
   "outputs": [],
   "source": [
    "import pandas as pd"
   ]
  },
  {
   "cell_type": "code",
   "execution_count": 31,
   "metadata": {},
   "outputs": [],
   "source": [
    "raw = pd.read_excel('EP51_ASSY.xlsx',sheet_name='Test Result')"
   ]
  },
  {
   "cell_type": "code",
   "execution_count": 32,
   "metadata": {},
   "outputs": [
    {
     "data": {
      "text/html": [
       "<div>\n",
       "<style scoped>\n",
       "    .dataframe tbody tr th:only-of-type {\n",
       "        vertical-align: middle;\n",
       "    }\n",
       "\n",
       "    .dataframe tbody tr th {\n",
       "        vertical-align: top;\n",
       "    }\n",
       "\n",
       "    .dataframe thead th {\n",
       "        text-align: right;\n",
       "    }\n",
       "</style>\n",
       "<table border=\"1\" class=\"dataframe\">\n",
       "  <thead>\n",
       "    <tr style=\"text-align: right;\">\n",
       "      <th></th>\n",
       "      <th>ItemName Type</th>\n",
       "      <th>Process Type</th>\n",
       "      <th>Item</th>\n",
       "      <th>ItemName</th>\n",
       "      <th>Count/Count ESN</th>\n",
       "      <th>Retest%</th>\n",
       "      <th>Comment</th>\n",
       "    </tr>\n",
       "  </thead>\n",
       "  <tbody>\n",
       "    <tr>\n",
       "      <th>0</th>\n",
       "      <td>17886</td>\n",
       "      <td>Epix_pro_RTESN</td>\n",
       "      <td>64</td>\n",
       "      <td>NFC check 檢查</td>\n",
       "      <td>9/635</td>\n",
       "      <td>1.42</td>\n",
       "      <td>NaN</td>\n",
       "    </tr>\n",
       "    <tr>\n",
       "      <th>1</th>\n",
       "      <td>17886</td>\n",
       "      <td>Epix_pro_RTESN</td>\n",
       "      <td>75</td>\n",
       "      <td>Check ECG 1907 IOP</td>\n",
       "      <td>8/635</td>\n",
       "      <td>1.26</td>\n",
       "      <td>NaN</td>\n",
       "    </tr>\n",
       "    <tr>\n",
       "      <th>2</th>\n",
       "      <td>17886</td>\n",
       "      <td>Epix_pro_RTESN</td>\n",
       "      <td>34</td>\n",
       "      <td>Firmware Checksum Comparison</td>\n",
       "      <td>7/635</td>\n",
       "      <td>1.10</td>\n",
       "      <td>NaN</td>\n",
       "    </tr>\n",
       "    <tr>\n",
       "      <th>3</th>\n",
       "      <td>17886</td>\n",
       "      <td>Epix_pro_RTESN</td>\n",
       "      <td>9</td>\n",
       "      <td>Is ESN check in</td>\n",
       "      <td>6/635</td>\n",
       "      <td>0.94</td>\n",
       "      <td>NaN</td>\n",
       "    </tr>\n",
       "    <tr>\n",
       "      <th>4</th>\n",
       "      <td>17886</td>\n",
       "      <td>Epix_pro_RTESN</td>\n",
       "      <td>57</td>\n",
       "      <td>光學心跳模組檢查|Check OHRM LED</td>\n",
       "      <td>6/635</td>\n",
       "      <td>0.94</td>\n",
       "      <td>NaN</td>\n",
       "    </tr>\n",
       "    <tr>\n",
       "      <th>...</th>\n",
       "      <td>...</td>\n",
       "      <td>...</td>\n",
       "      <td>...</td>\n",
       "      <td>...</td>\n",
       "      <td>...</td>\n",
       "      <td>...</td>\n",
       "      <td>...</td>\n",
       "    </tr>\n",
       "    <tr>\n",
       "      <th>162</th>\n",
       "      <td>18307</td>\n",
       "      <td>General_ECG_Sampling</td>\n",
       "      <td>70</td>\n",
       "      <td>Impedance_03 Result</td>\n",
       "      <td>2/14</td>\n",
       "      <td>14.29</td>\n",
       "      <td>NaN</td>\n",
       "    </tr>\n",
       "    <tr>\n",
       "      <th>163</th>\n",
       "      <td>18307</td>\n",
       "      <td>General_ECG_Sampling</td>\n",
       "      <td>3</td>\n",
       "      <td>CMRR_01 Result</td>\n",
       "      <td>1/14</td>\n",
       "      <td>7.14</td>\n",
       "      <td>NaN</td>\n",
       "    </tr>\n",
       "    <tr>\n",
       "      <th>164</th>\n",
       "      <td>18307</td>\n",
       "      <td>General_ECG_Sampling</td>\n",
       "      <td>39</td>\n",
       "      <td>System_noise Result</td>\n",
       "      <td>1/14</td>\n",
       "      <td>7.14</td>\n",
       "      <td>NaN</td>\n",
       "    </tr>\n",
       "    <tr>\n",
       "      <th>165</th>\n",
       "      <td>18307</td>\n",
       "      <td>General_ECG_Sampling</td>\n",
       "      <td>81</td>\n",
       "      <td>Check CMRR Result File Exists</td>\n",
       "      <td>1/14</td>\n",
       "      <td>7.14</td>\n",
       "      <td>NaN</td>\n",
       "    </tr>\n",
       "    <tr>\n",
       "      <th>166</th>\n",
       "      <td>18307</td>\n",
       "      <td>General_ECG_Sampling</td>\n",
       "      <td>82</td>\n",
       "      <td>Check SECG Result File Exists</td>\n",
       "      <td>1/14</td>\n",
       "      <td>7.14</td>\n",
       "      <td>NaN</td>\n",
       "    </tr>\n",
       "  </tbody>\n",
       "</table>\n",
       "<p>167 rows × 7 columns</p>\n",
       "</div>"
      ],
      "text/plain": [
       "     ItemName Type          Process Type  Item                       ItemName  \\\n",
       "0            17886        Epix_pro_RTESN    64                  NFC check 檢查    \n",
       "1            17886        Epix_pro_RTESN    75             Check ECG 1907 IOP   \n",
       "2            17886        Epix_pro_RTESN    34   Firmware Checksum Comparison   \n",
       "3            17886        Epix_pro_RTESN     9                Is ESN check in   \n",
       "4            17886        Epix_pro_RTESN    57        光學心跳模組檢查|Check OHRM LED   \n",
       "..             ...                   ...   ...                            ...   \n",
       "162          18307  General_ECG_Sampling    70            Impedance_03 Result   \n",
       "163          18307  General_ECG_Sampling     3                 CMRR_01 Result   \n",
       "164          18307  General_ECG_Sampling    39            System_noise Result   \n",
       "165          18307  General_ECG_Sampling    81  Check CMRR Result File Exists   \n",
       "166          18307  General_ECG_Sampling    82  Check SECG Result File Exists   \n",
       "\n",
       "    Count/Count ESN  Retest%  Comment  \n",
       "0             9/635     1.42      NaN  \n",
       "1             8/635     1.26      NaN  \n",
       "2             7/635     1.10      NaN  \n",
       "3             6/635     0.94      NaN  \n",
       "4             6/635     0.94      NaN  \n",
       "..              ...      ...      ...  \n",
       "162            2/14    14.29      NaN  \n",
       "163            1/14     7.14      NaN  \n",
       "164            1/14     7.14      NaN  \n",
       "165            1/14     7.14      NaN  \n",
       "166            1/14     7.14      NaN  \n",
       "\n",
       "[167 rows x 7 columns]"
      ]
     },
     "execution_count": 32,
     "metadata": {},
     "output_type": "execute_result"
    }
   ],
   "source": [
    "raw"
   ]
  },
  {
   "cell_type": "code",
   "execution_count": 36,
   "metadata": {},
   "outputs": [
    {
     "data": {
      "text/plain": [
       "<AxesSubplot: >"
      ]
     },
     "execution_count": 36,
     "metadata": {},
     "output_type": "execute_result"
    },
    {
     "data": {
      "image/png": "[encoded data removed]",
      "text/plain": [
       "<Figure size 640x480 with 1 Axes>"
      ]
     },
     "metadata": {},
     "output_type": "display_data"
    }
   ],
   "source": [
    "(raw\n",
    " .drop('Comment',axis=1)\n",
    " .rename(columns = lambda name : name.replace(\" \",'').replace('/','').replace('%',''))\n",
    " .astype({'ItemNameType':'category','ProcessType':'category','Item':'category','ItemName':'category'})\n",
    " .assign(\n",
    "     CountESN = lambda df : df.CountCountESN.str.split('/').str[1].astype('int16'))\n",
    "#  .CountESN.describe()\n",
    "#  .query(\"CountESN < CountESN.quantile(0.05)\") \n",
    " .CountESN.plot.box()\n",
    "#  .query(\"CountESN > CountESN.quantile(0.05) and ~ProcessType.str.contains('Pack') and ~ProcessType.str.contains('Click') and Retest >= Retest.mean()\")\n",
    " )"
   ]
  }
 ],
 "metadata": {
  "kernelspec": {
   "display_name": "workspace3.10",
   "language": "python",
   "name": "python3"
  },
  "language_info": {
   "codemirror_mode": {
    "name": "ipython",
    "version": 3
   },
   "file_extension": ".py",
   "mimetype": "text/x-python",
   "name": "python",
   "nbconvert_exporter": "python",
   "pygments_lexer": "ipython3",
   "version": "3.10.9"
  },
  "orig_nbformat": 4,
  "vscode": {
   "interpreter": {
    "hash": "bf4e218b588bdb62781f22c42f0a5a4687e22260caa2723e80bbc1fb52c8fa10"
   }
  }
 },
 "nbformat": 4,
 "nbformat_minor": 2
}
