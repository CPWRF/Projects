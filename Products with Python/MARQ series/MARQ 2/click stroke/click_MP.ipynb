{
 "cells": [
  {
   "cell_type": "code",
   "execution_count": 1,
   "metadata": {},
   "outputs": [],
   "source": [
    "import pandas as pd"
   ]
  },
  {
   "cell_type": "code",
   "execution_count": 2,
   "metadata": {},
   "outputs": [
    {
     "data": {
      "text/html": [
       "<div>\n",
       "<style scoped>\n",
       "    .dataframe tbody tr th:only-of-type {\n",
       "        vertical-align: middle;\n",
       "    }\n",
       "\n",
       "    .dataframe tbody tr th {\n",
       "        vertical-align: top;\n",
       "    }\n",
       "\n",
       "    .dataframe thead th {\n",
       "        text-align: right;\n",
       "    }\n",
       "</style>\n",
       "<table border=\"1\" class=\"dataframe\">\n",
       "  <thead>\n",
       "    <tr style=\"text-align: right;\">\n",
       "      <th></th>\n",
       "      <th>SerialNumber</th>\n",
       "      <th>tDateTime</th>\n",
       "      <th>result</th>\n",
       "      <th>FailItem</th>\n",
       "      <th>Btn1_click</th>\n",
       "      <th>Btn2_click</th>\n",
       "      <th>Btn3_click</th>\n",
       "      <th>Btn4_click</th>\n",
       "      <th>Btn5_click</th>\n",
       "    </tr>\n",
       "  </thead>\n",
       "  <tbody>\n",
       "    <tr>\n",
       "      <th>0</th>\n",
       "      <td>P9PA562195</td>\n",
       "      <td>2022-10-11 02:55:49</td>\n",
       "      <td>1</td>\n",
       "      <td>0</td>\n",
       "      <td>0.24</td>\n",
       "      <td>0.23</td>\n",
       "      <td>0.23</td>\n",
       "      <td>0.21</td>\n",
       "      <td>0.25</td>\n",
       "    </tr>\n",
       "    <tr>\n",
       "      <th>1</th>\n",
       "      <td>3430508938</td>\n",
       "      <td>2022-10-11 02:59:25</td>\n",
       "      <td>1</td>\n",
       "      <td>0</td>\n",
       "      <td>0.25</td>\n",
       "      <td>0.21</td>\n",
       "      <td>0.26</td>\n",
       "      <td>0.25</td>\n",
       "      <td>0.24</td>\n",
       "    </tr>\n",
       "    <tr>\n",
       "      <th>2</th>\n",
       "      <td>3430508940</td>\n",
       "      <td>2022-10-11 03:01:12</td>\n",
       "      <td>1</td>\n",
       "      <td>0</td>\n",
       "      <td>0.25</td>\n",
       "      <td>0.25</td>\n",
       "      <td>0.25</td>\n",
       "      <td>0.25</td>\n",
       "      <td>0.26</td>\n",
       "    </tr>\n",
       "    <tr>\n",
       "      <th>3</th>\n",
       "      <td>3430508941</td>\n",
       "      <td>2022-10-11 03:02:31</td>\n",
       "      <td>1</td>\n",
       "      <td>0</td>\n",
       "      <td>0.24</td>\n",
       "      <td>0.25</td>\n",
       "      <td>0.21</td>\n",
       "      <td>0.26</td>\n",
       "      <td>0.25</td>\n",
       "    </tr>\n",
       "    <tr>\n",
       "      <th>4</th>\n",
       "      <td>P9PBJ17054</td>\n",
       "      <td>2022-10-11 03:13:51</td>\n",
       "      <td>1</td>\n",
       "      <td>0</td>\n",
       "      <td>0.25</td>\n",
       "      <td>0.23</td>\n",
       "      <td>0.23</td>\n",
       "      <td>0.22</td>\n",
       "      <td>0.25</td>\n",
       "    </tr>\n",
       "  </tbody>\n",
       "</table>\n",
       "</div>"
      ],
      "text/plain": [
       "  SerialNumber           tDateTime  result  FailItem  Btn1_click  Btn2_click  \\\n",
       "0   P9PA562195 2022-10-11 02:55:49       1         0        0.24        0.23   \n",
       "1   3430508938 2022-10-11 02:59:25       1         0        0.25        0.21   \n",
       "2   3430508940 2022-10-11 03:01:12       1         0        0.25        0.25   \n",
       "3   3430508941 2022-10-11 03:02:31       1         0        0.24        0.25   \n",
       "4   P9PBJ17054 2022-10-11 03:13:51       1         0        0.25        0.23   \n",
       "\n",
       "   Btn3_click  Btn4_click  Btn5_click  \n",
       "0        0.23        0.21        0.25  \n",
       "1        0.26        0.25        0.24  \n",
       "2        0.25        0.25        0.26  \n",
       "3        0.21        0.26        0.25  \n",
       "4        0.23        0.22        0.25  "
      ]
     },
     "execution_count": 2,
     "metadata": {},
     "output_type": "execute_result"
    }
   ],
   "source": [
    "click = pd.read_excel('Click_MP.xlsx')\n",
    "click.head()"
   ]
  },
  {
   "cell_type": "code",
   "execution_count": 10,
   "metadata": {},
   "outputs": [
    {
     "name": "stdout",
     "output_type": "stream",
     "text": [
      "<class 'pandas.core.frame.DataFrame'>\n",
      "Int64Index: 1973 entries, 0 to 2283\n",
      "Data columns (total 9 columns):\n",
      " #   Column        Non-Null Count  Dtype         \n",
      "---  ------        --------------  -----         \n",
      " 0   SerialNumber  1973 non-null   object        \n",
      " 1   tDateTime     1973 non-null   datetime64[ns]\n",
      " 2   result        1973 non-null   int64         \n",
      " 3   FailItem      1973 non-null   int64         \n",
      " 4   Btn1_click    1973 non-null   float64       \n",
      " 5   Btn2_click    1973 non-null   float64       \n",
      " 6   Btn3_click    1973 non-null   float64       \n",
      " 7   Btn4_click    1973 non-null   float64       \n",
      " 8   Btn5_click    1973 non-null   float64       \n",
      "dtypes: datetime64[ns](1), float64(5), int64(2), object(1)\n",
      "memory usage: 154.1+ KB\n"
     ]
    }
   ],
   "source": [
    "click_keepfirst = click.drop_duplicates(subset='SerialNumber', keep='first')\n",
    "click_keepfirst.info()"
   ]
  },
  {
   "cell_type": "code",
   "execution_count": 15,
   "metadata": {},
   "outputs": [
    {
     "data": {
      "text/plain": [
       "0     1917\n",
       "7       38\n",
       "37       9\n",
       "27       7\n",
       "17       2\n",
       "Name: FailItem, dtype: int64"
      ]
     },
     "execution_count": 15,
     "metadata": {},
     "output_type": "execute_result"
    }
   ],
   "source": [
    "click_keepfirst.FailItem.value_counts()"
   ]
  },
  {
   "cell_type": "code",
   "execution_count": 13,
   "metadata": {},
   "outputs": [
    {
     "data": {
      "text/plain": [
       "0     1942\n",
       "7       26\n",
       "37       3\n",
       "27       1\n",
       "17       1\n",
       "Name: FailItem, dtype: int64"
      ]
     },
     "execution_count": 13,
     "metadata": {},
     "output_type": "execute_result"
    }
   ],
   "source": [
    "click_keeplast = click.drop_duplicates(subset='SerialNumber', keep='last')\n",
    "click_keeplast.FailItem.value_counts()"
   ]
  },
  {
   "cell_type": "code",
   "execution_count": null,
   "metadata": {},
   "outputs": [],
   "source": []
  }
 ],
 "metadata": {
  "kernelspec": {
   "display_name": "Python 3.8.10 ('workspace')",
   "language": "python",
   "name": "python3"
  },
  "language_info": {
   "codemirror_mode": {
    "name": "ipython",
    "version": 3
   },
   "file_extension": ".py",
   "mimetype": "text/x-python",
   "name": "python",
   "nbconvert_exporter": "python",
   "pygments_lexer": "ipython3",
   "version": "3.8.10"
  },
  "orig_nbformat": 4,
  "vscode": {
   "interpreter": {
    "hash": "d7ba5307f264c9d62b544121f5029238a64acfef4aaa56e4d1098951fb013dec"
   }
  }
 },
 "nbformat": 4,
 "nbformat_minor": 2
}
