{
 "cells": [
  {
   "cell_type": "code",
   "execution_count": 1,
   "metadata": {},
   "outputs": [],
   "source": [
    "import pandas as pd\n",
    "import matplotlib.pyplot as plt\n",
    "import seaborn as sns"
   ]
  },
  {
   "cell_type": "code",
   "execution_count": 2,
   "metadata": {},
   "outputs": [
    {
     "data": {
      "text/html": [
       "<div>\n",
       "<style scoped>\n",
       "    .dataframe tbody tr th:only-of-type {\n",
       "        vertical-align: middle;\n",
       "    }\n",
       "\n",
       "    .dataframe tbody tr th {\n",
       "        vertical-align: top;\n",
       "    }\n",
       "\n",
       "    .dataframe thead th {\n",
       "        text-align: right;\n",
       "    }\n",
       "</style>\n",
       "<table border=\"1\" class=\"dataframe\">\n",
       "  <thead>\n",
       "    <tr style=\"text-align: right;\">\n",
       "      <th></th>\n",
       "      <th>Reference</th>\n",
       "      <th>ItemNameType</th>\n",
       "      <th>StationID</th>\n",
       "      <th>SerialNumber</th>\n",
       "      <th>ProductName</th>\n",
       "      <th>Version</th>\n",
       "      <th>ExeInfo</th>\n",
       "      <th>Item56</th>\n",
       "      <th>Item56St</th>\n",
       "      <th>tDateTime</th>\n",
       "      <th>SO</th>\n",
       "      <th>Job_GPN</th>\n",
       "      <th>UserName</th>\n",
       "    </tr>\n",
       "  </thead>\n",
       "  <tbody>\n",
       "    <tr>\n",
       "      <th>0</th>\n",
       "      <td>400953663</td>\n",
       "      <td>15688</td>\n",
       "      <td>2</td>\n",
       "      <td>3422062254</td>\n",
       "      <td>MARQ GEN2 V09.10</td>\n",
       "      <td>9.10</td>\n",
       "      <td>[ITMXP.exe 1.0.12718.8372 ][MarQ2_FT1 2.4 2022...</td>\n",
       "      <td>769</td>\n",
       "      <td>1</td>\n",
       "      <td>2022-07-22 14:26:11+08:00</td>\n",
       "      <td>15937245</td>\n",
       "      <td>011-05817-04</td>\n",
       "      <td>2454</td>\n",
       "    </tr>\n",
       "    <tr>\n",
       "      <th>1</th>\n",
       "      <td>400953665</td>\n",
       "      <td>15688</td>\n",
       "      <td>3</td>\n",
       "      <td>3422062230</td>\n",
       "      <td>MARQ GEN2 V09.10</td>\n",
       "      <td>9.10</td>\n",
       "      <td>[ITMXP.exe 1.0.12718.8372 ][MarQ2_FT1 2.4 2022...</td>\n",
       "      <td>769</td>\n",
       "      <td>1</td>\n",
       "      <td>2022-07-22 14:26:12+08:00</td>\n",
       "      <td>15937245</td>\n",
       "      <td>011-05817-04</td>\n",
       "      <td>2454</td>\n",
       "    </tr>\n",
       "    <tr>\n",
       "      <th>2</th>\n",
       "      <td>400979701</td>\n",
       "      <td>15688</td>\n",
       "      <td>2</td>\n",
       "      <td>3422061959</td>\n",
       "      <td>MARQ GEN2 V09.10</td>\n",
       "      <td>9.10</td>\n",
       "      <td>[ITMXP.exe 1.0.12718.8372 ][MarQ2_FT1 2.4 2022...</td>\n",
       "      <td>769</td>\n",
       "      <td>1</td>\n",
       "      <td>2022-07-22 16:42:29+08:00</td>\n",
       "      <td>15937192</td>\n",
       "      <td>011-05817-03</td>\n",
       "      <td>2454</td>\n",
       "    </tr>\n",
       "    <tr>\n",
       "      <th>3</th>\n",
       "      <td>402887581</td>\n",
       "      <td>15688</td>\n",
       "      <td>1</td>\n",
       "      <td>3425559236</td>\n",
       "      <td>MARQ CAPTAIN GEN2 V09.23</td>\n",
       "      <td>9.23</td>\n",
       "      <td>[ITMXP.exe 1.0.12725.36316 ][MarQ2_FT1 2.4 202...</td>\n",
       "      <td>769</td>\n",
       "      <td>1</td>\n",
       "      <td>2022-08-04 11:54:03+08:00</td>\n",
       "      <td>15950642</td>\n",
       "      <td>011-05817-03</td>\n",
       "      <td>25717</td>\n",
       "    </tr>\n",
       "    <tr>\n",
       "      <th>4</th>\n",
       "      <td>402887595</td>\n",
       "      <td>15688</td>\n",
       "      <td>2</td>\n",
       "      <td>3425559234</td>\n",
       "      <td>MARQ CAPTAIN GEN2 V09.23</td>\n",
       "      <td>9.23</td>\n",
       "      <td>[ITMXP.exe 1.0.12725.36316 ][MarQ2_FT1 2.4 202...</td>\n",
       "      <td>769</td>\n",
       "      <td>1</td>\n",
       "      <td>2022-08-04 11:54:09+08:00</td>\n",
       "      <td>15950642</td>\n",
       "      <td>011-05817-03</td>\n",
       "      <td>25717</td>\n",
       "    </tr>\n",
       "  </tbody>\n",
       "</table>\n",
       "</div>"
      ],
      "text/plain": [
       "   Reference  ItemNameType  StationID  SerialNumber               ProductName  \\\n",
       "0  400953663         15688          2    3422062254          MARQ GEN2 V09.10   \n",
       "1  400953665         15688          3    3422062230          MARQ GEN2 V09.10   \n",
       "2  400979701         15688          2    3422061959          MARQ GEN2 V09.10   \n",
       "3  402887581         15688          1    3425559236  MARQ CAPTAIN GEN2 V09.23   \n",
       "4  402887595         15688          2    3425559234  MARQ CAPTAIN GEN2 V09.23   \n",
       "\n",
       "   Version                                            ExeInfo  Item56  \\\n",
       "0     9.10  [ITMXP.exe 1.0.12718.8372 ][MarQ2_FT1 2.4 2022...     769   \n",
       "1     9.10  [ITMXP.exe 1.0.12718.8372 ][MarQ2_FT1 2.4 2022...     769   \n",
       "2     9.10  [ITMXP.exe 1.0.12718.8372 ][MarQ2_FT1 2.4 2022...     769   \n",
       "3     9.23  [ITMXP.exe 1.0.12725.36316 ][MarQ2_FT1 2.4 202...     769   \n",
       "4     9.23  [ITMXP.exe 1.0.12725.36316 ][MarQ2_FT1 2.4 202...     769   \n",
       "\n",
       "   Item56St                 tDateTime        SO       Job_GPN  UserName  \n",
       "0         1 2022-07-22 14:26:11+08:00  15937245  011-05817-04      2454  \n",
       "1         1 2022-07-22 14:26:12+08:00  15937245  011-05817-04      2454  \n",
       "2         1 2022-07-22 16:42:29+08:00  15937192  011-05817-03      2454  \n",
       "3         1 2022-08-04 11:54:03+08:00  15950642  011-05817-03     25717  \n",
       "4         1 2022-08-04 11:54:09+08:00  15950642  011-05817-03     25717  "
      ]
     },
     "execution_count": 2,
     "metadata": {},
     "output_type": "execute_result"
    }
   ],
   "source": [
    "df = pd.read_excel('CPLC_0901.xlsx')\n",
    "df.tDateTime = pd.to_datetime(df.tDateTime, utc=True).dt.tz_convert('Asia/Taipei')\n",
    "df.head()"
   ]
  },
  {
   "cell_type": "code",
   "execution_count": 3,
   "metadata": {},
   "outputs": [],
   "source": [
    "#df_d = df[df.duplicated(subset='SerialNumber', keep=False)].sort_values(['SerialNumber','tDateTime'])"
   ]
  },
  {
   "cell_type": "code",
   "execution_count": 4,
   "metadata": {},
   "outputs": [],
   "source": [
    "df['TestProgramVersion'] = df.ExeInfo.apply(lambda info : info.split('[')[2][:13])"
   ]
  },
  {
   "cell_type": "code",
   "execution_count": 6,
   "metadata": {},
   "outputs": [
    {
     "data": {
      "text/plain": [
       "<matplotlib.legend.Legend at 0x274eff73dc0>"
      ]
     },
     "execution_count": 6,
     "metadata": {},
     "output_type": "execute_result"
    },
    {
     "data": {
      "image/png": "[encoded data removed]",
      "text/plain": [
       "<Figure size 576x576 with 1 Axes>"
      ]
     },
     "metadata": {
      "needs_background": "light"
     },
     "output_type": "display_data"
    }
   ],
   "source": [
    "plt.figure(figsize=(8,8))\n",
    "ax = sns.countplot(data=df[df.Item56!=0], x='Item56', hue='TestProgramVersion')\n",
    "plt.legend(loc = 'upper left')\n",
    "\n",
    "#for p in ax.patches:\n",
    "#        ax.annotate('{:.0f}'.format(p.get_height()), (p.get_x()+0.16, p.get_height()+3))"
   ]
  }
 ],
 "metadata": {
  "kernelspec": {
   "display_name": "Python 3.8.10 ('workspace')",
   "language": "python",
   "name": "python3"
  },
  "language_info": {
   "codemirror_mode": {
    "name": "ipython",
    "version": 3
   },
   "file_extension": ".py",
   "mimetype": "text/x-python",
   "name": "python",
   "nbconvert_exporter": "python",
   "pygments_lexer": "ipython3",
   "version": "3.8.10"
  },
  "orig_nbformat": 4,
  "vscode": {
   "interpreter": {
    "hash": "d7ba5307f264c9d62b544121f5029238a64acfef4aaa56e4d1098951fb013dec"
   }
  }
 },
 "nbformat": 4,
 "nbformat_minor": 2
}
