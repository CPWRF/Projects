{
 "cells": [
  {
   "cell_type": "code",
   "execution_count": 1,
   "metadata": {},
   "outputs": [],
   "source": [
    "import pandas as pd\n",
    "import matplotlib.pyplot as plt\n",
    "import seaborn as sns"
   ]
  },
  {
   "cell_type": "code",
   "execution_count": 4,
   "metadata": {},
   "outputs": [],
   "source": [
    "pre = pd.read_excel('EP42_45degree_FFP.xlsx')\n",
    "next = pd.read_excel('Epix42_PR_45degree.xlsx')"
   ]
  },
  {
   "cell_type": "code",
   "execution_count": 5,
   "metadata": {},
   "outputs": [
    {
     "data": {
      "text/html": [
       "<div>\n",
       "<style scoped>\n",
       "    .dataframe tbody tr th:only-of-type {\n",
       "        vertical-align: middle;\n",
       "    }\n",
       "\n",
       "    .dataframe tbody tr th {\n",
       "        vertical-align: top;\n",
       "    }\n",
       "\n",
       "    .dataframe thead th {\n",
       "        text-align: right;\n",
       "    }\n",
       "</style>\n",
       "<table border=\"1\" class=\"dataframe\">\n",
       "  <thead>\n",
       "    <tr style=\"text-align: right;\">\n",
       "      <th></th>\n",
       "      <th>ItemName Type</th>\n",
       "      <th>Process Type</th>\n",
       "      <th>Item</th>\n",
       "      <th>ItemName</th>\n",
       "      <th>Count/Count ESN</th>\n",
       "      <th>Retest%</th>\n",
       "    </tr>\n",
       "  </thead>\n",
       "  <tbody>\n",
       "    <tr>\n",
       "      <th>119</th>\n",
       "      <td>8837</td>\n",
       "      <td>Airtight_table</td>\n",
       "      <td>130</td>\n",
       "      <td>連續斜率異常_常壓</td>\n",
       "      <td>2/410</td>\n",
       "      <td>0.49</td>\n",
       "    </tr>\n",
       "    <tr>\n",
       "      <th>154</th>\n",
       "      <td>17809</td>\n",
       "      <td>Epix_Pro_Baro</td>\n",
       "      <td>1</td>\n",
       "      <td>Calibrate Golden Sample</td>\n",
       "      <td>1/402</td>\n",
       "      <td>0.25</td>\n",
       "    </tr>\n",
       "    <tr>\n",
       "      <th>153</th>\n",
       "      <td>17808</td>\n",
       "      <td>Epix_Pro_GSensor</td>\n",
       "      <td>17</td>\n",
       "      <td>Calibration</td>\n",
       "      <td>1/404</td>\n",
       "      <td>0.25</td>\n",
       "    </tr>\n",
       "  </tbody>\n",
       "</table>\n",
       "</div>"
      ],
      "text/plain": [
       "     ItemName Type      Process Type  Item                 ItemName  \\\n",
       "119           8837    Airtight_table   130                連續斜率異常_常壓   \n",
       "154          17809     Epix_Pro_Baro     1  Calibrate Golden Sample   \n",
       "153          17808  Epix_Pro_GSensor    17              Calibration   \n",
       "\n",
       "    Count/Count ESN  Retest%  \n",
       "119           2/410     0.49  \n",
       "154           1/402     0.25  \n",
       "153           1/404     0.25  "
      ]
     },
     "execution_count": 5,
     "metadata": {},
     "output_type": "execute_result"
    }
   ],
   "source": [
    "pre.sample(3)"
   ]
  },
  {
   "cell_type": "code",
   "execution_count": 7,
   "metadata": {},
   "outputs": [
    {
     "data": {
      "text/html": [
       "<div>\n",
       "<style scoped>\n",
       "    .dataframe tbody tr th:only-of-type {\n",
       "        vertical-align: middle;\n",
       "    }\n",
       "\n",
       "    .dataframe tbody tr th {\n",
       "        vertical-align: top;\n",
       "    }\n",
       "\n",
       "    .dataframe thead th {\n",
       "        text-align: right;\n",
       "    }\n",
       "</style>\n",
       "<table border=\"1\" class=\"dataframe\">\n",
       "  <thead>\n",
       "    <tr style=\"text-align: right;\">\n",
       "      <th></th>\n",
       "      <th>ItemName Type</th>\n",
       "      <th>Process Type</th>\n",
       "      <th>Item</th>\n",
       "      <th>ItemName</th>\n",
       "      <th>Count/Count ESN</th>\n",
       "      <th>Retest%</th>\n",
       "    </tr>\n",
       "  </thead>\n",
       "  <tbody>\n",
       "    <tr>\n",
       "      <th>44</th>\n",
       "      <td>17886</td>\n",
       "      <td>Epix_pro_RTESN</td>\n",
       "      <td>75</td>\n",
       "      <td>Check ECG 1907 IOP</td>\n",
       "      <td>23/629</td>\n",
       "      <td>3.66</td>\n",
       "    </tr>\n",
       "    <tr>\n",
       "      <th>203</th>\n",
       "      <td>17822</td>\n",
       "      <td>Epix_Pro_ALS</td>\n",
       "      <td>18</td>\n",
       "      <td>Temperature Sensor Temperature(After)</td>\n",
       "      <td>1/562</td>\n",
       "      <td>0.18</td>\n",
       "    </tr>\n",
       "    <tr>\n",
       "      <th>119</th>\n",
       "      <td>14545</td>\n",
       "      <td>HRM_lensLifted_Unit</td>\n",
       "      <td>1</td>\n",
       "      <td>RS232連線|RS232 Connection</td>\n",
       "      <td>2/307</td>\n",
       "      <td>0.65</td>\n",
       "    </tr>\n",
       "  </tbody>\n",
       "</table>\n",
       "</div>"
      ],
      "text/plain": [
       "     ItemName Type         Process Type  Item  \\\n",
       "44           17886       Epix_pro_RTESN    75   \n",
       "203          17822         Epix_Pro_ALS    18   \n",
       "119          14545  HRM_lensLifted_Unit     1   \n",
       "\n",
       "                                  ItemName Count/Count ESN  Retest%  \n",
       "44                      Check ECG 1907 IOP          23/629     3.66  \n",
       "203  Temperature Sensor Temperature(After)           1/562     0.18  \n",
       "119               RS232連線|RS232 Connection           2/307     0.65  "
      ]
     },
     "execution_count": 7,
     "metadata": {},
     "output_type": "execute_result"
    }
   ],
   "source": [
    "next.sample(3)"
   ]
  },
  {
   "attachments": {},
   "cell_type": "markdown",
   "metadata": {},
   "source": [
    "# Tweak and Filter"
   ]
  },
  {
   "attachments": {},
   "cell_type": "markdown",
   "metadata": {},
   "source": [
    "Blacklist"
   ]
  },
  {
   "cell_type": "code",
   "execution_count": 8,
   "metadata": {},
   "outputs": [],
   "source": [
    "nextocessTypeBlackList = 'Pack|Click|RabbitCard|EasyCard|DeleteBundle|nextodScan|FileCopyer'\n",
    "ItemNameBlackList = 'ESN|Check nextoductionMap|Fixture ID'"
   ]
  },
  {
   "attachments": {},
   "cell_type": "markdown",
   "metadata": {},
   "source": [
    "tweak_filter def"
   ]
  },
  {
   "cell_type": "code",
   "execution_count": 9,
   "metadata": {},
   "outputs": [],
   "source": [
    "def tweak_filter(raw):\n",
    "    return(raw\n",
    "    .drop('Comment',axis=1, errors='ignore')\n",
    "    .rename(columns = lambda name : name.replace(\" \",'').replace('/','').replace('%',''))\n",
    "    .sort_values('Retest', ascending=False)\n",
    "    .astype({'ItemNameType':'category','ProcessType':'category','Item':'category','ItemName':'category'})\n",
    "    .assign(CountESN = lambda df : df.CountCountESN.str.split('/').str[1].astype('int16'))\n",
    "    .query(\"~ProcessType.str.contains(@nextocessTypeBlackList) and ~ItemName.str.contains(@ItemNameBlackList)\")\n",
    "    # .CountESN.quantile(0.03)\n",
    "    .query(\"CountESN > CountESN.quantile(0.05)\")\n",
    "    .query(\"Retest >= Retest.mean()\")\n",
    "    # .Retest.mean()\n",
    "    )"
   ]
  },
  {
   "attachments": {},
   "cell_type": "markdown",
   "metadata": {},
   "source": [
    "filter def"
   ]
  },
  {
   "cell_type": "code",
   "execution_count": 10,
   "metadata": {},
   "outputs": [],
   "source": [
    "def tweak(raw):\n",
    "    return(raw\n",
    "    .drop('Comment',axis=1, errors='ignore')\n",
    "    .rename(columns = lambda name : name.replace(\" \",'').replace('/','').replace('%',''))\n",
    "    .sort_values('Retest', ascending=False)\n",
    "    .astype({'ItemNameType':'category','ProcessType':'category','Item':'category','ItemName':'category'})\n",
    "    .assign(CountESN = lambda df : df.CountCountESN.str.split('/').str[1].astype('int16'))\n",
    "    )"
   ]
  },
  {
   "cell_type": "code",
   "execution_count": 11,
   "metadata": {},
   "outputs": [],
   "source": [
    "# tweak_filter(next).to_excel('tweak_EP47_45degree_PR.xlsx', index=False)"
   ]
  },
  {
   "attachments": {},
   "cell_type": "markdown",
   "metadata": {},
   "source": [
    "# Merge two phases"
   ]
  },
  {
   "cell_type": "code",
   "execution_count": 12,
   "metadata": {},
   "outputs": [],
   "source": [
    "pre_next = pd.merge(\n",
    "    left=tweak_filter(pre), right=tweak(next), how='left',\n",
    "    left_on=['ItemNameType','ProcessType','Item','ItemName'], right_on=['ItemNameType','ProcessType','Item','ItemName'],\n",
    "    suffixes=['_pre','_next'])"
   ]
  },
  {
   "cell_type": "code",
   "execution_count": 13,
   "metadata": {},
   "outputs": [],
   "source": [
    "pre_next.to_excel('output.xlsx', index=False)"
   ]
  },
  {
   "attachments": {},
   "cell_type": "markdown",
   "metadata": {},
   "source": [
    "# RetryImprove def"
   ]
  },
  {
   "cell_type": "code",
   "execution_count": 14,
   "metadata": {},
   "outputs": [],
   "source": [
    "def RetryImprove(df):\n",
    "    return((100 * (df.Retest_pre.sum() - df.Retest_next.sum()) / df.Retest_pre.sum()).round(3))"
   ]
  },
  {
   "cell_type": "code",
   "execution_count": 15,
   "metadata": {},
   "outputs": [
    {
     "data": {
      "text/plain": [
       "60.718"
      ]
     },
     "execution_count": 15,
     "metadata": {},
     "output_type": "execute_result"
    }
   ],
   "source": [
    "RetryImprove(pre_next)"
   ]
  },
  {
   "cell_type": "code",
   "execution_count": 16,
   "metadata": {},
   "outputs": [
    {
     "data": {
      "text/html": [
       "<style type=\"text/css\">\n",
       "#T_2a67d_row0_col2 {\n",
       "  width: 10em;\n",
       "  background: linear-gradient(90deg, transparent 35.0%, green 35.0%, green 100.0%, transparent 100.0%);\n",
       "}\n",
       "#T_2a67d_row1_col2 {\n",
       "  width: 10em;\n",
       "  background: linear-gradient(90deg, transparent 35.0%, green 35.0%, green 94.1%, transparent 94.1%);\n",
       "}\n",
       "#T_2a67d_row2_col2 {\n",
       "  width: 10em;\n",
       "  background: linear-gradient(90deg, transparent 35.0%, green 35.0%, green 87.5%, transparent 87.5%);\n",
       "}\n",
       "#T_2a67d_row3_col2 {\n",
       "  width: 10em;\n",
       "  background: linear-gradient(90deg, transparent 35.0%, green 35.0%, green 62.3%, transparent 62.3%);\n",
       "}\n",
       "#T_2a67d_row4_col2 {\n",
       "  width: 10em;\n",
       "  background: linear-gradient(90deg, transparent 35.0%, green 35.0%, green 42.2%, transparent 42.2%);\n",
       "}\n",
       "#T_2a67d_row5_col2 {\n",
       "  width: 10em;\n",
       "  background: linear-gradient(90deg, transparent 35.0%, green 35.0%, green 40.2%, transparent 40.2%);\n",
       "}\n",
       "#T_2a67d_row6_col2 {\n",
       "  width: 10em;\n",
       "  background: linear-gradient(90deg, transparent 35.0%, green 35.0%, green 39.8%, transparent 39.8%);\n",
       "}\n",
       "#T_2a67d_row7_col2 {\n",
       "  width: 10em;\n",
       "  background: linear-gradient(90deg, transparent 35.0%, green 35.0%, green 38.6%, transparent 38.6%);\n",
       "}\n",
       "#T_2a67d_row8_col2 {\n",
       "  width: 10em;\n",
       "  background: linear-gradient(90deg, transparent 35.0%, green 35.0%, green 37.7%, transparent 37.7%);\n",
       "}\n",
       "#T_2a67d_row9_col2 {\n",
       "  width: 10em;\n",
       "  background: linear-gradient(90deg, transparent 33.8%, red 33.8%, red 35.0%, transparent 35.0%);\n",
       "}\n",
       "#T_2a67d_row10_col2 {\n",
       "  width: 10em;\n",
       "  background: linear-gradient(90deg, transparent 31.6%, red 31.6%, red 35.0%, transparent 35.0%);\n",
       "}\n",
       "#T_2a67d_row11_col2 {\n",
       "  width: 10em;\n",
       "  background: linear-gradient(90deg, transparent 27.6%, red 27.6%, red 35.0%, transparent 35.0%);\n",
       "}\n",
       "#T_2a67d_row12_col2 {\n",
       "  width: 10em;\n",
       "  background: linear-gradient(90deg, transparent 21.9%, red 21.9%, red 35.0%, transparent 35.0%);\n",
       "}\n",
       "#T_2a67d_row13_col2 {\n",
       "  width: 10em;\n",
       "  background: linear-gradient(90deg, transparent 17.2%, red 17.2%, red 35.0%, transparent 35.0%);\n",
       "}\n",
       "#T_2a67d_row14_col2 {\n",
       "  width: 10em;\n",
       "  background: linear-gradient(90deg, red 35.0%, transparent 35.0%);\n",
       "}\n",
       "</style>\n",
       "<table id=\"T_2a67d\">\n",
       "  <thead>\n",
       "    <tr>\n",
       "      <th class=\"blank level0\" >&nbsp;</th>\n",
       "      <th id=\"T_2a67d_level0_col0\" class=\"col_heading level0 col0\" >ProcessType</th>\n",
       "      <th id=\"T_2a67d_level0_col1\" class=\"col_heading level0 col1\" >ItemName</th>\n",
       "      <th id=\"T_2a67d_level0_col2\" class=\"col_heading level0 col2\" >diff</th>\n",
       "    </tr>\n",
       "  </thead>\n",
       "  <tbody>\n",
       "    <tr>\n",
       "      <th id=\"T_2a67d_level0_row0\" class=\"row_heading level0 row0\" >0</th>\n",
       "      <td id=\"T_2a67d_row0_col0\" class=\"data row0 col0\" >Epix_Pro_ECG_FT</td>\n",
       "      <td id=\"T_2a67d_row0_col1\" class=\"data row0 col1\" >ECG impedance short</td>\n",
       "      <td id=\"T_2a67d_row0_col2\" class=\"data row0 col2\" >15.880000</td>\n",
       "    </tr>\n",
       "    <tr>\n",
       "      <th id=\"T_2a67d_level0_row1\" class=\"row_heading level0 row1\" >2</th>\n",
       "      <td id=\"T_2a67d_row1_col0\" class=\"data row1 col0\" >Epix_Pro_ATE_TI</td>\n",
       "      <td id=\"T_2a67d_row1_col1\" class=\"data row1 col1\" >AFE Power Consumption data</td>\n",
       "      <td id=\"T_2a67d_row1_col2\" class=\"data row1 col2\" >14.450000</td>\n",
       "    </tr>\n",
       "    <tr>\n",
       "      <th id=\"T_2a67d_level0_row2\" class=\"row_heading level0 row2\" >3</th>\n",
       "      <td id=\"T_2a67d_row2_col0\" class=\"data row2 col0\" >Epix_Pro_ATE_TI</td>\n",
       "      <td id=\"T_2a67d_row2_col1\" class=\"data row2 col1\" >Temperature Sensor Temperature</td>\n",
       "      <td id=\"T_2a67d_row2_col2\" class=\"data row2 col2\" >12.820000</td>\n",
       "    </tr>\n",
       "    <tr>\n",
       "      <th id=\"T_2a67d_level0_row3\" class=\"row_heading level0 row3\" >5</th>\n",
       "      <td id=\"T_2a67d_row3_col0\" class=\"data row3 col0\" >Epix_Pro_Gyro</td>\n",
       "      <td id=\"T_2a67d_row3_col1\" class=\"data row3 col1\" >電池電壓|Battery Voltage</td>\n",
       "      <td id=\"T_2a67d_row3_col2\" class=\"data row3 col2\" >6.660000</td>\n",
       "    </tr>\n",
       "    <tr>\n",
       "      <th id=\"T_2a67d_level0_row4\" class=\"row_heading level0 row4\" >24</th>\n",
       "      <td id=\"T_2a67d_row4_col0\" class=\"data row4 col0\" >Epix_Pro_FT2</td>\n",
       "      <td id=\"T_2a67d_row4_col1\" class=\"data row4 col1\" >Power Box Sampling BL on normal(Avg) diff with ATE</td>\n",
       "      <td id=\"T_2a67d_row4_col2\" class=\"data row4 col2\" >1.750000</td>\n",
       "    </tr>\n",
       "    <tr>\n",
       "      <th id=\"T_2a67d_level0_row5\" class=\"row_heading level0 row5\" >11</th>\n",
       "      <td id=\"T_2a67d_row5_col0\" class=\"data row5 col0\" >Epix_Pro_FT1</td>\n",
       "      <td id=\"T_2a67d_row5_col1\" class=\"data row5 col1\" >GPS_ (L1 + L5) by ref</td>\n",
       "      <td id=\"T_2a67d_row5_col2\" class=\"data row5 col2\" >1.270000</td>\n",
       "    </tr>\n",
       "    <tr>\n",
       "      <th id=\"T_2a67d_level0_row6\" class=\"row_heading level0 row6\" >18</th>\n",
       "      <td id=\"T_2a67d_row6_col0\" class=\"data row6 col0\" >Epix_Pro_Gyro</td>\n",
       "      <td id=\"T_2a67d_row6_col1\" class=\"data row6 col1\" >Check FT3 Test Data</td>\n",
       "      <td id=\"T_2a67d_row6_col2\" class=\"data row6 col2\" >1.170000</td>\n",
       "    </tr>\n",
       "    <tr>\n",
       "      <th id=\"T_2a67d_level0_row7\" class=\"row_heading level0 row7\" >20</th>\n",
       "      <td id=\"T_2a67d_row7_col0\" class=\"data row7 col0\" >Epix_Pro_FT2</td>\n",
       "      <td id=\"T_2a67d_row7_col1\" class=\"data row7 col1\" >ANT_power 2450MHz</td>\n",
       "      <td id=\"T_2a67d_row7_col2\" class=\"data row7 col2\" >0.880000</td>\n",
       "    </tr>\n",
       "    <tr>\n",
       "      <th id=\"T_2a67d_level0_row8\" class=\"row_heading level0 row8\" >17</th>\n",
       "      <td id=\"T_2a67d_row8_col0\" class=\"data row8 col0\" >Epix_Pro_ATE_TI</td>\n",
       "      <td id=\"T_2a67d_row8_col1\" class=\"data row8 col1\" >AFE Power Consumption Test</td>\n",
       "      <td id=\"T_2a67d_row8_col2\" class=\"data row8 col2\" >0.670000</td>\n",
       "    </tr>\n",
       "    <tr>\n",
       "      <th id=\"T_2a67d_level0_row9\" class=\"row_heading level0 row9\" >15</th>\n",
       "      <td id=\"T_2a67d_row9_col0\" class=\"data row9 col0\" >Epix_Pro_FT1</td>\n",
       "      <td id=\"T_2a67d_row9_col1\" class=\"data row9 col1\" >006J Comparison</td>\n",
       "      <td id=\"T_2a67d_row9_col2\" class=\"data row9 col2\" >-0.300000</td>\n",
       "    </tr>\n",
       "    <tr>\n",
       "      <th id=\"T_2a67d_level0_row10\" class=\"row_heading level0 row10\" >16</th>\n",
       "      <td id=\"T_2a67d_row10_col0\" class=\"data row10 col0\" >Airtight_table</td>\n",
       "      <td id=\"T_2a67d_row10_col1\" class=\"data row10 col1\" >連續斜率異常_正壓</td>\n",
       "      <td id=\"T_2a67d_row10_col2\" class=\"data row10 col2\" >-0.840000</td>\n",
       "    </tr>\n",
       "    <tr>\n",
       "      <th id=\"T_2a67d_level0_row11\" class=\"row_heading level0 row11\" >13</th>\n",
       "      <td id=\"T_2a67d_row11_col0\" class=\"data row11 col0\" >Epix_Pro_FT2</td>\n",
       "      <td id=\"T_2a67d_row11_col1\" class=\"data row11 col1\" >ANT_power 2450MHz BY REF (sapphire)</td>\n",
       "      <td id=\"T_2a67d_row11_col2\" class=\"data row11 col2\" >-1.810000</td>\n",
       "    </tr>\n",
       "    <tr>\n",
       "      <th id=\"T_2a67d_level0_row12\" class=\"row_heading level0 row12\" >23</th>\n",
       "      <td id=\"T_2a67d_row12_col0\" class=\"data row12 col0\" >Airtight_table</td>\n",
       "      <td id=\"T_2a67d_row12_col1\" class=\"data row12 col1\" >連續斜率異常_負壓</td>\n",
       "      <td id=\"T_2a67d_row12_col2\" class=\"data row12 col2\" >-3.210000</td>\n",
       "    </tr>\n",
       "    <tr>\n",
       "      <th id=\"T_2a67d_level0_row13\" class=\"row_heading level0 row13\" >12</th>\n",
       "      <td id=\"T_2a67d_row13_col0\" class=\"data row13 col0\" >Epix_Pro_HT</td>\n",
       "      <td id=\"T_2a67d_row13_col1\" class=\"data row13 col1\" >GPS_L5 by ref</td>\n",
       "      <td id=\"T_2a67d_row13_col2\" class=\"data row13 col2\" >-4.340000</td>\n",
       "    </tr>\n",
       "    <tr>\n",
       "      <th id=\"T_2a67d_level0_row14\" class=\"row_heading level0 row14\" >26</th>\n",
       "      <td id=\"T_2a67d_row14_col0\" class=\"data row14 col0\" >Epix_pro_RTESN</td>\n",
       "      <td id=\"T_2a67d_row14_col1\" class=\"data row14 col1\" >光學心跳模組檢查|Check OHRM LED</td>\n",
       "      <td id=\"T_2a67d_row14_col2\" class=\"data row14 col2\" >-8.550000</td>\n",
       "    </tr>\n",
       "  </tbody>\n",
       "</table>\n"
      ],
      "text/plain": [
       "<pandas.io.formats.style.Styler at 0x1a9a9ca0d60>"
      ]
     },
     "execution_count": 16,
     "metadata": {},
     "output_type": "execute_result"
    }
   ],
   "source": [
    "def RetryDiff(df):\n",
    "    return(df\n",
    "     .assign(diff = df.Retest_pre - df.Retest_next)\n",
    "     [['ProcessType','ItemName','diff']]\n",
    "     .sort_values('diff', ascending=False)\n",
    "     .dropna(axis=0)\n",
    "     .style.bar('diff', color=['red','green'])\n",
    "     )\n",
    "RetryDiff(pre_next)"
   ]
  }
 ],
 "metadata": {
  "kernelspec": {
   "display_name": "workspace3.10",
   "language": "python",
   "name": "python3"
  },
  "language_info": {
   "codemirror_mode": {
    "name": "ipython",
    "version": 3
   },
   "file_extension": ".py",
   "mimetype": "text/x-python",
   "name": "python",
   "nbconvert_exporter": "python",
   "pygments_lexer": "ipython3",
   "version": "3.10.9"
  },
  "orig_nbformat": 4,
  "vscode": {
   "interpreter": {
    "hash": "bf4e218b588bdb62781f22c42f0a5a4687e22260caa2723e80bbc1fb52c8fa10"
   }
  }
 },
 "nbformat": 4,
 "nbformat_minor": 2
}
