{
 "cells": [
  {
   "cell_type": "code",
   "execution_count": 1,
   "metadata": {},
   "outputs": [],
   "source": [
    "import pandas as pd\n",
    "import matplotlib.pyplot as plt\n",
    "import seaborn as sns"
   ]
  },
  {
   "cell_type": "code",
   "execution_count": 2,
   "metadata": {},
   "outputs": [],
   "source": [
    "pre = pd.read_excel('EP47_45degree_FFP.xlsx')\n",
    "next = pd.read_excel('EP47_45degree_PR.xlsx',sheet_name='Test Result')"
   ]
  },
  {
   "cell_type": "code",
   "execution_count": 3,
   "metadata": {},
   "outputs": [
    {
     "data": {
      "text/html": [
       "<div>\n",
       "<style scoped>\n",
       "    .dataframe tbody tr th:only-of-type {\n",
       "        vertical-align: middle;\n",
       "    }\n",
       "\n",
       "    .dataframe tbody tr th {\n",
       "        vertical-align: top;\n",
       "    }\n",
       "\n",
       "    .dataframe thead th {\n",
       "        text-align: right;\n",
       "    }\n",
       "</style>\n",
       "<table border=\"1\" class=\"dataframe\">\n",
       "  <thead>\n",
       "    <tr style=\"text-align: right;\">\n",
       "      <th></th>\n",
       "      <th>ItemName Type</th>\n",
       "      <th>Process Type</th>\n",
       "      <th>Item</th>\n",
       "      <th>ItemName</th>\n",
       "      <th>Count/Count ESN</th>\n",
       "      <th>Retest%</th>\n",
       "    </tr>\n",
       "  </thead>\n",
       "  <tbody>\n",
       "    <tr>\n",
       "      <th>49</th>\n",
       "      <td>17812</td>\n",
       "      <td>Epix_Pro_ProdScan_Pack</td>\n",
       "      <td>77</td>\n",
       "      <td>Double check SN from barcode</td>\n",
       "      <td>2/383</td>\n",
       "      <td>0.52</td>\n",
       "    </tr>\n",
       "    <tr>\n",
       "      <th>54</th>\n",
       "      <td>17822</td>\n",
       "      <td>Epix_Pro_ALS</td>\n",
       "      <td>6</td>\n",
       "      <td>ALS Luminance (WLED OFF)</td>\n",
       "      <td>2/438</td>\n",
       "      <td>0.46</td>\n",
       "    </tr>\n",
       "    <tr>\n",
       "      <th>48</th>\n",
       "      <td>17812</td>\n",
       "      <td>Epix_Pro_ProdScan_Pack</td>\n",
       "      <td>54</td>\n",
       "      <td>Check Wifi Country Code</td>\n",
       "      <td>2/383</td>\n",
       "      <td>0.52</td>\n",
       "    </tr>\n",
       "  </tbody>\n",
       "</table>\n",
       "</div>"
      ],
      "text/plain": [
       "    ItemName Type            Process Type  Item                      ItemName  \\\n",
       "49          17812  Epix_Pro_ProdScan_Pack    77  Double check SN from barcode   \n",
       "54          17822            Epix_Pro_ALS     6      ALS Luminance (WLED OFF)   \n",
       "48          17812  Epix_Pro_ProdScan_Pack    54       Check Wifi Country Code   \n",
       "\n",
       "   Count/Count ESN  Retest%  \n",
       "49           2/383     0.52  \n",
       "54           2/438     0.46  \n",
       "48           2/383     0.52  "
      ]
     },
     "execution_count": 3,
     "metadata": {},
     "output_type": "execute_result"
    }
   ],
   "source": [
    "pre.sample(3)"
   ]
  },
  {
   "cell_type": "code",
   "execution_count": 4,
   "metadata": {},
   "outputs": [
    {
     "data": {
      "text/html": [
       "<div>\n",
       "<style scoped>\n",
       "    .dataframe tbody tr th:only-of-type {\n",
       "        vertical-align: middle;\n",
       "    }\n",
       "\n",
       "    .dataframe tbody tr th {\n",
       "        vertical-align: top;\n",
       "    }\n",
       "\n",
       "    .dataframe thead th {\n",
       "        text-align: right;\n",
       "    }\n",
       "</style>\n",
       "<table border=\"1\" class=\"dataframe\">\n",
       "  <thead>\n",
       "    <tr style=\"text-align: right;\">\n",
       "      <th></th>\n",
       "      <th>ItemName Type</th>\n",
       "      <th>Process Type</th>\n",
       "      <th>Item</th>\n",
       "      <th>ItemName</th>\n",
       "      <th>Count/Count ESN</th>\n",
       "      <th>Retest%</th>\n",
       "    </tr>\n",
       "  </thead>\n",
       "  <tbody>\n",
       "    <tr>\n",
       "      <th>190</th>\n",
       "      <td>18547</td>\n",
       "      <td>Epix_Pro_MultiUpdater</td>\n",
       "      <td>26</td>\n",
       "      <td>Check Boot Block</td>\n",
       "      <td>8/739</td>\n",
       "      <td>1.08</td>\n",
       "    </tr>\n",
       "    <tr>\n",
       "      <th>100</th>\n",
       "      <td>17803</td>\n",
       "      <td>Epix_Pro_FT2</td>\n",
       "      <td>50</td>\n",
       "      <td>外部電流(反插)|VEXT Current(Reverse) BL&amp;OHR On</td>\n",
       "      <td>4/619</td>\n",
       "      <td>0.65</td>\n",
       "    </tr>\n",
       "    <tr>\n",
       "      <th>219</th>\n",
       "      <td>17798</td>\n",
       "      <td>Epix_Pro_AutoATE</td>\n",
       "      <td>34</td>\n",
       "      <td>Keypad Back</td>\n",
       "      <td>3/738</td>\n",
       "      <td>0.41</td>\n",
       "    </tr>\n",
       "    <tr>\n",
       "      <th>176</th>\n",
       "      <td>17800</td>\n",
       "      <td>Epix_Pro_CT</td>\n",
       "      <td>74</td>\n",
       "      <td>Galileo</td>\n",
       "      <td>1/656</td>\n",
       "      <td>0.15</td>\n",
       "    </tr>\n",
       "    <tr>\n",
       "      <th>75</th>\n",
       "      <td>12434</td>\n",
       "      <td>Watch_ClickTest</td>\n",
       "      <td>38</td>\n",
       "      <td>Button4_Stroke</td>\n",
       "      <td>1/91</td>\n",
       "      <td>1.10</td>\n",
       "    </tr>\n",
       "  </tbody>\n",
       "</table>\n",
       "</div>"
      ],
      "text/plain": [
       "     ItemName Type           Process Type  Item  \\\n",
       "190          18547  Epix_Pro_MultiUpdater    26   \n",
       "100          17803           Epix_Pro_FT2    50   \n",
       "219          17798       Epix_Pro_AutoATE    34   \n",
       "176          17800            Epix_Pro_CT    74   \n",
       "75           12434        Watch_ClickTest    38   \n",
       "\n",
       "                                     ItemName Count/Count ESN  Retest%  \n",
       "190                          Check Boot Block           8/739     1.08  \n",
       "100  外部電流(反插)|VEXT Current(Reverse) BL&OHR On           4/619     0.65  \n",
       "219                               Keypad Back           3/738     0.41  \n",
       "176                                   Galileo           1/656     0.15  \n",
       "75                             Button4_Stroke            1/91     1.10  "
      ]
     },
     "execution_count": 4,
     "metadata": {},
     "output_type": "execute_result"
    }
   ],
   "source": [
    "next.sample(5)"
   ]
  },
  {
   "attachments": {},
   "cell_type": "markdown",
   "metadata": {},
   "source": [
    "# Tweak and Filter"
   ]
  },
  {
   "attachments": {},
   "cell_type": "markdown",
   "metadata": {},
   "source": [
    "Blacklist"
   ]
  },
  {
   "cell_type": "code",
   "execution_count": 5,
   "metadata": {},
   "outputs": [],
   "source": [
    "ProcessTypeBlackList = 'Pack|Click|RabbitCard|EasyCard|DeleteBundle|ProdScan|FileCopyer'\n",
    "ItemNameBlackList = 'ESN|Check ProductionMap|Fixture ID'"
   ]
  },
  {
   "attachments": {},
   "cell_type": "markdown",
   "metadata": {},
   "source": [
    "tweak_filter def"
   ]
  },
  {
   "cell_type": "code",
   "execution_count": 6,
   "metadata": {},
   "outputs": [],
   "source": [
    "def tweak(raw):\n",
    "    return(raw\n",
    "    .drop('Comment',axis=1, errors='ignore')\n",
    "    .rename(columns = lambda name : name.replace(\" \",'').replace('/','').replace('%',''))\n",
    "    .sort_values('Retest', ascending=False)\n",
    "    .astype({'ItemNameType':'category','ProcessType':'category','Item':'category','ItemName':'category'})\n",
    "    .assign(CountESN = lambda df : df.CountCountESN.str.split('/').str[1].astype('int16'))\n",
    "    .query(\"~ProcessType.str.contains(@ProcessTypeBlackList) and ~ItemName.str.contains(@ItemNameBlackList)\")\n",
    "    )\n",
    "def tweak_filter(raw):\n",
    "    return(raw\n",
    "    .pipe(tweak)\n",
    "    .query(\"CountESN > CountESN.quantile(0.05)\")\n",
    "    .query(\"Retest >= Retest.mean()\")\n",
    "    )"
   ]
  },
  {
   "cell_type": "code",
   "execution_count": 7,
   "metadata": {},
   "outputs": [],
   "source": [
    "# tweak_filter(next).to_excel('tweak_EP47_45degree_PR.xlsx', index=False)"
   ]
  },
  {
   "attachments": {},
   "cell_type": "markdown",
   "metadata": {},
   "source": [
    "# Merge two phases"
   ]
  },
  {
   "cell_type": "code",
   "execution_count": 8,
   "metadata": {},
   "outputs": [],
   "source": [
    "pre_next = pd.merge(\n",
    "    left=tweak_filter(pre), right=tweak(next), how='left',\n",
    "    left_on=['ItemNameType','ProcessType','Item','ItemName'], right_on=['ItemNameType','ProcessType','Item','ItemName'],\n",
    "    suffixes=['_pre','_next'])"
   ]
  },
  {
   "cell_type": "code",
   "execution_count": 17,
   "metadata": {},
   "outputs": [],
   "source": [
    "# pre_next.to_excel('output.xlsx', index=False)"
   ]
  },
  {
   "attachments": {},
   "cell_type": "markdown",
   "metadata": {},
   "source": [
    "# RetryImprove def"
   ]
  },
  {
   "cell_type": "code",
   "execution_count": 9,
   "metadata": {},
   "outputs": [],
   "source": [
    "def RetryImprove(df):\n",
    "    return((100 * (df.Retest_pre.sum() - df.Retest_next.sum()) / df.Retest_pre.sum()).round(3))"
   ]
  },
  {
   "cell_type": "code",
   "execution_count": 10,
   "metadata": {},
   "outputs": [
    {
     "data": {
      "text/plain": [
       "-40.191"
      ]
     },
     "execution_count": 10,
     "metadata": {},
     "output_type": "execute_result"
    }
   ],
   "source": [
    "RetryImprove(pre_next)"
   ]
  },
  {
   "cell_type": "code",
   "execution_count": 11,
   "metadata": {},
   "outputs": [
    {
     "data": {
      "text/html": [
       "<style type=\"text/css\">\n",
       "#T_b4c0d_row0_col2 {\n",
       "  width: 10em;\n",
       "  background: linear-gradient(90deg, transparent 72.2%, green 72.2%, green 100.0%, transparent 100.0%);\n",
       "}\n",
       "#T_b4c0d_row1_col2 {\n",
       "  width: 10em;\n",
       "  background: linear-gradient(90deg, transparent 72.2%, green 72.2%, green 76.3%, transparent 76.3%);\n",
       "}\n",
       "#T_b4c0d_row2_col2 {\n",
       "  width: 10em;\n",
       "  background: linear-gradient(90deg, transparent 72.2%, green 72.2%, green 75.7%, transparent 75.7%);\n",
       "}\n",
       "#T_b4c0d_row3_col2 {\n",
       "  width: 10em;\n",
       "  background: linear-gradient(90deg, transparent 72.2%, green 72.2%, green 74.3%, transparent 74.3%);\n",
       "}\n",
       "#T_b4c0d_row4_col2 {\n",
       "  width: 10em;\n",
       "  background: linear-gradient(90deg, transparent 72.2%, green 72.2%, green 73.1%, transparent 73.1%);\n",
       "}\n",
       "#T_b4c0d_row5_col2 {\n",
       "  width: 10em;\n",
       "  background: linear-gradient(90deg, transparent 72.1%, red 72.1%, red 72.2%, transparent 72.2%);\n",
       "}\n",
       "#T_b4c0d_row6_col2 {\n",
       "  width: 10em;\n",
       "  background: linear-gradient(90deg, transparent 63.0%, red 63.0%, red 72.2%, transparent 72.2%);\n",
       "}\n",
       "#T_b4c0d_row7_col2 {\n",
       "  width: 10em;\n",
       "  background: linear-gradient(90deg, transparent 61.5%, red 61.5%, red 72.2%, transparent 72.2%);\n",
       "}\n",
       "#T_b4c0d_row8_col2 {\n",
       "  width: 10em;\n",
       "  background: linear-gradient(90deg, transparent 42.5%, red 42.5%, red 72.2%, transparent 72.2%);\n",
       "}\n",
       "#T_b4c0d_row9_col2 {\n",
       "  width: 10em;\n",
       "  background: linear-gradient(90deg, transparent 38.3%, red 38.3%, red 72.2%, transparent 72.2%);\n",
       "}\n",
       "#T_b4c0d_row10_col2 {\n",
       "  width: 10em;\n",
       "  background: linear-gradient(90deg, transparent 30.8%, red 30.8%, red 72.2%, transparent 72.2%);\n",
       "}\n",
       "#T_b4c0d_row11_col2 {\n",
       "  width: 10em;\n",
       "  background: linear-gradient(90deg, transparent 16.6%, red 16.6%, red 72.2%, transparent 72.2%);\n",
       "}\n",
       "#T_b4c0d_row12_col2 {\n",
       "  width: 10em;\n",
       "  background: linear-gradient(90deg, transparent 15.5%, red 15.5%, red 72.2%, transparent 72.2%);\n",
       "}\n",
       "#T_b4c0d_row13_col2 {\n",
       "  width: 10em;\n",
       "  background: linear-gradient(90deg, red 72.2%, transparent 72.2%);\n",
       "}\n",
       "</style>\n",
       "<table id=\"T_b4c0d\">\n",
       "  <thead>\n",
       "    <tr>\n",
       "      <th class=\"blank level0\" >&nbsp;</th>\n",
       "      <th id=\"T_b4c0d_level0_col0\" class=\"col_heading level0 col0\" >ProcessType</th>\n",
       "      <th id=\"T_b4c0d_level0_col1\" class=\"col_heading level0 col1\" >ItemName</th>\n",
       "      <th id=\"T_b4c0d_level0_col2\" class=\"col_heading level0 col2\" >diff</th>\n",
       "    </tr>\n",
       "  </thead>\n",
       "  <tbody>\n",
       "    <tr>\n",
       "      <th id=\"T_b4c0d_level0_row0\" class=\"row_heading level0 row0\" >2</th>\n",
       "      <td id=\"T_b4c0d_row0_col0\" class=\"data row0 col0\" >Epix_Pro_FT2</td>\n",
       "      <td id=\"T_b4c0d_row0_col1\" class=\"data row0 col1\" >ANT_power 2450MHz BY REF (sapphire)</td>\n",
       "      <td id=\"T_b4c0d_row0_col2\" class=\"data row0 col2\" >5.940000</td>\n",
       "    </tr>\n",
       "    <tr>\n",
       "      <th id=\"T_b4c0d_level0_row1\" class=\"row_heading level0 row1\" >16</th>\n",
       "      <td id=\"T_b4c0d_row1_col0\" class=\"data row1 col0\" >Epix_Pro_FT1</td>\n",
       "      <td id=\"T_b4c0d_row1_col1\" class=\"data row1 col1\" >006J Comparison</td>\n",
       "      <td id=\"T_b4c0d_row1_col2\" class=\"data row1 col2\" >0.880000</td>\n",
       "    </tr>\n",
       "    <tr>\n",
       "      <th id=\"T_b4c0d_level0_row2\" class=\"row_heading level0 row2\" >21</th>\n",
       "      <td id=\"T_b4c0d_row2_col0\" class=\"data row2 col0\" >Epix_Pro_Baro</td>\n",
       "      <td id=\"T_b4c0d_row2_col1\" class=\"data row2 col1\" >1 ATM diff with golden</td>\n",
       "      <td id=\"T_b4c0d_row2_col2\" class=\"data row2 col2\" >0.760000</td>\n",
       "    </tr>\n",
       "    <tr>\n",
       "      <th id=\"T_b4c0d_level0_row3\" class=\"row_heading level0 row3\" >15</th>\n",
       "      <td id=\"T_b4c0d_row3_col0\" class=\"data row3 col0\" >Epix_Pro_FT2</td>\n",
       "      <td id=\"T_b4c0d_row3_col1\" class=\"data row3 col1\" >BLE LESC test|藍芽LESC測試</td>\n",
       "      <td id=\"T_b4c0d_row3_col2\" class=\"data row3 col2\" >0.460000</td>\n",
       "    </tr>\n",
       "    <tr>\n",
       "      <th id=\"T_b4c0d_level0_row4\" class=\"row_heading level0 row4\" >20</th>\n",
       "      <td id=\"T_b4c0d_row4_col0\" class=\"data row4 col0\" >Epix_pro_RTESN</td>\n",
       "      <td id=\"T_b4c0d_row4_col1\" class=\"data row4 col1\" >光學心跳模組檢查|Check OHRM LED</td>\n",
       "      <td id=\"T_b4c0d_row4_col2\" class=\"data row4 col2\" >0.210000</td>\n",
       "    </tr>\n",
       "    <tr>\n",
       "      <th id=\"T_b4c0d_level0_row5\" class=\"row_heading level0 row5\" >13</th>\n",
       "      <td id=\"T_b4c0d_row5_col0\" class=\"data row5 col0\" >Epix_Pro_ECG_ATE</td>\n",
       "      <td id=\"T_b4c0d_row5_col1\" class=\"data row5 col1\" >Motor Resonant Frequency</td>\n",
       "      <td id=\"T_b4c0d_row5_col2\" class=\"data row5 col2\" >-0.020000</td>\n",
       "    </tr>\n",
       "    <tr>\n",
       "      <th id=\"T_b4c0d_level0_row6\" class=\"row_heading level0 row6\" >7</th>\n",
       "      <td id=\"T_b4c0d_row6_col0\" class=\"data row6 col0\" >Epix_Pro_FT2</td>\n",
       "      <td id=\"T_b4c0d_row6_col1\" class=\"data row6 col1\" >Manifest Event Test</td>\n",
       "      <td id=\"T_b4c0d_row6_col2\" class=\"data row6 col2\" >-1.950000</td>\n",
       "    </tr>\n",
       "    <tr>\n",
       "      <th id=\"T_b4c0d_level0_row7\" class=\"row_heading level0 row7\" >0</th>\n",
       "      <td id=\"T_b4c0d_row7_col0\" class=\"data row7 col0\" >Epix_Pro_ECG_FT</td>\n",
       "      <td id=\"T_b4c0d_row7_col1\" class=\"data row7 col1\" >ECG impedance short</td>\n",
       "      <td id=\"T_b4c0d_row7_col2\" class=\"data row7 col2\" >-2.270000</td>\n",
       "    </tr>\n",
       "    <tr>\n",
       "      <th id=\"T_b4c0d_level0_row8\" class=\"row_heading level0 row8\" >19</th>\n",
       "      <td id=\"T_b4c0d_row8_col0\" class=\"data row8 col0\" >Epix_Pro_ATE_TI</td>\n",
       "      <td id=\"T_b4c0d_row8_col1\" class=\"data row8 col1\" >AFE Power Consumption data</td>\n",
       "      <td id=\"T_b4c0d_row8_col2\" class=\"data row8 col2\" >-6.330000</td>\n",
       "    </tr>\n",
       "    <tr>\n",
       "      <th id=\"T_b4c0d_level0_row9\" class=\"row_heading level0 row9\" >10</th>\n",
       "      <td id=\"T_b4c0d_row9_col0\" class=\"data row9 col0\" >Epix_Pro_FT1</td>\n",
       "      <td id=\"T_b4c0d_row9_col1\" class=\"data row9 col1\" >電池電壓|Battery Voltage</td>\n",
       "      <td id=\"T_b4c0d_row9_col2\" class=\"data row9 col2\" >-7.230000</td>\n",
       "    </tr>\n",
       "    <tr>\n",
       "      <th id=\"T_b4c0d_level0_row10\" class=\"row_heading level0 row10\" >18</th>\n",
       "      <td id=\"T_b4c0d_row10_col0\" class=\"data row10 col0\" >Airtight_table</td>\n",
       "      <td id=\"T_b4c0d_row10_col1\" class=\"data row10 col1\" >連續斜率異常_負壓</td>\n",
       "      <td id=\"T_b4c0d_row10_col2\" class=\"data row10 col2\" >-8.820000</td>\n",
       "    </tr>\n",
       "    <tr>\n",
       "      <th id=\"T_b4c0d_level0_row11\" class=\"row_heading level0 row11\" >4</th>\n",
       "      <td id=\"T_b4c0d_row11_col0\" class=\"data row11 col0\" >Epix_Pro_FT1</td>\n",
       "      <td id=\"T_b4c0d_row11_col1\" class=\"data row11 col1\" >GPS_ (L1 + L5) by ref</td>\n",
       "      <td id=\"T_b4c0d_row11_col2\" class=\"data row11 col2\" >-11.840000</td>\n",
       "    </tr>\n",
       "    <tr>\n",
       "      <th id=\"T_b4c0d_level0_row12\" class=\"row_heading level0 row12\" >9</th>\n",
       "      <td id=\"T_b4c0d_row12_col0\" class=\"data row12 col0\" >Epix_Pro_ECG_FT</td>\n",
       "      <td id=\"T_b4c0d_row12_col1\" class=\"data row12 col1\" >ECG RLD 10Hz 500mV Test</td>\n",
       "      <td id=\"T_b4c0d_row12_col2\" class=\"data row12 col2\" >-12.080000</td>\n",
       "    </tr>\n",
       "    <tr>\n",
       "      <th id=\"T_b4c0d_level0_row13\" class=\"row_heading level0 row13\" >3</th>\n",
       "      <td id=\"T_b4c0d_row13_col0\" class=\"data row13 col0\" >Epix_Pro_HT</td>\n",
       "      <td id=\"T_b4c0d_row13_col1\" class=\"data row13 col1\" >GPS_L5 by ref</td>\n",
       "      <td id=\"T_b4c0d_row13_col2\" class=\"data row13 col2\" >-15.390000</td>\n",
       "    </tr>\n",
       "  </tbody>\n",
       "</table>\n"
      ],
      "text/plain": [
       "<pandas.io.formats.style.Styler at 0x20f05ef2f20>"
      ]
     },
     "execution_count": 11,
     "metadata": {},
     "output_type": "execute_result"
    }
   ],
   "source": [
    "def RetryDiff(df):\n",
    "    return(df\n",
    "     .assign(diff = df.Retest_pre - df.Retest_next)\n",
    "     [['ProcessType','ItemName','diff']]\n",
    "     .sort_values('diff', ascending=False)\n",
    "     .dropna(axis=0)\n",
    "     .style.bar('diff', color=['red','green'])\n",
    "     )\n",
    "RetryDiff(pre_next)"
   ]
  },
  {
   "attachments": {},
   "cell_type": "markdown",
   "metadata": {},
   "source": [
    "# Total improvement rate"
   ]
  },
  {
   "cell_type": "code",
   "execution_count": 12,
   "metadata": {},
   "outputs": [
    {
     "data": {
      "text/plain": [
       "-221.22246977754872"
      ]
     },
     "execution_count": 12,
     "metadata": {},
     "output_type": "execute_result"
    }
   ],
   "source": [
    "100*((tweak(pre).Retest.sum() - tweak(next).Retest.sum())/ tweak(pre).Retest.sum())"
   ]
  }
 ],
 "metadata": {
  "kernelspec": {
   "display_name": "workspace3.10",
   "language": "python",
   "name": "python3"
  },
  "language_info": {
   "codemirror_mode": {
    "name": "ipython",
    "version": 3
   },
   "file_extension": ".py",
   "mimetype": "text/x-python",
   "name": "python",
   "nbconvert_exporter": "python",
   "pygments_lexer": "ipython3",
   "version": "3.10.9"
  },
  "orig_nbformat": 4,
  "vscode": {
   "interpreter": {
    "hash": "bf4e218b588bdb62781f22c42f0a5a4687e22260caa2723e80bbc1fb52c8fa10"
   }
  }
 },
 "nbformat": 4,
 "nbformat_minor": 2
}
