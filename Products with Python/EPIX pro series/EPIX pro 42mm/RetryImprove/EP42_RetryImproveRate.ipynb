{
 "cells": [
  {
   "cell_type": "code",
   "execution_count": 44,
   "metadata": {},
   "outputs": [],
   "source": [
    "import pandas as pd\n",
    "import matplotlib.pyplot as plt\n",
    "import seaborn as sns"
   ]
  },
  {
   "cell_type": "code",
   "execution_count": 45,
   "metadata": {},
   "outputs": [],
   "source": [
    "pre = pd.read_excel('EP42_45degree_FFP.xlsx')\n",
    "next = pd.read_excel('Epix42_PR_45degree.xlsx')"
   ]
  },
  {
   "cell_type": "code",
   "execution_count": 46,
   "metadata": {},
   "outputs": [
    {
     "data": {
      "text/html": [
       "<div>\n",
       "<style scoped>\n",
       "    .dataframe tbody tr th:only-of-type {\n",
       "        vertical-align: middle;\n",
       "    }\n",
       "\n",
       "    .dataframe tbody tr th {\n",
       "        vertical-align: top;\n",
       "    }\n",
       "\n",
       "    .dataframe thead th {\n",
       "        text-align: right;\n",
       "    }\n",
       "</style>\n",
       "<table border=\"1\" class=\"dataframe\">\n",
       "  <thead>\n",
       "    <tr style=\"text-align: right;\">\n",
       "      <th></th>\n",
       "      <th>ItemName Type</th>\n",
       "      <th>Process Type</th>\n",
       "      <th>Item</th>\n",
       "      <th>ItemName</th>\n",
       "      <th>Count/Count ESN</th>\n",
       "      <th>Retest%</th>\n",
       "    </tr>\n",
       "  </thead>\n",
       "  <tbody>\n",
       "    <tr>\n",
       "      <th>103</th>\n",
       "      <td>17803</td>\n",
       "      <td>Epix_Pro_FT2</td>\n",
       "      <td>17</td>\n",
       "      <td>外部電流(discharging)|VEXT Current(discharging)</td>\n",
       "      <td>2/404</td>\n",
       "      <td>0.50</td>\n",
       "    </tr>\n",
       "    <tr>\n",
       "      <th>178</th>\n",
       "      <td>17798</td>\n",
       "      <td>Epix_Pro_AutoATE</td>\n",
       "      <td>6</td>\n",
       "      <td>BAT3.3V開機電流|BAT3.3V startup current</td>\n",
       "      <td>1/570</td>\n",
       "      <td>0.18</td>\n",
       "    </tr>\n",
       "    <tr>\n",
       "      <th>183</th>\n",
       "      <td>17798</td>\n",
       "      <td>Epix_Pro_AutoATE</td>\n",
       "      <td>61</td>\n",
       "      <td>VOVSS - High</td>\n",
       "      <td>1/570</td>\n",
       "      <td>0.18</td>\n",
       "    </tr>\n",
       "  </tbody>\n",
       "</table>\n",
       "</div>"
      ],
      "text/plain": [
       "     ItemName Type      Process Type  Item  \\\n",
       "103          17803      Epix_Pro_FT2    17   \n",
       "178          17798  Epix_Pro_AutoATE     6   \n",
       "183          17798  Epix_Pro_AutoATE    61   \n",
       "\n",
       "                                        ItemName Count/Count ESN  Retest%  \n",
       "103  外部電流(discharging)|VEXT Current(discharging)           2/404     0.50  \n",
       "178          BAT3.3V開機電流|BAT3.3V startup current           1/570     0.18  \n",
       "183                                 VOVSS - High           1/570     0.18  "
      ]
     },
     "execution_count": 46,
     "metadata": {},
     "output_type": "execute_result"
    }
   ],
   "source": [
    "pre.sample(3)"
   ]
  },
  {
   "cell_type": "code",
   "execution_count": 47,
   "metadata": {},
   "outputs": [
    {
     "data": {
      "text/html": [
       "<div>\n",
       "<style scoped>\n",
       "    .dataframe tbody tr th:only-of-type {\n",
       "        vertical-align: middle;\n",
       "    }\n",
       "\n",
       "    .dataframe tbody tr th {\n",
       "        vertical-align: top;\n",
       "    }\n",
       "\n",
       "    .dataframe thead th {\n",
       "        text-align: right;\n",
       "    }\n",
       "</style>\n",
       "<table border=\"1\" class=\"dataframe\">\n",
       "  <thead>\n",
       "    <tr style=\"text-align: right;\">\n",
       "      <th></th>\n",
       "      <th>ItemName Type</th>\n",
       "      <th>Process Type</th>\n",
       "      <th>Item</th>\n",
       "      <th>ItemName</th>\n",
       "      <th>Count/Count ESN</th>\n",
       "      <th>Retest%</th>\n",
       "    </tr>\n",
       "  </thead>\n",
       "  <tbody>\n",
       "    <tr>\n",
       "      <th>120</th>\n",
       "      <td>17801</td>\n",
       "      <td>Epix_Pro_HT</td>\n",
       "      <td>47</td>\n",
       "      <td>電池溫度|Battery Temperature non_recheck</td>\n",
       "      <td>4/619</td>\n",
       "      <td>0.65</td>\n",
       "    </tr>\n",
       "    <tr>\n",
       "      <th>100</th>\n",
       "      <td>17859</td>\n",
       "      <td>Epix_Pro_ATE_TI</td>\n",
       "      <td>53</td>\n",
       "      <td>D105 – 540nm Brightness (20mA) Measure diff wi...</td>\n",
       "      <td>7/765</td>\n",
       "      <td>0.92</td>\n",
       "    </tr>\n",
       "    <tr>\n",
       "      <th>202</th>\n",
       "      <td>17822</td>\n",
       "      <td>Epix_Pro_ALS</td>\n",
       "      <td>7</td>\n",
       "      <td>ALS Luminance (WLED ON)</td>\n",
       "      <td>1/562</td>\n",
       "      <td>0.18</td>\n",
       "    </tr>\n",
       "  </tbody>\n",
       "</table>\n",
       "</div>"
      ],
      "text/plain": [
       "     ItemName Type     Process Type  Item  \\\n",
       "120          17801      Epix_Pro_HT    47   \n",
       "100          17859  Epix_Pro_ATE_TI    53   \n",
       "202          17822     Epix_Pro_ALS     7   \n",
       "\n",
       "                                              ItemName Count/Count ESN  \\\n",
       "120               電池溫度|Battery Temperature non_recheck           4/619   \n",
       "100  D105 – 540nm Brightness (20mA) Measure diff wi...           7/765   \n",
       "202                            ALS Luminance (WLED ON)           1/562   \n",
       "\n",
       "     Retest%  \n",
       "120     0.65  \n",
       "100     0.92  \n",
       "202     0.18  "
      ]
     },
     "execution_count": 47,
     "metadata": {},
     "output_type": "execute_result"
    }
   ],
   "source": [
    "next.sample(3)"
   ]
  },
  {
   "attachments": {},
   "cell_type": "markdown",
   "metadata": {},
   "source": [
    "# Tweak and Filter"
   ]
  },
  {
   "attachments": {},
   "cell_type": "markdown",
   "metadata": {},
   "source": [
    "Blacklist"
   ]
  },
  {
   "cell_type": "code",
   "execution_count": 48,
   "metadata": {},
   "outputs": [],
   "source": [
    "ProcessTypeBlackList = 'Pack|Click|RabbitCard|EasyCard|DeleteBundle|ProdScan|FileCopyer'\n",
    "ItemNameBlackList = 'ESN|Check ProductionMap|Fixture ID'"
   ]
  },
  {
   "attachments": {},
   "cell_type": "markdown",
   "metadata": {},
   "source": [
    "tweak_filter def"
   ]
  },
  {
   "cell_type": "code",
   "execution_count": 49,
   "metadata": {},
   "outputs": [],
   "source": [
    "def tweak(raw):\n",
    "    return(raw\n",
    "    .drop('Comment',axis=1, errors='ignore')\n",
    "    .rename(columns = lambda name : name.replace(\" \",'').replace('/','').replace('%',''))\n",
    "    .sort_values('Retest', ascending=False)\n",
    "    .astype({'ItemNameType':'category','ProcessType':'category','Item':'category','ItemName':'category'})\n",
    "    .assign(CountESN = lambda df : df.CountCountESN.str.split('/').str[1].astype('int16'))\n",
    "    .query(\"~ProcessType.str.contains(@ProcessTypeBlackList) and ~ItemName.str.contains(@ItemNameBlackList)\")\n",
    "    )\n",
    "def tweak_filter(raw):\n",
    "    return(raw\n",
    "    .pipe(tweak)\n",
    "    .query(\"CountESN > CountESN.quantile(0.05)\")\n",
    "    .query(\"Retest >= Retest.mean()\")\n",
    "    )"
   ]
  },
  {
   "attachments": {},
   "cell_type": "markdown",
   "metadata": {},
   "source": [
    "# Merge two phases"
   ]
  },
  {
   "cell_type": "code",
   "execution_count": 50,
   "metadata": {},
   "outputs": [],
   "source": [
    "pre_next = pd.merge(\n",
    "    left=tweak_filter(pre), right=tweak(next), how='left',\n",
    "    left_on=['ItemNameType','ProcessType','Item','ItemName'], right_on=['ItemNameType','ProcessType','Item','ItemName'],\n",
    "    suffixes=['_pre','_next'])"
   ]
  },
  {
   "cell_type": "code",
   "execution_count": 51,
   "metadata": {},
   "outputs": [],
   "source": [
    "pre_next.to_excel('output.xlsx', index=False)"
   ]
  },
  {
   "attachments": {},
   "cell_type": "markdown",
   "metadata": {},
   "source": [
    "# RetryImprove def"
   ]
  },
  {
   "cell_type": "code",
   "execution_count": 52,
   "metadata": {},
   "outputs": [],
   "source": [
    "def RetryImprove(df):\n",
    "    return((100 * (df.Retest_pre.sum() - df.Retest_next.sum()) / df.Retest_pre.sum()).round(3))"
   ]
  },
  {
   "cell_type": "code",
   "execution_count": 53,
   "metadata": {},
   "outputs": [
    {
     "data": {
      "text/plain": [
       "60.718"
      ]
     },
     "execution_count": 53,
     "metadata": {},
     "output_type": "execute_result"
    }
   ],
   "source": [
    "RetryImprove(pre_next)"
   ]
  },
  {
   "cell_type": "code",
   "execution_count": 55,
   "metadata": {},
   "outputs": [
    {
     "data": {
      "text/html": [
       "<style type=\"text/css\">\n",
       "#T_c620d_row0_col2 {\n",
       "  width: 10em;\n",
       "  background: linear-gradient(90deg, transparent 35.0%, green 35.0%, green 100.0%, transparent 100.0%);\n",
       "}\n",
       "#T_c620d_row1_col2 {\n",
       "  width: 10em;\n",
       "  background: linear-gradient(90deg, transparent 35.0%, green 35.0%, green 94.1%, transparent 94.1%);\n",
       "}\n",
       "#T_c620d_row2_col2 {\n",
       "  width: 10em;\n",
       "  background: linear-gradient(90deg, transparent 35.0%, green 35.0%, green 87.5%, transparent 87.5%);\n",
       "}\n",
       "#T_c620d_row3_col2 {\n",
       "  width: 10em;\n",
       "  background: linear-gradient(90deg, transparent 35.0%, green 35.0%, green 62.3%, transparent 62.3%);\n",
       "}\n",
       "#T_c620d_row4_col2 {\n",
       "  width: 10em;\n",
       "  background: linear-gradient(90deg, transparent 35.0%, green 35.0%, green 42.2%, transparent 42.2%);\n",
       "}\n",
       "#T_c620d_row5_col2 {\n",
       "  width: 10em;\n",
       "  background: linear-gradient(90deg, transparent 35.0%, green 35.0%, green 40.2%, transparent 40.2%);\n",
       "}\n",
       "#T_c620d_row6_col2 {\n",
       "  width: 10em;\n",
       "  background: linear-gradient(90deg, transparent 35.0%, green 35.0%, green 39.8%, transparent 39.8%);\n",
       "}\n",
       "#T_c620d_row7_col2 {\n",
       "  width: 10em;\n",
       "  background: linear-gradient(90deg, transparent 35.0%, green 35.0%, green 38.6%, transparent 38.6%);\n",
       "}\n",
       "#T_c620d_row8_col2 {\n",
       "  width: 10em;\n",
       "  background: linear-gradient(90deg, transparent 35.0%, green 35.0%, green 37.7%, transparent 37.7%);\n",
       "}\n",
       "#T_c620d_row9_col2 {\n",
       "  width: 10em;\n",
       "  background: linear-gradient(90deg, transparent 33.8%, red 33.8%, red 35.0%, transparent 35.0%);\n",
       "}\n",
       "#T_c620d_row10_col2 {\n",
       "  width: 10em;\n",
       "  background: linear-gradient(90deg, transparent 31.6%, red 31.6%, red 35.0%, transparent 35.0%);\n",
       "}\n",
       "#T_c620d_row11_col2 {\n",
       "  width: 10em;\n",
       "  background: linear-gradient(90deg, transparent 27.6%, red 27.6%, red 35.0%, transparent 35.0%);\n",
       "}\n",
       "#T_c620d_row12_col2 {\n",
       "  width: 10em;\n",
       "  background: linear-gradient(90deg, transparent 21.9%, red 21.9%, red 35.0%, transparent 35.0%);\n",
       "}\n",
       "#T_c620d_row13_col2 {\n",
       "  width: 10em;\n",
       "  background: linear-gradient(90deg, transparent 17.2%, red 17.2%, red 35.0%, transparent 35.0%);\n",
       "}\n",
       "#T_c620d_row14_col2 {\n",
       "  width: 10em;\n",
       "  background: linear-gradient(90deg, red 35.0%, transparent 35.0%);\n",
       "}\n",
       "</style>\n",
       "<table id=\"T_c620d\">\n",
       "  <thead>\n",
       "    <tr>\n",
       "      <th class=\"blank level0\" >&nbsp;</th>\n",
       "      <th id=\"T_c620d_level0_col0\" class=\"col_heading level0 col0\" >ProcessType</th>\n",
       "      <th id=\"T_c620d_level0_col1\" class=\"col_heading level0 col1\" >ItemName</th>\n",
       "      <th id=\"T_c620d_level0_col2\" class=\"col_heading level0 col2\" >diff</th>\n",
       "    </tr>\n",
       "  </thead>\n",
       "  <tbody>\n",
       "    <tr>\n",
       "      <th id=\"T_c620d_level0_row0\" class=\"row_heading level0 row0\" >0</th>\n",
       "      <td id=\"T_c620d_row0_col0\" class=\"data row0 col0\" >Epix_Pro_ECG_FT</td>\n",
       "      <td id=\"T_c620d_row0_col1\" class=\"data row0 col1\" >ECG impedance short</td>\n",
       "      <td id=\"T_c620d_row0_col2\" class=\"data row0 col2\" >15.880000</td>\n",
       "    </tr>\n",
       "    <tr>\n",
       "      <th id=\"T_c620d_level0_row1\" class=\"row_heading level0 row1\" >2</th>\n",
       "      <td id=\"T_c620d_row1_col0\" class=\"data row1 col0\" >Epix_Pro_ATE_TI</td>\n",
       "      <td id=\"T_c620d_row1_col1\" class=\"data row1 col1\" >AFE Power Consumption data</td>\n",
       "      <td id=\"T_c620d_row1_col2\" class=\"data row1 col2\" >14.450000</td>\n",
       "    </tr>\n",
       "    <tr>\n",
       "      <th id=\"T_c620d_level0_row2\" class=\"row_heading level0 row2\" >3</th>\n",
       "      <td id=\"T_c620d_row2_col0\" class=\"data row2 col0\" >Epix_Pro_ATE_TI</td>\n",
       "      <td id=\"T_c620d_row2_col1\" class=\"data row2 col1\" >Temperature Sensor Temperature</td>\n",
       "      <td id=\"T_c620d_row2_col2\" class=\"data row2 col2\" >12.820000</td>\n",
       "    </tr>\n",
       "    <tr>\n",
       "      <th id=\"T_c620d_level0_row3\" class=\"row_heading level0 row3\" >5</th>\n",
       "      <td id=\"T_c620d_row3_col0\" class=\"data row3 col0\" >Epix_Pro_Gyro</td>\n",
       "      <td id=\"T_c620d_row3_col1\" class=\"data row3 col1\" >電池電壓|Battery Voltage</td>\n",
       "      <td id=\"T_c620d_row3_col2\" class=\"data row3 col2\" >6.660000</td>\n",
       "    </tr>\n",
       "    <tr>\n",
       "      <th id=\"T_c620d_level0_row4\" class=\"row_heading level0 row4\" >24</th>\n",
       "      <td id=\"T_c620d_row4_col0\" class=\"data row4 col0\" >Epix_Pro_FT2</td>\n",
       "      <td id=\"T_c620d_row4_col1\" class=\"data row4 col1\" >Power Box Sampling BL on normal(Avg) diff with ATE</td>\n",
       "      <td id=\"T_c620d_row4_col2\" class=\"data row4 col2\" >1.750000</td>\n",
       "    </tr>\n",
       "    <tr>\n",
       "      <th id=\"T_c620d_level0_row5\" class=\"row_heading level0 row5\" >11</th>\n",
       "      <td id=\"T_c620d_row5_col0\" class=\"data row5 col0\" >Epix_Pro_FT1</td>\n",
       "      <td id=\"T_c620d_row5_col1\" class=\"data row5 col1\" >GPS_ (L1 + L5) by ref</td>\n",
       "      <td id=\"T_c620d_row5_col2\" class=\"data row5 col2\" >1.270000</td>\n",
       "    </tr>\n",
       "    <tr>\n",
       "      <th id=\"T_c620d_level0_row6\" class=\"row_heading level0 row6\" >18</th>\n",
       "      <td id=\"T_c620d_row6_col0\" class=\"data row6 col0\" >Epix_Pro_Gyro</td>\n",
       "      <td id=\"T_c620d_row6_col1\" class=\"data row6 col1\" >Check FT3 Test Data</td>\n",
       "      <td id=\"T_c620d_row6_col2\" class=\"data row6 col2\" >1.170000</td>\n",
       "    </tr>\n",
       "    <tr>\n",
       "      <th id=\"T_c620d_level0_row7\" class=\"row_heading level0 row7\" >20</th>\n",
       "      <td id=\"T_c620d_row7_col0\" class=\"data row7 col0\" >Epix_Pro_FT2</td>\n",
       "      <td id=\"T_c620d_row7_col1\" class=\"data row7 col1\" >ANT_power 2450MHz</td>\n",
       "      <td id=\"T_c620d_row7_col2\" class=\"data row7 col2\" >0.880000</td>\n",
       "    </tr>\n",
       "    <tr>\n",
       "      <th id=\"T_c620d_level0_row8\" class=\"row_heading level0 row8\" >17</th>\n",
       "      <td id=\"T_c620d_row8_col0\" class=\"data row8 col0\" >Epix_Pro_ATE_TI</td>\n",
       "      <td id=\"T_c620d_row8_col1\" class=\"data row8 col1\" >AFE Power Consumption Test</td>\n",
       "      <td id=\"T_c620d_row8_col2\" class=\"data row8 col2\" >0.670000</td>\n",
       "    </tr>\n",
       "    <tr>\n",
       "      <th id=\"T_c620d_level0_row9\" class=\"row_heading level0 row9\" >15</th>\n",
       "      <td id=\"T_c620d_row9_col0\" class=\"data row9 col0\" >Epix_Pro_FT1</td>\n",
       "      <td id=\"T_c620d_row9_col1\" class=\"data row9 col1\" >006J Comparison</td>\n",
       "      <td id=\"T_c620d_row9_col2\" class=\"data row9 col2\" >-0.300000</td>\n",
       "    </tr>\n",
       "    <tr>\n",
       "      <th id=\"T_c620d_level0_row10\" class=\"row_heading level0 row10\" >16</th>\n",
       "      <td id=\"T_c620d_row10_col0\" class=\"data row10 col0\" >Airtight_table</td>\n",
       "      <td id=\"T_c620d_row10_col1\" class=\"data row10 col1\" >連續斜率異常_正壓</td>\n",
       "      <td id=\"T_c620d_row10_col2\" class=\"data row10 col2\" >-0.840000</td>\n",
       "    </tr>\n",
       "    <tr>\n",
       "      <th id=\"T_c620d_level0_row11\" class=\"row_heading level0 row11\" >13</th>\n",
       "      <td id=\"T_c620d_row11_col0\" class=\"data row11 col0\" >Epix_Pro_FT2</td>\n",
       "      <td id=\"T_c620d_row11_col1\" class=\"data row11 col1\" >ANT_power 2450MHz BY REF (sapphire)</td>\n",
       "      <td id=\"T_c620d_row11_col2\" class=\"data row11 col2\" >-1.810000</td>\n",
       "    </tr>\n",
       "    <tr>\n",
       "      <th id=\"T_c620d_level0_row12\" class=\"row_heading level0 row12\" >23</th>\n",
       "      <td id=\"T_c620d_row12_col0\" class=\"data row12 col0\" >Airtight_table</td>\n",
       "      <td id=\"T_c620d_row12_col1\" class=\"data row12 col1\" >連續斜率異常_負壓</td>\n",
       "      <td id=\"T_c620d_row12_col2\" class=\"data row12 col2\" >-3.210000</td>\n",
       "    </tr>\n",
       "    <tr>\n",
       "      <th id=\"T_c620d_level0_row13\" class=\"row_heading level0 row13\" >12</th>\n",
       "      <td id=\"T_c620d_row13_col0\" class=\"data row13 col0\" >Epix_Pro_HT</td>\n",
       "      <td id=\"T_c620d_row13_col1\" class=\"data row13 col1\" >GPS_L5 by ref</td>\n",
       "      <td id=\"T_c620d_row13_col2\" class=\"data row13 col2\" >-4.340000</td>\n",
       "    </tr>\n",
       "    <tr>\n",
       "      <th id=\"T_c620d_level0_row14\" class=\"row_heading level0 row14\" >26</th>\n",
       "      <td id=\"T_c620d_row14_col0\" class=\"data row14 col0\" >Epix_pro_RTESN</td>\n",
       "      <td id=\"T_c620d_row14_col1\" class=\"data row14 col1\" >光學心跳模組檢查|Check OHRM LED</td>\n",
       "      <td id=\"T_c620d_row14_col2\" class=\"data row14 col2\" >-8.550000</td>\n",
       "    </tr>\n",
       "  </tbody>\n",
       "</table>\n"
      ],
      "text/plain": [
       "<pandas.io.formats.style.Styler at 0x26bd4833bb0>"
      ]
     },
     "execution_count": 55,
     "metadata": {},
     "output_type": "execute_result"
    }
   ],
   "source": [
    "def RetryDiff(df):\n",
    "    return(df\n",
    "     .assign(diff = df.Retest_pre - df.Retest_next)\n",
    "     [['ProcessType','ItemName','diff']]\n",
    "     .sort_values('diff', ascending=False)\n",
    "     .dropna(axis=0)\n",
    "     .style.bar('diff', color=['red','green'])\n",
    "     )\n",
    "RetryDiff(pre_next)"
   ]
  },
  {
   "attachments": {},
   "cell_type": "markdown",
   "metadata": {},
   "source": [
    "# Total improvement rate"
   ]
  },
  {
   "cell_type": "code",
   "execution_count": 54,
   "metadata": {},
   "outputs": [
    {
     "data": {
      "text/plain": [
       "14.99408434040396"
      ]
     },
     "execution_count": 54,
     "metadata": {},
     "output_type": "execute_result"
    }
   ],
   "source": [
    "100*((tweak(pre).Retest.sum() - tweak(next).Retest.sum())/ tweak(pre).Retest.sum())"
   ]
  }
 ],
 "metadata": {
  "kernelspec": {
   "display_name": "workspace3.10",
   "language": "python",
   "name": "python3"
  },
  "language_info": {
   "codemirror_mode": {
    "name": "ipython",
    "version": 3
   },
   "file_extension": ".py",
   "mimetype": "text/x-python",
   "name": "python",
   "nbconvert_exporter": "python",
   "pygments_lexer": "ipython3",
   "version": "3.10.9"
  },
  "orig_nbformat": 4,
  "vscode": {
   "interpreter": {
    "hash": "bf4e218b588bdb62781f22c42f0a5a4687e22260caa2723e80bbc1fb52c8fa10"
   }
  }
 },
 "nbformat": 4,
 "nbformat_minor": 2
}
