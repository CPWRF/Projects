{
 "cells": [
  {
   "cell_type": "code",
   "execution_count": 1,
   "metadata": {},
   "outputs": [],
   "source": [
    "import pandas as pd"
   ]
  },
  {
   "cell_type": "code",
   "execution_count": 2,
   "metadata": {},
   "outputs": [
    {
     "name": "stderr",
     "output_type": "stream",
     "text": [
      "c:\\Users\\wangcooper\\Miniconda3\\envs\\workspace3.10\\lib\\site-packages\\openpyxl\\worksheet\\header_footer.py:48: UserWarning: Cannot parse header or footer so it will be ignored\n",
      "  warn(\"\"\"Cannot parse header or footer so it will be ignored\"\"\")\n"
     ]
    }
   ],
   "source": [
    "df = pd.read_excel('BOM.xlsx')"
   ]
  },
  {
   "cell_type": "code",
   "execution_count": 4,
   "metadata": {},
   "outputs": [
    {
     "data": {
      "text/html": [
       "<div>\n",
       "<style scoped>\n",
       "    .dataframe tbody tr th:only-of-type {\n",
       "        vertical-align: middle;\n",
       "    }\n",
       "\n",
       "    .dataframe tbody tr th {\n",
       "        vertical-align: top;\n",
       "    }\n",
       "\n",
       "    .dataframe thead th {\n",
       "        text-align: right;\n",
       "    }\n",
       "</style>\n",
       "<table border=\"1\" class=\"dataframe\">\n",
       "  <thead>\n",
       "    <tr style=\"text-align: right;\">\n",
       "      <th></th>\n",
       "      <th>Level</th>\n",
       "      <th>[ v ]</th>\n",
       "      <th>GPN</th>\n",
       "      <th>Desc</th>\n",
       "      <th>Comments</th>\n",
       "      <th>Rev</th>\n",
       "      <th>Status</th>\n",
       "      <th>QTY</th>\n",
       "      <th>UOM</th>\n",
       "      <th>RoHS</th>\n",
       "      <th>...</th>\n",
       "      <th>AOER</th>\n",
       "      <th>Onhand</th>\n",
       "      <th>Make/Buy</th>\n",
       "      <th>OSP</th>\n",
       "      <th>Item Type</th>\n",
       "      <th>Supply Type</th>\n",
       "      <th>FIFO</th>\n",
       "      <th>Effective Date</th>\n",
       "      <th>Disable Date</th>\n",
       "      <th>ASSY GPN</th>\n",
       "    </tr>\n",
       "  </thead>\n",
       "  <tbody>\n",
       "    <tr>\n",
       "      <th>29</th>\n",
       "      <td>1</td>\n",
       "      <td>NaN</td>\n",
       "      <td>006-D6888-08</td>\n",
       "      <td>DB, Unit Type, IOP Program, 0x08</td>\n",
       "      <td>REFERENCE DOCUMENT</td>\n",
       "      <td>0C</td>\n",
       "      <td>RELEASE</td>\n",
       "      <td>0.0</td>\n",
       "      <td>EA</td>\n",
       "      <td>RNA</td>\n",
       "      <td>...</td>\n",
       "      <td>N</td>\n",
       "      <td>0.0</td>\n",
       "      <td>Buy</td>\n",
       "      <td>N</td>\n",
       "      <td>Non Inventory</td>\n",
       "      <td>Phantom</td>\n",
       "      <td>N</td>\n",
       "      <td>2023/09/10</td>\n",
       "      <td>NaN</td>\n",
       "      <td>010-02863-30</td>\n",
       "    </tr>\n",
       "    <tr>\n",
       "      <th>30</th>\n",
       "      <td>1</td>\n",
       "      <td>NaN</td>\n",
       "      <td>006-J1882-00</td>\n",
       "      <td>BOM, Forerunner 165 Music, NA/AUS/NZ</td>\n",
       "      <td>REFERENCE DOCUMENT</td>\n",
       "      <td>005</td>\n",
       "      <td>EXPER</td>\n",
       "      <td>0.0</td>\n",
       "      <td>EA</td>\n",
       "      <td>RNA</td>\n",
       "      <td>...</td>\n",
       "      <td>N</td>\n",
       "      <td>0.0</td>\n",
       "      <td>Buy</td>\n",
       "      <td>N</td>\n",
       "      <td>Non Inventory</td>\n",
       "      <td>Phantom</td>\n",
       "      <td>N</td>\n",
       "      <td>2023/09/10</td>\n",
       "      <td>NaN</td>\n",
       "      <td>010-02863-30</td>\n",
       "    </tr>\n",
       "  </tbody>\n",
       "</table>\n",
       "<p>2 rows × 21 columns</p>\n",
       "</div>"
      ],
      "text/plain": [
       "    Level  [ v ]           GPN                                  Desc  \\\n",
       "29      1    NaN  006-D6888-08      DB, Unit Type, IOP Program, 0x08   \n",
       "30      1    NaN  006-J1882-00  BOM, Forerunner 165 Music, NA/AUS/NZ   \n",
       "\n",
       "              Comments  Rev   Status  QTY UOM RoHS  ... AOER Onhand  Make/Buy  \\\n",
       "29  REFERENCE DOCUMENT   0C  RELEASE  0.0  EA  RNA  ...    N    0.0       Buy   \n",
       "30  REFERENCE DOCUMENT  005    EXPER  0.0  EA  RNA  ...    N    0.0       Buy   \n",
       "\n",
       "   OSP      Item Type Supply Type FIFO Effective Date Disable Date  \\\n",
       "29   N  Non Inventory     Phantom    N     2023/09/10          NaN   \n",
       "30   N  Non Inventory     Phantom    N     2023/09/10          NaN   \n",
       "\n",
       "        ASSY GPN  \n",
       "29  010-02863-30  \n",
       "30  010-02863-30  \n",
       "\n",
       "[2 rows x 21 columns]"
      ]
     },
     "execution_count": 4,
     "metadata": {},
     "output_type": "execute_result"
    }
   ],
   "source": [
    "(df\n",
    " .query(\"GPN.str.startswith('006-')\")\n",
    " )"
   ]
  },
  {
   "cell_type": "code",
   "execution_count": null,
   "metadata": {},
   "outputs": [],
   "source": []
  }
 ],
 "metadata": {
  "kernelspec": {
   "display_name": "workspace3.10",
   "language": "python",
   "name": "python3"
  },
  "language_info": {
   "codemirror_mode": {
    "name": "ipython",
    "version": 3
   },
   "file_extension": ".py",
   "mimetype": "text/x-python",
   "name": "python",
   "nbconvert_exporter": "python",
   "pygments_lexer": "ipython3",
   "version": "3.10.9"
  },
  "orig_nbformat": 4
 },
 "nbformat": 4,
 "nbformat_minor": 2
}
