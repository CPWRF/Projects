{
 "cells": [
  {
   "cell_type": "code",
   "execution_count": 1,
   "metadata": {},
   "outputs": [],
   "source": [
    "from reliability.Reliability_testing import sample_size_no_failures"
   ]
  },
  {
   "cell_type": "code",
   "execution_count": 3,
   "metadata": {},
   "outputs": [
    {
     "name": "stdout",
     "output_type": "stream",
     "text": [
      "\u001b[1m\u001b[23m\u001b[4m\u001b[49m\u001b[39mResults from sample_size_no_failures:\u001b[0m\n",
      "To achieve the desired reliability of 0.98 with a 95% lower confidence bound, the required sample size to test is 149 items.\n",
      "\n",
      "This result is based on a specified weibull shape parameter of 1 and an equivalent test duration of 1 lifetime.\n",
      "If there are any failures during this test, then the desired lower confidence bound will not be achieved.\n",
      "If this occurs, use the function Reliability_testing.one_sample_proportion to determine the lower and upper bounds on reliability.\n"
     ]
    },
    {
     "data": {
      "text/plain": [
       "149"
      ]
     },
     "execution_count": 3,
     "metadata": {},
     "output_type": "execute_result"
    }
   ],
   "source": [
    "sample_size_no_failures(0.98)"
   ]
  }
 ],
 "metadata": {
  "kernelspec": {
   "display_name": "workspace3.10",
   "language": "python",
   "name": "python3"
  },
  "language_info": {
   "codemirror_mode": {
    "name": "ipython",
    "version": 3
   },
   "file_extension": ".py",
   "mimetype": "text/x-python",
   "name": "python",
   "nbconvert_exporter": "python",
   "pygments_lexer": "ipython3",
   "version": "3.10.9"
  },
  "orig_nbformat": 4
 },
 "nbformat": 4,
 "nbformat_minor": 2
}
