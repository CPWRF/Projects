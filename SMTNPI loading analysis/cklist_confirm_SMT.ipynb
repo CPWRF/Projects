{
 "cells": [
  {
   "cell_type": "code",
   "execution_count": 1,
   "id": "b2cb5600",
   "metadata": {},
   "outputs": [],
   "source": [
    "import pyodbc\n",
    "from numpy import vectorize\n",
    "import pandas as pd\n",
    "import matplotlib.pyplot as plt\n",
    "from pandas.tseries.offsets import BDay\n",
    "from datetime import datetime\n",
    "from os import getcwd\n",
    "from sqlalchemy.engine import URL\n",
    "from sqlalchemy import create_engine\n",
    "from UliPlot.XLSX import auto_adjust_xlsx_column_width"
   ]
  },
  {
   "cell_type": "markdown",
   "id": "c6104b35",
   "metadata": {},
   "source": [
    "SQL"
   ]
  },
  {
   "cell_type": "code",
   "execution_count": 2,
   "id": "8f0266fe",
   "metadata": {
    "lines_to_next_cell": 2
   },
   "outputs": [],
   "source": [
    "# Get GMLA list and GMLA system date\n",
    "cklist_confirm_query = \"\"\" \n",
    "SELECT [projectSizeId]\n",
    "      ,[PROJECT_SIZE_NAME] as 'Project_Name'\n",
    "      ,[PROJECT_CATEGORY] as 'Segment'\n",
    "      ,LEFT([typeName],4) + Right([typeName],1) as 'Phase'\n",
    "      ,[status]\n",
    "      /*,[rejectReason]*/\n",
    "      /*,[kickOffMeetingDate]*/\n",
    "      ,[baseOverDueDate] as 'actualCloseMeetingDate'\n",
    "      /*,[submitDate] as 'actualGMLASubmitDate'*/\n",
    "      /*,[IsByPass]*/\n",
    "  FROM [PR_WEB2].[dbo].[T_GMLA_CKLIST_CONFIRM]\n",
    "\n",
    "  LEFT JOIN [PR_WEB2].[dbo].[T_PS_ProdSizeRelateInfo]\n",
    "  on projectSizeId = PROJECT_SIZE_ID\n",
    "  /* Join project names and segment */\n",
    "\n",
    "  LEFT JOIN [PR_WEB2].[dbo].[T_GMLA_BS_VERSION_TYPE]\n",
    "  ON typeId = [PR_WEB2].[dbo].[T_GMLA_BS_VERSION_TYPE].id\n",
    "  /* Join GMLA#1/#2/#3 name*/\n",
    "\n",
    "  WHERE [IsByPass] = '0'\n",
    "\"\"\"\n",
    "\n",
    "# Get design review date which sync PM system\n",
    "project_schedule_query = \"\"\" \n",
    "SELECT [ProjectSizeId] as 'projectSizeId'\n",
    "      /*\n",
    "      ,[PROJECT_NAME]\n",
    "      ,[T_GT_ProjectSchedule].[TASK_ID]\n",
    "      */\n",
    "      ,[DESC_OF_TASK]\n",
    "      /*\n",
    "      ,[T_GT_TaskBaseInfo].[Note]\n",
    "      ,[IsPM]\n",
    "      */\n",
    "      ,DATEADD(DAY,-21,[Current_Date]) as 'estCloseMeetingDate'\n",
    "      /* Design review -21 days */\n",
    "  FROM [PR_WEB2].[dbo].[T_GT_ProjectSchedule]\n",
    "\n",
    "  LEFT JOIN [PR_WEB2].[dbo].[T_GT_TaskBaseInfo] \n",
    "  ON [T_GT_ProjectSchedule].[TASK_ID] = [T_GT_TaskBaseInfo].TASK_ID\n",
    "\n",
    "  LEFT JOIN [PR_WEB2].[dbo].[T_PS_ProdSizeRelateInfo]\n",
    "  on ProjectSizeId = [T_PS_ProdSizeRelateInfo].PROJECT_SIZE_ID\n",
    "  \n",
    "  WHERE DESC_OF_TASK\n",
    "  IN ('Mechanical Design Review','Factory Prototype Design Review','Pilot Run Design Review')\n",
    "\"\"\""
   ]
  },
  {
   "cell_type": "code",
   "execution_count": 3,
   "id": "237d6f9b",
   "metadata": {},
   "outputs": [],
   "source": [
    "connection_string = \"DRIVER={SQL Server};SERVER=T1-PE-SUPPORT;DATABASE=PR_WEB2;UID=pieng;PWD=Q2iT5cwHJW3FH\"\n",
    "connection_url = URL.create(\"mssql+pyodbc\", query={\"odbc_connect\": connection_string})\n",
    "engine = create_engine(connection_url)\n",
    "\n",
    "cklist_confirm = pd.read_sql(cklist_confirm_query, engine)\n",
    "project_schedule = pd.read_sql(project_schedule_query, engine, parse_dates='estCloseMeetingDate')"
   ]
  },
  {
   "cell_type": "markdown",
   "id": "b7756e31",
   "metadata": {},
   "source": [
    "Handle cKlist_confirm"
   ]
  },
  {
   "cell_type": "code",
   "execution_count": 4,
   "id": "0ca7b04f",
   "metadata": {},
   "outputs": [],
   "source": [
    "cklist_confirm.loc[cklist_confirm.actualCloseMeetingDate.str.startswith('0001-01', na=False),'actualCloseMeetingDate'] = None"
   ]
  },
  {
   "cell_type": "code",
   "execution_count": 5,
   "id": "f7016a3b",
   "metadata": {},
   "outputs": [
    {
     "data": {
      "text/html": [
       "<div>\n",
       "<style scoped>\n",
       "    .dataframe tbody tr th:only-of-type {\n",
       "        vertical-align: middle;\n",
       "    }\n",
       "\n",
       "    .dataframe tbody tr th {\n",
       "        vertical-align: top;\n",
       "    }\n",
       "\n",
       "    .dataframe thead th {\n",
       "        text-align: right;\n",
       "    }\n",
       "</style>\n",
       "<table border=\"1\" class=\"dataframe\">\n",
       "  <thead>\n",
       "    <tr style=\"text-align: right;\">\n",
       "      <th></th>\n",
       "      <th>projectSizeId</th>\n",
       "      <th>Project_Name</th>\n",
       "      <th>Segment</th>\n",
       "      <th>Phase</th>\n",
       "      <th>status</th>\n",
       "      <th>actualCloseMeetingDate</th>\n",
       "    </tr>\n",
       "  </thead>\n",
       "  <tbody>\n",
       "    <tr>\n",
       "      <th>0</th>\n",
       "      <td>766</td>\n",
       "      <td>GAD 13</td>\n",
       "      <td>Aviation</td>\n",
       "      <td>GMLA1</td>\n",
       "      <td>0</td>\n",
       "      <td>NaT</td>\n",
       "    </tr>\n",
       "    <tr>\n",
       "      <th>1</th>\n",
       "      <td>766</td>\n",
       "      <td>GAD 13</td>\n",
       "      <td>Aviation</td>\n",
       "      <td>GMLA2</td>\n",
       "      <td>0</td>\n",
       "      <td>NaT</td>\n",
       "    </tr>\n",
       "    <tr>\n",
       "      <th>2</th>\n",
       "      <td>766</td>\n",
       "      <td>GAD 13</td>\n",
       "      <td>Aviation</td>\n",
       "      <td>GMLA3</td>\n",
       "      <td>0</td>\n",
       "      <td>NaT</td>\n",
       "    </tr>\n",
       "    <tr>\n",
       "      <th>3</th>\n",
       "      <td>909</td>\n",
       "      <td>One Battery Bike Project</td>\n",
       "      <td>Fitness</td>\n",
       "      <td>GMLA3</td>\n",
       "      <td>1</td>\n",
       "      <td>2021-02-05 00:00:00+08:00</td>\n",
       "    </tr>\n",
       "    <tr>\n",
       "      <th>4</th>\n",
       "      <td>936</td>\n",
       "      <td>Edge 1040</td>\n",
       "      <td>Fitness</td>\n",
       "      <td>GMLA1</td>\n",
       "      <td>1</td>\n",
       "      <td>2021-02-05 00:00:00+08:00</td>\n",
       "    </tr>\n",
       "  </tbody>\n",
       "</table>\n",
       "</div>"
      ],
      "text/plain": [
       "   projectSizeId              Project_Name   Segment  Phase  status  \\\n",
       "0            766                    GAD 13  Aviation  GMLA1       0   \n",
       "1            766                    GAD 13  Aviation  GMLA2       0   \n",
       "2            766                    GAD 13  Aviation  GMLA3       0   \n",
       "3            909  One Battery Bike Project   Fitness  GMLA3       1   \n",
       "4            936                 Edge 1040   Fitness  GMLA1       1   \n",
       "\n",
       "     actualCloseMeetingDate  \n",
       "0                       NaT  \n",
       "1                       NaT  \n",
       "2                       NaT  \n",
       "3 2021-02-05 00:00:00+08:00  \n",
       "4 2021-02-05 00:00:00+08:00  "
      ]
     },
     "execution_count": 5,
     "metadata": {},
     "output_type": "execute_result"
    }
   ],
   "source": [
    "cklist_confirm.actualCloseMeetingDate = pd.to_datetime(cklist_confirm.actualCloseMeetingDate, utc=True).dt.tz_convert('Asia/Taipei')\n",
    "#cklist_confirm.actualGMLASubmitDate = pd.to_datetime(cklist_confirm.actualGMLASubmitDate,utc=True).dt.tz_convert('Asia/Taipei')\n",
    "cklist_confirm.head()"
   ]
  },
  {
   "cell_type": "markdown",
   "id": "0dcf1b69",
   "metadata": {},
   "source": [
    "Merge project_schedule"
   ]
  },
  {
   "cell_type": "code",
   "execution_count": 6,
   "id": "0abed3a5",
   "metadata": {
    "lines_to_next_cell": 2
   },
   "outputs": [],
   "source": [
    "project_schedule.estCloseMeetingDate = project_schedule.estCloseMeetingDate.dt.tz_convert('Asia/Taipei')"
   ]
  },
  {
   "cell_type": "code",
   "execution_count": 7,
   "id": "9879d5f4",
   "metadata": {
    "lines_to_next_cell": 2
   },
   "outputs": [],
   "source": [
    "project_schedule['Phase'] = project_schedule.DESC_OF_TASK.map(\n",
    "    {'Mechanical Design Review':'GMLA1','Factory Prototype Design Review':'GMLA2','Pilot Run Design Review':'GMLA3'})\n",
    "project_schedule.drop_duplicates(subset=['projectSizeId','Phase'], inplace=True)\n",
    "# Some project have multi-design review date in PMsystem"
   ]
  },
  {
   "cell_type": "code",
   "execution_count": 8,
   "id": "59ecc8d7",
   "metadata": {
    "lines_to_next_cell": 2
   },
   "outputs": [],
   "source": [
    "overall = pd.merge(left=cklist_confirm, right=project_schedule, how='left', on=['projectSizeId','Phase'])\n",
    "overall.drop('DESC_OF_TASK', axis=1, inplace=True)"
   ]
  },
  {
   "cell_type": "code",
   "execution_count": 9,
   "id": "59b588d4",
   "metadata": {
    "lines_to_next_cell": 2
   },
   "outputs": [],
   "source": [
    "def mergeCloseMeeting(actualCloseMeetingDate, estCloseMeetingDate):\n",
    "    if actualCloseMeetingDate is pd.NaT:\n",
    "        return estCloseMeetingDate\n",
    "    else:\n",
    "        return actualCloseMeetingDate\n",
    "overall['mergedCloseMeetingDate'] = vectorize(mergeCloseMeeting)(overall.actualCloseMeetingDate, overall.estCloseMeetingDate)\n",
    "#overall['mergedCloseMeetingDate'] = overall[['actualCloseMeetingDate','estCloseMeetingDate']].apply(lambda overall : mergeCloseMeeting(overall['actualCloseMeetingDate'], overall['estCloseMeetingDate']),axis=1)"
   ]
  },
  {
   "cell_type": "code",
   "execution_count": 10,
   "id": "78ad071f",
   "metadata": {},
   "outputs": [],
   "source": [
    "overall.iloc[:,5:] = overall.iloc[:,5:].apply(lambda time: pd.to_datetime(time).dt.date)"
   ]
  },
  {
   "cell_type": "code",
   "execution_count": 11,
   "id": "25cb51fb",
   "metadata": {},
   "outputs": [
    {
     "data": {
      "text/html": [
       "<div>\n",
       "<style scoped>\n",
       "    .dataframe tbody tr th:only-of-type {\n",
       "        vertical-align: middle;\n",
       "    }\n",
       "\n",
       "    .dataframe tbody tr th {\n",
       "        vertical-align: top;\n",
       "    }\n",
       "\n",
       "    .dataframe thead th {\n",
       "        text-align: right;\n",
       "    }\n",
       "</style>\n",
       "<table border=\"1\" class=\"dataframe\">\n",
       "  <thead>\n",
       "    <tr style=\"text-align: right;\">\n",
       "      <th></th>\n",
       "      <th>projectSizeId</th>\n",
       "      <th>Project_Name</th>\n",
       "      <th>Segment</th>\n",
       "      <th>Phase</th>\n",
       "      <th>status</th>\n",
       "      <th>actualCloseMeetingDate</th>\n",
       "      <th>estCloseMeetingDate</th>\n",
       "      <th>mergedCloseMeetingDate</th>\n",
       "    </tr>\n",
       "  </thead>\n",
       "  <tbody>\n",
       "    <tr>\n",
       "      <th>0</th>\n",
       "      <td>766</td>\n",
       "      <td>GAD 13</td>\n",
       "      <td>Aviation</td>\n",
       "      <td>GMLA1</td>\n",
       "      <td>0</td>\n",
       "      <td>NaT</td>\n",
       "      <td>NaT</td>\n",
       "      <td>NaT</td>\n",
       "    </tr>\n",
       "    <tr>\n",
       "      <th>1</th>\n",
       "      <td>766</td>\n",
       "      <td>GAD 13</td>\n",
       "      <td>Aviation</td>\n",
       "      <td>GMLA2</td>\n",
       "      <td>0</td>\n",
       "      <td>NaT</td>\n",
       "      <td>NaT</td>\n",
       "      <td>NaT</td>\n",
       "    </tr>\n",
       "    <tr>\n",
       "      <th>2</th>\n",
       "      <td>766</td>\n",
       "      <td>GAD 13</td>\n",
       "      <td>Aviation</td>\n",
       "      <td>GMLA3</td>\n",
       "      <td>0</td>\n",
       "      <td>NaT</td>\n",
       "      <td>NaT</td>\n",
       "      <td>NaT</td>\n",
       "    </tr>\n",
       "    <tr>\n",
       "      <th>3</th>\n",
       "      <td>909</td>\n",
       "      <td>One Battery Bike Project</td>\n",
       "      <td>Fitness</td>\n",
       "      <td>GMLA3</td>\n",
       "      <td>1</td>\n",
       "      <td>2021-02-05</td>\n",
       "      <td>2021-07-13</td>\n",
       "      <td>2021-02-05</td>\n",
       "    </tr>\n",
       "    <tr>\n",
       "      <th>4</th>\n",
       "      <td>936</td>\n",
       "      <td>Edge 1040</td>\n",
       "      <td>Fitness</td>\n",
       "      <td>GMLA1</td>\n",
       "      <td>1</td>\n",
       "      <td>2021-02-05</td>\n",
       "      <td>2020-10-13</td>\n",
       "      <td>2021-02-05</td>\n",
       "    </tr>\n",
       "  </tbody>\n",
       "</table>\n",
       "</div>"
      ],
      "text/plain": [
       "   projectSizeId              Project_Name   Segment  Phase  status  \\\n",
       "0            766                    GAD 13  Aviation  GMLA1       0   \n",
       "1            766                    GAD 13  Aviation  GMLA2       0   \n",
       "2            766                    GAD 13  Aviation  GMLA3       0   \n",
       "3            909  One Battery Bike Project   Fitness  GMLA3       1   \n",
       "4            936                 Edge 1040   Fitness  GMLA1       1   \n",
       "\n",
       "  actualCloseMeetingDate estCloseMeetingDate mergedCloseMeetingDate  \n",
       "0                    NaT                 NaT                    NaT  \n",
       "1                    NaT                 NaT                    NaT  \n",
       "2                    NaT                 NaT                    NaT  \n",
       "3             2021-02-05          2021-07-13             2021-02-05  \n",
       "4             2021-02-05          2020-10-13             2021-02-05  "
      ]
     },
     "execution_count": 11,
     "metadata": {},
     "output_type": "execute_result"
    }
   ],
   "source": [
    "overall.head()"
   ]
  },
  {
   "cell_type": "markdown",
   "id": "28adc30e",
   "metadata": {},
   "source": [
    "Load NPI name from PR_web-New Product Status Summary"
   ]
  },
  {
   "cell_type": "code",
   "execution_count": 22,
   "id": "beea4463",
   "metadata": {},
   "outputs": [],
   "source": [
    "name = pd.read_excel('New Production Status Summary.xlsx', header=1)\n",
    "name = name.loc[:,['Project Name','Project Id','SMD PE']]\n",
    "name.dropna(axis=0, inplace=True)"
   ]
  },
  {
   "cell_type": "code",
   "execution_count": 23,
   "id": "86acfd55",
   "metadata": {},
   "outputs": [
    {
     "data": {
      "text/plain": [
       "Shawn.Huang\\n                                        13\n",
       "Anton.Lin\\n                                          11\n",
       "Stephen.Shen\\n                                        9\n",
       "Aaron.Lin\\n                                           8\n",
       "Steve.Chiang\\n                                        7\n",
       "Iris.Wu\\n                                             7\n",
       "Andyjs.Chen\\n                                         6\n",
       "Alex.Pu\\n                                             5\n",
       "Bowman.Lai\\n                                          5\n",
       "Derek.Cheng\\nBowman.Lai\\nStephen.Shen\\n               5\n",
       "Stephen.Shen\\nIris.Wu\\nBowman.Lai\\n                   4\n",
       "Dannyhp.Cheng\\n                                       4\n",
       "Derek.Cheng\\n                                         4\n",
       "PeiRu.Tsai\\n                                          4\n",
       "Stephen.Shen\\nSteve.Chiang\\n                          3\n",
       "Herry.Lan\\nAndyjs.Chen\\n                              3\n",
       "Herry.Lan\\n                                           2\n",
       "Davidsd.Lin\\n                                         2\n",
       "Stephen.Shen\\nSteve.Chiang\\nIris.Wu\\nBowman.Lai\\n     2\n",
       "Iris.Wu\\nBowman.Lai\\n                                 2\n",
       "ShengChi.Wang\\n                                       2\n",
       "Davidsd.Lin\\nDavidsd.Lin\\n                            2\n",
       "Emma.Lin\\n                                            2\n",
       "Daniel.Mao\\n                                          2\n",
       "Shawn.Huang\\nEmma.Lin\\n                               1\n",
       "Scott.Ma\\nAnton.Lin\\n                                 1\n",
       "Anton.Lin\\nHerry.Lan\\n                                1\n",
       "Dannyhp.Cheng\\nEmma.Lin\\n                             1\n",
       "Anton.Lin\\nDaniel.Mao\\n                               1\n",
       "Steve.Chiang\\nStephen.Shen\\n                          1\n",
       "Davidsd.Lin\\nErichw.Wang\\n                            1\n",
       "Shawn.Yu\\n                                            1\n",
       "Derek.Cheng\\nDerek.Cheng\\n                            1\n",
       "Anton.Lin\\nDannyhp.Cheng\\n                            1\n",
       "Erichw.Wang\\n                                         1\n",
       "Davidsd.Lin\\nErichw.Wang\\nDavidsd.Lin\\nWells.Yu\\n     1\n",
       "Dannyhp.Cheng\\nDaniel.Mao\\n                           1\n",
       "Anton.Lin\\nAnton.Lin\\n                                1\n",
       "Daniel.Mao\\nAndyjs.Chen\\n                             1\n",
       "Davidsd.Lin\\nErichw.Wang\\nWells.Yu\\nDavidsd.Lin\\n     1\n",
       "PeiRu.Tsai\\nPeiRu.Tsai\\n                              1\n",
       "Davidsd.Lin\\nErichw.Wang\\nShawn.Yu\\n                  1\n",
       "Shawn.Huang\\nLionel.Wu\\n                              1\n",
       "Name: SMD PE, dtype: int64"
      ]
     },
     "execution_count": 23,
     "metadata": {},
     "output_type": "execute_result"
    }
   ],
   "source": [
    "name['SMD PE'].value_counts()"
   ]
  },
  {
   "cell_type": "code",
   "execution_count": 25,
   "id": "b4377b14",
   "metadata": {},
   "outputs": [
    {
     "data": {
      "text/plain": [
       "0        Davidsd.Lin\\nErichw.Wang\\n\n",
       "1                         Alex.Pu\\n\n",
       "2                         Iris.Wu\\n\n",
       "3                    Stephen.Shen\\n\n",
       "4                     Shawn.Huang\\n\n",
       "                   ...             \n",
       "144                      Emma.Lin\\n\n",
       "145                  Stephen.Shen\\n\n",
       "147                   Shawn.Huang\\n\n",
       "148    Steve.Chiang\\nStephen.Shen\\n\n",
       "149        Shawn.Huang\\nLionel.Wu\\n\n",
       "Name: SMD PE, Length: 133, dtype: object"
      ]
     },
     "execution_count": 25,
     "metadata": {},
     "output_type": "execute_result"
    }
   ],
   "source": [
    "name['SMD PE']"
   ]
  },
  {
   "cell_type": "code",
   "execution_count": 30,
   "id": "4e955cb2",
   "metadata": {},
   "outputs": [
    {
     "data": {
      "text/plain": [
       "0       Davidsd.Lin\n",
       "1           Alex.Pu\n",
       "2           Iris.Wu\n",
       "3      Stephen.Shen\n",
       "4       Shawn.Huang\n",
       "           ...     \n",
       "144        Emma.Lin\n",
       "145    Stephen.Shen\n",
       "147     Shawn.Huang\n",
       "148    Steve.Chiang\n",
       "149     Shawn.Huang\n",
       "Name: SMD PE, Length: 133, dtype: object"
      ]
     },
     "execution_count": 30,
     "metadata": {},
     "output_type": "execute_result"
    }
   ],
   "source": [
    "name['SMD PE'].apply(lambda name : name.split('\\n')[0])"
   ]
  },
  {
   "cell_type": "markdown",
   "id": "8074a680",
   "metadata": {},
   "source": [
    "Excel writer"
   ]
  },
  {
   "cell_type": "code",
   "execution_count": 154,
   "id": "8db7e69d",
   "metadata": {},
   "outputs": [],
   "source": [
    "\n",
    "#with pd.ExcelWriter(getcwd()+'\\data.xlsx', engine='openpyxl') as writer:\n",
    "    #overall_show.to_excel(writer, sheet_name='overall')\n",
    "    #auto_adjust_xlsx_column_width(overall_show, writer, sheet_name=\"overall\", margin=5)\n",
    "    \n",
    "    #complete_rate.to_excel(writer, sheet_name='complete_rate')\n",
    "    #auto_adjust_xlsx_column_width(complete_rate, writer, sheet_name=\"complete_rate\", margin=5)\n",
    "    \n",
    "    #on_time_rate.to_excel(writer, sheet_name='on_time_rate')\n",
    "    #auto_adjust_xlsx_column_width(on_time_rate, writer, sheet_name=\"on_time_rate\", margin=5)"
   ]
  }
 ],
 "metadata": {
  "jupytext": {
   "cell_metadata_filter": "-all",
   "encoding": "# coding: utf-8",
   "executable": "/usr/bin/env python",
   "main_language": "python",
   "notebook_metadata_filter": "-all"
  },
  "kernelspec": {
   "display_name": "Python 3.8.10 ('workspace')",
   "language": "python",
   "name": "python3"
  },
  "language_info": {
   "codemirror_mode": {
    "name": "ipython",
    "version": 3
   },
   "file_extension": ".py",
   "mimetype": "text/x-python",
   "name": "python",
   "nbconvert_exporter": "python",
   "pygments_lexer": "ipython3",
   "version": "3.8.10"
  },
  "vscode": {
   "interpreter": {
    "hash": "d7ba5307f264c9d62b544121f5029238a64acfef4aaa56e4d1098951fb013dec"
   }
  }
 },
 "nbformat": 4,
 "nbformat_minor": 5
}
