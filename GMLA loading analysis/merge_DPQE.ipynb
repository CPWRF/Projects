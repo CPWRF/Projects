{
 "cells": [
  {
   "cell_type": "code",
   "execution_count": 24,
   "metadata": {},
   "outputs": [],
   "source": [
    "import pandas as pd"
   ]
  },
  {
   "cell_type": "code",
   "execution_count": 21,
   "metadata": {},
   "outputs": [],
   "source": [
    "cooper = pd.read_excel('cooper.xls')\n",
    "ernest = pd.read_excel('ernest.xls')\n",
    "aalto = pd.read_excel('aalto.xls')\n",
    "jason = pd.read_excel('jason.xls')\n",
    "chris = pd.read_excel('chris.xls')\n",
    "wendy = pd.read_excel('wendy.xls')\n",
    "evelyn = pd.read_excel('evelyn.xls')"
   ]
  },
  {
   "cell_type": "code",
   "execution_count": 27,
   "metadata": {},
   "outputs": [
    {
     "name": "stderr",
     "output_type": "stream",
     "text": [
      "C:\\Users\\wangcooper\\AppData\\Local\\Temp\\ipykernel_18228\\1015953250.py:1: FutureWarning: The frame.append method is deprecated and will be removed from pandas in a future version. Use pandas.concat instead.\n",
      "  cooper.append(ernest).append(aalto).append(jason).append(chris).append(wendy).append(evelyn).to_excel('(Input) CFTListExport.xls',engine='openpyxl',index=False)\n",
      "C:\\Users\\wangcooper\\AppData\\Local\\Temp\\ipykernel_18228\\1015953250.py:1: FutureWarning: The frame.append method is deprecated and will be removed from pandas in a future version. Use pandas.concat instead.\n",
      "  cooper.append(ernest).append(aalto).append(jason).append(chris).append(wendy).append(evelyn).to_excel('(Input) CFTListExport.xls',engine='openpyxl',index=False)\n",
      "C:\\Users\\wangcooper\\AppData\\Local\\Temp\\ipykernel_18228\\1015953250.py:1: FutureWarning: The frame.append method is deprecated and will be removed from pandas in a future version. Use pandas.concat instead.\n",
      "  cooper.append(ernest).append(aalto).append(jason).append(chris).append(wendy).append(evelyn).to_excel('(Input) CFTListExport.xls',engine='openpyxl',index=False)\n",
      "C:\\Users\\wangcooper\\AppData\\Local\\Temp\\ipykernel_18228\\1015953250.py:1: FutureWarning: The frame.append method is deprecated and will be removed from pandas in a future version. Use pandas.concat instead.\n",
      "  cooper.append(ernest).append(aalto).append(jason).append(chris).append(wendy).append(evelyn).to_excel('(Input) CFTListExport.xls',engine='openpyxl',index=False)\n",
      "C:\\Users\\wangcooper\\AppData\\Local\\Temp\\ipykernel_18228\\1015953250.py:1: FutureWarning: The frame.append method is deprecated and will be removed from pandas in a future version. Use pandas.concat instead.\n",
      "  cooper.append(ernest).append(aalto).append(jason).append(chris).append(wendy).append(evelyn).to_excel('(Input) CFTListExport.xls',engine='openpyxl',index=False)\n"
     ]
    }
   ],
   "source": [
    "cooper.append(ernest).append(aalto).append(jason).append(chris).append(wendy).append(evelyn).to_excel('(Input) CFTListExport.xls',engine='openpyxl',index=False)"
   ]
  }
 ],
 "metadata": {
  "kernelspec": {
   "display_name": "workspace",
   "language": "python",
   "name": "python3"
  },
  "language_info": {
   "codemirror_mode": {
    "name": "ipython",
    "version": 3
   },
   "file_extension": ".py",
   "mimetype": "text/x-python",
   "name": "python",
   "nbconvert_exporter": "python",
   "pygments_lexer": "ipython3",
   "version": "3.8.10"
  },
  "orig_nbformat": 4,
  "vscode": {
   "interpreter": {
    "hash": "d7ba5307f264c9d62b544121f5029238a64acfef4aaa56e4d1098951fb013dec"
   }
  }
 },
 "nbformat": 4,
 "nbformat_minor": 2
}
