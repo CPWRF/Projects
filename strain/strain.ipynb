{
 "cells": [
  {
   "cell_type": "code",
   "execution_count": null,
   "metadata": {},
   "outputs": [
    {
     "ename": "",
     "evalue": "",
     "output_type": "error",
     "traceback": [
      "\u001b[1;31mRunning cells with 'pack2' requires ipykernel package.\n",
      "\u001b[1;31mRun the following command to install 'ipykernel' into the Python environment. \n",
      "\u001b[1;31mCommand: 'conda install -n pack2 ipykernel --update-deps --force-reinstall'"
     ]
    }
   ],
   "source": [
    "import pandas as pd\n",
    "from os import getcwd\n",
    "from sqlalchemy.engine import URL\n",
    "from sqlalchemy import create_engine\n",
    "from UliPlot.XLSX import auto_adjust_xlsx_column_width"
   ]
  },
  {
   "cell_type": "code",
   "execution_count": null,
   "metadata": {},
   "outputs": [
    {
     "ename": "",
     "evalue": "",
     "output_type": "error",
     "traceback": [
      "\u001b[1;31mRunning cells with 'pack2' requires ipykernel package.\n",
      "\u001b[1;31mRun the following command to install 'ipykernel' into the Python environment. \n",
      "\u001b[1;31mCommand: 'conda install -n pack2 ipykernel --update-deps --force-reinstall'"
     ]
    }
   ],
   "source": [
    "strain_query = '''\n",
    "SELECT  [StrainGauge].[gid]\n",
    "      ,[gpn]\n",
    "      ,[ver] as 'PCBver'\n",
    "      ,[toolno]\n",
    "      ,[station]\n",
    "      ,[Position]\n",
    "      ,[TestRecord].judge\n",
    "      ,[TestRecord].stress\n",
    "      ,[TestRecord].WQ211\n",
    "      ,[memo]\n",
    "      ,[org]\n",
    "      ,[createdata]\n",
    "  FROM [SMTvip].[dbo].[StrainGauge]\n",
    "\n",
    "  Left JOIN [SMTvip].[dbo].[TestRecord] \n",
    "  on [StrainGauge].[gid] = [TestRecord].[gid]\n",
    "  where gpn = '105-04263-20'\n",
    "  ORDER by profdate DESC\n",
    "'''\n",
    "\n",
    "connection_string = \"DRIVER={SQL Server};SERVER=T1-PE-SUPPORT;DATABASE=PR_WEB2;UID=pimes2;PWD=LhZEv9JtGsZNX\"\n",
    "connection_url = URL.create(\"mssql+pyodbc\", query={\"odbc_connect\": connection_string})\n",
    "engine = create_engine(connection_url)\n",
    "raw = pd.read_sql(strain_query, engine)"
   ]
  },
  {
   "cell_type": "code",
   "execution_count": null,
   "metadata": {},
   "outputs": [
    {
     "ename": "",
     "evalue": "",
     "output_type": "error",
     "traceback": [
      "\u001b[1;31mRunning cells with 'pack2' requires ipykernel package.\n",
      "\u001b[1;31mRun the following command to install 'ipykernel' into the Python environment. \n",
      "\u001b[1;31mCommand: 'conda install -n pack2 ipykernel --update-deps --force-reinstall'"
     ]
    }
   ],
   "source": [
    "def pivot_raw(raw):\n",
    "    return(raw\n",
    "    .assign(judge = raw.judge.map({'OK':1, 'NG':0}).astype('int8'))\n",
    "    .sort_values('createdata', ascending=False)\n",
    "    .drop_duplicates(subset=['PCBver','station','Position','memo'])\n",
    "    .groupby(['station','memo','PCBver','createdata','Position'])\n",
    "    ['judge']\n",
    "    .sum()\n",
    "    .unstack('Position')\n",
    "    .sort_index(level=['station','createdata'],ascending=False)\n",
    "    .style.applymap(lambda val : \"background-color: red\" if val == 0 else \"\")\n",
    "    )\n",
    "pivot_raw(raw)"
   ]
  }
 ],
 "metadata": {
  "kernelspec": {
   "display_name": "pack2",
   "language": "python",
   "name": "python3"
  },
  "language_info": {
   "codemirror_mode": {
    "name": "ipython",
    "version": 3
   },
   "file_extension": ".py",
   "mimetype": "text/x-python",
   "name": "python",
   "nbconvert_exporter": "python",
   "pygments_lexer": "ipython3",
   "version": "3.8.8 (default, Apr 13 2021, 15:08:03) [MSC v.1916 64 bit (AMD64)]"
  },
  "orig_nbformat": 4,
  "vscode": {
   "interpreter": {
    "hash": "5159f591f6d5bbe0e41ea405ac80421082888f00c650b5674eb06fb0553cd037"
   }
  }
 },
 "nbformat": 4,
 "nbformat_minor": 2
}
